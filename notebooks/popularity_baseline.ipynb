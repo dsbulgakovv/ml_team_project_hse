{
 "nbformat": 4,
 "nbformat_minor": 0,
 "metadata": {
  "colab": {
   "provenance": []
  },
  "kernelspec": {
   "name": "python3",
   "display_name": "Python 3"
  },
  "language_info": {
   "name": "python"
  }
 },
 "cells": [
  {
   "cell_type": "markdown",
   "source": [
    "Данный ноутбук является частью проекта \"Рекомендательные системы с элементами NLP\" команды МОВС ВШЭ"
   ],
   "metadata": {
    "id": "PU3_ScFPNz-f"
   }
  },
  {
   "cell_type": "code",
   "execution_count": 1,
   "metadata": {
    "id": "G619rXS_CK0F"
   },
   "outputs": [],
   "source": [
    "import pandas as pd\n",
    "import numpy as np"
   ]
  },
  {
   "cell_type": "markdown",
   "source": [
    "# Загружаем данные"
   ],
   "metadata": {
    "id": "aHwN0QekCoSl"
   }
  },
  {
   "cell_type": "code",
   "source": [
    "# Загрузим в ноутбук\n",
    "!gdown 1I_uFqSR7TiGp7BfKH6wwnpmiBk1ZAzww\n",
    "!gdown 1CP4deOmpaOqnwdnqZCcZBqpZjBxKDs6l\n",
    "!gdown 1S0Wz20_d-HV9USfxwqmE4FRtkOovs2XK"
   ],
   "metadata": {
    "id": "7HUlC1UAMGMt",
    "outputId": "fb40d85f-4301-4196-dbee-2dbda76cee06",
    "colab": {
     "base_uri": "https://localhost:8080/"
    }
   },
   "execution_count": 2,
   "outputs": [
    {
     "output_type": "stream",
     "name": "stdout",
     "text": [
      "Downloading...\n",
      "From: https://drive.google.com/uc?id=1I_uFqSR7TiGp7BfKH6wwnpmiBk1ZAzww\n",
      "To: /content/items.csv\n",
      "100% 31.8M/31.8M [00:00<00:00, 44.6MB/s]\n",
      "Downloading...\n",
      "From: https://drive.google.com/uc?id=1CP4deOmpaOqnwdnqZCcZBqpZjBxKDs6l\n",
      "To: /content/users.csv\n",
      "100% 29.9M/29.9M [00:00<00:00, 63.5MB/s]\n",
      "Downloading...\n",
      "From: https://drive.google.com/uc?id=1S0Wz20_d-HV9USfxwqmE4FRtkOovs2XK\n",
      "To: /content/interactions.csv\n",
      "100% 180M/180M [00:02<00:00, 75.1MB/s]\n"
     ]
    }
   ]
  },
  {
   "cell_type": "code",
   "source": [
    "items_df = pd.read_csv('/content/items.csv')\n",
    "users_df = pd.read_csv('/content/users.csv')\n",
    "interactions_df = pd.read_csv('/content/interactions.csv')"
   ],
   "metadata": {
    "id": "xn9HWHLcVWzc"
   },
   "execution_count": 8,
   "outputs": []
  },
  {
   "cell_type": "code",
   "source": [
    "interactions_df['last_watch_dt'] = pd.to_datetime(interactions_df['last_watch_dt'])"
   ],
   "metadata": {
    "id": "jv2KmzyUcI7F"
   },
   "execution_count": 24,
   "outputs": []
  },
  {
   "cell_type": "code",
   "source": [
    "class PopularityModel():\n",
    "    def __init__(self, n: int):\n",
    "        self.n = n\n",
    "        self.top_n = []\n",
    "\n",
    "    def fit(self, df: pd.DataFrame):\n",
    "        self.top_n = df.loc[:, 'item_id'].value_counts()[:self.n].index.tolist()\n",
    "\n",
    "    def predict(self):\n",
    "        predicts = self.top_n\n",
    "        return predicts"
   ],
   "metadata": {
    "id": "8lgGA_B8Y59C"
   },
   "execution_count": 183,
   "outputs": []
  },
  {
   "cell_type": "code",
   "source": [
    "def split_df(df, n_days):\n",
    "  test_df = df[df['last_watch_dt'] >= df['last_watch_dt'].max() - pd.DateOffset(days=n_days)].copy()\n",
    "  train_df = df[df['last_watch_dt'] < df['last_watch_dt'].max() - pd.DateOffset(days=n_days)].copy()\n",
    "  return train_df, test_df"
   ],
   "metadata": {
    "id": "vcVfd0LuavfM"
   },
   "execution_count": 184,
   "outputs": []
  },
  {
   "cell_type": "code",
   "source": [
    "train, test = split_df(interactions_df, 7)\n",
    "model = PopularityModel(n=10)\n",
    "model.fit(train)\n",
    "preds = model.predict()"
   ],
   "metadata": {
    "id": "N0XalaNsXb3C"
   },
   "execution_count": 265,
   "outputs": []
  },
  {
   "cell_type": "code",
   "source": [
    "test_users = pd.DataFrame({'user_id': test['user_id'].unique()})\n",
    "test_users['predict'] = test_users.apply(lambda x: model.predict(x), axis=1)"
   ],
   "metadata": {
    "id": "OyajdHY5X4Do"
   },
   "execution_count": 256,
   "outputs": []
  },
  {
   "cell_type": "code",
   "source": [
    "def map_at_k(interactions, predicts, k):\n",
    "  map_list = []\n",
    "  for user in predicts['user_id'].values:\n",
    "    user_interactions = interactions[interactions['user_id'] == user]\n",
    "    user_predicts = predicts[predicts['user_id'] == user]\n",
    "    max_k = min(len(user_interactions), k)\n",
    "    user_precision = []\n",
    "    for i in range(1, max_k + 1):\n",
    "      precision = len(set(user_predicts['predict'].values[0][:i])&set(user_interactions['item_id'].values[:i]))/i\n",
    "      user_precision.append(precision)\n",
    "    map_list.append(np.mean(user_precision))\n",
    "  return np.mean(map_list)"
   ],
   "metadata": {
    "id": "YMxQanYFgzxY"
   },
   "execution_count": 266,
   "outputs": []
  },
  {
   "cell_type": "code",
   "source": [
    "map_at_10 = map_at_k(test, test_users, 10)"
   ],
   "metadata": {
    "id": "Xwe3rFKmr41K"
   },
   "execution_count": 267,
   "outputs": []
  },
  {
   "cell_type": "code",
   "source": [
    "print(f'MAP@10: {map_at_10}')"
   ],
   "metadata": {
    "colab": {
     "base_uri": "https://localhost:8080/"
    },
    "id": "thpE-xBlroOe",
    "outputId": "bc77ac70-ebb6-4d6c-e8a7-c21326a1e46c"
   },
   "execution_count": 268,
   "outputs": [
    {
     "output_type": "stream",
     "name": "stdout",
     "text": [
      "MAP@10: 0.06577649275764488\n"
     ]
    }
   ]
  },
  {
   "cell_type": "code",
   "source": [],
   "metadata": {
    "id": "66YavqtCwS1c"
   },
   "execution_count": null,
   "outputs": []
  }
 ]
}
