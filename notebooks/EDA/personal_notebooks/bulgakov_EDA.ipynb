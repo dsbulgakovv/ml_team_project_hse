{
  "nbformat": 4,
  "nbformat_minor": 0,
  "metadata": {
    "colab": {
      "provenance": [],
      "collapsed_sections": [
        "TX8iF2TUbDmj",
        "HZygT_6BZhJS"
      ],
      "toc_visible": true
    },
    "kernelspec": {
      "name": "python3",
      "display_name": "Python 3"
    },
    "language_info": {
      "name": "python"
    }
  },
  "cells": [
    {
      "cell_type": "code",
      "execution_count": 1,
      "metadata": {
        "id": "pdrKAG_bgVEg"
      },
      "outputs": [],
      "source": [
        "import pandas as pd\n",
        "import seaborn as sb\n",
        "from matplotlib import pyplot as plt\n",
        "import numpy as np\n",
        "from datetime import datetime\n",
        "from scipy import stats"
      ]
    },
    {
      "cell_type": "markdown",
      "source": [
        "# Забиарем данные"
      ],
      "metadata": {
        "id": "VaUNvxZ9m9lU"
      }
    },
    {
      "cell_type": "code",
      "source": [
        "items_df = pd.read_csv('drive/MyDrive/project_data/items.csv')"
      ],
      "metadata": {
        "id": "lFL3PGqDkl7s"
      },
      "execution_count": 2,
      "outputs": []
    },
    {
      "cell_type": "code",
      "source": [
        "items_df.sample(3)"
      ],
      "metadata": {
        "colab": {
          "base_uri": "https://localhost:8080/",
          "height": 383
        },
        "id": "okICQNQWli0i",
        "outputId": "e5c5dd5b-92df-46b1-e13c-57bcbbd30522"
      },
      "execution_count": 3,
      "outputs": [
        {
          "output_type": "execute_result",
          "data": {
            "text/plain": [
              "       item_id content_type                         title   title_orig  \\\n",
              "15539    13219         film                  Тропой войны  Path to War   \n",
              "12950    16450       series  Учитель Ким, доктор Романтик          NaN   \n",
              "12688    15368         film               Сердце храбреца  Brave Heart   \n",
              "\n",
              "       release_year                                             genres  \\\n",
              "15539        2002.0                       драмы, биография, фильмы hbo   \n",
              "12950        2019.0  дорамы, медицинские, драмы, зарубежные, мелодрамы   \n",
              "12688        1951.0                      детские, русские, мультфильмы   \n",
              "\n",
              "              countries  for_kids  age_rating studios  \\\n",
              "15539               США       NaN        16.0     HBO   \n",
              "12950  Республика Корея       NaN        16.0     NaN   \n",
              "12688              СССР       NaN         0.0     NaN   \n",
              "\n",
              "                             directors  \\\n",
              "15539               Джон Франкенхаймер   \n",
              "12950            Пак Су-джин, Ю Ин-щик   \n",
              "12688  Геннадий Филиппов, Борис Дежкин   \n",
              "\n",
              "                                                  actors  \\\n",
              "15539                                 Джон Франкенхаймер   \n",
              "12950  Ким Мин-джэ, Ким Хон-пха, Лим Вон-хи, Пён У-ми...   \n",
              "12688  Николай Горлов, Нина Зорская, Леонид Пирогов, ...   \n",
              "\n",
              "                                             description  \\\n",
              "15539  Биографическая драма. Одержав сокрушительную п...   \n",
              "12950  Кан Дон Джу стал врачом из-за того, что медици...   \n",
              "12688  Давным-давно жили-были два брата, Индига и Сол...   \n",
              "\n",
              "                                                keywords  \n",
              "15539                           Тропой, войны, 2002, США  \n",
              "12950  Учитель, Ким, доктор, Романтик, 2019, Южная, К...  \n",
              "12688                       Сердце, храбреца, 1951, СССР  "
            ],
            "text/html": [
              "\n",
              "  <div id=\"df-2a650284-829c-4f8f-8214-76b391c080d4\" class=\"colab-df-container\">\n",
              "    <div>\n",
              "<style scoped>\n",
              "    .dataframe tbody tr th:only-of-type {\n",
              "        vertical-align: middle;\n",
              "    }\n",
              "\n",
              "    .dataframe tbody tr th {\n",
              "        vertical-align: top;\n",
              "    }\n",
              "\n",
              "    .dataframe thead th {\n",
              "        text-align: right;\n",
              "    }\n",
              "</style>\n",
              "<table border=\"1\" class=\"dataframe\">\n",
              "  <thead>\n",
              "    <tr style=\"text-align: right;\">\n",
              "      <th></th>\n",
              "      <th>item_id</th>\n",
              "      <th>content_type</th>\n",
              "      <th>title</th>\n",
              "      <th>title_orig</th>\n",
              "      <th>release_year</th>\n",
              "      <th>genres</th>\n",
              "      <th>countries</th>\n",
              "      <th>for_kids</th>\n",
              "      <th>age_rating</th>\n",
              "      <th>studios</th>\n",
              "      <th>directors</th>\n",
              "      <th>actors</th>\n",
              "      <th>description</th>\n",
              "      <th>keywords</th>\n",
              "    </tr>\n",
              "  </thead>\n",
              "  <tbody>\n",
              "    <tr>\n",
              "      <th>15539</th>\n",
              "      <td>13219</td>\n",
              "      <td>film</td>\n",
              "      <td>Тропой войны</td>\n",
              "      <td>Path to War</td>\n",
              "      <td>2002.0</td>\n",
              "      <td>драмы, биография, фильмы hbo</td>\n",
              "      <td>США</td>\n",
              "      <td>NaN</td>\n",
              "      <td>16.0</td>\n",
              "      <td>HBO</td>\n",
              "      <td>Джон Франкенхаймер</td>\n",
              "      <td>Джон Франкенхаймер</td>\n",
              "      <td>Биографическая драма. Одержав сокрушительную п...</td>\n",
              "      <td>Тропой, войны, 2002, США</td>\n",
              "    </tr>\n",
              "    <tr>\n",
              "      <th>12950</th>\n",
              "      <td>16450</td>\n",
              "      <td>series</td>\n",
              "      <td>Учитель Ким, доктор Романтик</td>\n",
              "      <td>NaN</td>\n",
              "      <td>2019.0</td>\n",
              "      <td>дорамы, медицинские, драмы, зарубежные, мелодрамы</td>\n",
              "      <td>Республика Корея</td>\n",
              "      <td>NaN</td>\n",
              "      <td>16.0</td>\n",
              "      <td>NaN</td>\n",
              "      <td>Пак Су-джин, Ю Ин-щик</td>\n",
              "      <td>Ким Мин-джэ, Ким Хон-пха, Лим Вон-хи, Пён У-ми...</td>\n",
              "      <td>Кан Дон Джу стал врачом из-за того, что медици...</td>\n",
              "      <td>Учитель, Ким, доктор, Романтик, 2019, Южная, К...</td>\n",
              "    </tr>\n",
              "    <tr>\n",
              "      <th>12688</th>\n",
              "      <td>15368</td>\n",
              "      <td>film</td>\n",
              "      <td>Сердце храбреца</td>\n",
              "      <td>Brave Heart</td>\n",
              "      <td>1951.0</td>\n",
              "      <td>детские, русские, мультфильмы</td>\n",
              "      <td>СССР</td>\n",
              "      <td>NaN</td>\n",
              "      <td>0.0</td>\n",
              "      <td>NaN</td>\n",
              "      <td>Геннадий Филиппов, Борис Дежкин</td>\n",
              "      <td>Николай Горлов, Нина Зорская, Леонид Пирогов, ...</td>\n",
              "      <td>Давным-давно жили-были два брата, Индига и Сол...</td>\n",
              "      <td>Сердце, храбреца, 1951, СССР</td>\n",
              "    </tr>\n",
              "  </tbody>\n",
              "</table>\n",
              "</div>\n",
              "    <div class=\"colab-df-buttons\">\n",
              "\n",
              "  <div class=\"colab-df-container\">\n",
              "    <button class=\"colab-df-convert\" onclick=\"convertToInteractive('df-2a650284-829c-4f8f-8214-76b391c080d4')\"\n",
              "            title=\"Convert this dataframe to an interactive table.\"\n",
              "            style=\"display:none;\">\n",
              "\n",
              "  <svg xmlns=\"http://www.w3.org/2000/svg\" height=\"24px\" viewBox=\"0 -960 960 960\">\n",
              "    <path d=\"M120-120v-720h720v720H120Zm60-500h600v-160H180v160Zm220 220h160v-160H400v160Zm0 220h160v-160H400v160ZM180-400h160v-160H180v160Zm440 0h160v-160H620v160ZM180-180h160v-160H180v160Zm440 0h160v-160H620v160Z\"/>\n",
              "  </svg>\n",
              "    </button>\n",
              "\n",
              "  <style>\n",
              "    .colab-df-container {\n",
              "      display:flex;\n",
              "      gap: 12px;\n",
              "    }\n",
              "\n",
              "    .colab-df-convert {\n",
              "      background-color: #E8F0FE;\n",
              "      border: none;\n",
              "      border-radius: 50%;\n",
              "      cursor: pointer;\n",
              "      display: none;\n",
              "      fill: #1967D2;\n",
              "      height: 32px;\n",
              "      padding: 0 0 0 0;\n",
              "      width: 32px;\n",
              "    }\n",
              "\n",
              "    .colab-df-convert:hover {\n",
              "      background-color: #E2EBFA;\n",
              "      box-shadow: 0px 1px 2px rgba(60, 64, 67, 0.3), 0px 1px 3px 1px rgba(60, 64, 67, 0.15);\n",
              "      fill: #174EA6;\n",
              "    }\n",
              "\n",
              "    .colab-df-buttons div {\n",
              "      margin-bottom: 4px;\n",
              "    }\n",
              "\n",
              "    [theme=dark] .colab-df-convert {\n",
              "      background-color: #3B4455;\n",
              "      fill: #D2E3FC;\n",
              "    }\n",
              "\n",
              "    [theme=dark] .colab-df-convert:hover {\n",
              "      background-color: #434B5C;\n",
              "      box-shadow: 0px 1px 3px 1px rgba(0, 0, 0, 0.15);\n",
              "      filter: drop-shadow(0px 1px 2px rgba(0, 0, 0, 0.3));\n",
              "      fill: #FFFFFF;\n",
              "    }\n",
              "  </style>\n",
              "\n",
              "    <script>\n",
              "      const buttonEl =\n",
              "        document.querySelector('#df-2a650284-829c-4f8f-8214-76b391c080d4 button.colab-df-convert');\n",
              "      buttonEl.style.display =\n",
              "        google.colab.kernel.accessAllowed ? 'block' : 'none';\n",
              "\n",
              "      async function convertToInteractive(key) {\n",
              "        const element = document.querySelector('#df-2a650284-829c-4f8f-8214-76b391c080d4');\n",
              "        const dataTable =\n",
              "          await google.colab.kernel.invokeFunction('convertToInteractive',\n",
              "                                                    [key], {});\n",
              "        if (!dataTable) return;\n",
              "\n",
              "        const docLinkHtml = 'Like what you see? Visit the ' +\n",
              "          '<a target=\"_blank\" href=https://colab.research.google.com/notebooks/data_table.ipynb>data table notebook</a>'\n",
              "          + ' to learn more about interactive tables.';\n",
              "        element.innerHTML = '';\n",
              "        dataTable['output_type'] = 'display_data';\n",
              "        await google.colab.output.renderOutput(dataTable, element);\n",
              "        const docLink = document.createElement('div');\n",
              "        docLink.innerHTML = docLinkHtml;\n",
              "        element.appendChild(docLink);\n",
              "      }\n",
              "    </script>\n",
              "  </div>\n",
              "\n",
              "\n",
              "<div id=\"df-27c5b81e-bf44-441e-ab40-540196211f00\">\n",
              "  <button class=\"colab-df-quickchart\" onclick=\"quickchart('df-27c5b81e-bf44-441e-ab40-540196211f00')\"\n",
              "            title=\"Suggest charts\"\n",
              "            style=\"display:none;\">\n",
              "\n",
              "<svg xmlns=\"http://www.w3.org/2000/svg\" height=\"24px\"viewBox=\"0 0 24 24\"\n",
              "     width=\"24px\">\n",
              "    <g>\n",
              "        <path d=\"M19 3H5c-1.1 0-2 .9-2 2v14c0 1.1.9 2 2 2h14c1.1 0 2-.9 2-2V5c0-1.1-.9-2-2-2zM9 17H7v-7h2v7zm4 0h-2V7h2v10zm4 0h-2v-4h2v4z\"/>\n",
              "    </g>\n",
              "</svg>\n",
              "  </button>\n",
              "\n",
              "<style>\n",
              "  .colab-df-quickchart {\n",
              "      --bg-color: #E8F0FE;\n",
              "      --fill-color: #1967D2;\n",
              "      --hover-bg-color: #E2EBFA;\n",
              "      --hover-fill-color: #174EA6;\n",
              "      --disabled-fill-color: #AAA;\n",
              "      --disabled-bg-color: #DDD;\n",
              "  }\n",
              "\n",
              "  [theme=dark] .colab-df-quickchart {\n",
              "      --bg-color: #3B4455;\n",
              "      --fill-color: #D2E3FC;\n",
              "      --hover-bg-color: #434B5C;\n",
              "      --hover-fill-color: #FFFFFF;\n",
              "      --disabled-bg-color: #3B4455;\n",
              "      --disabled-fill-color: #666;\n",
              "  }\n",
              "\n",
              "  .colab-df-quickchart {\n",
              "    background-color: var(--bg-color);\n",
              "    border: none;\n",
              "    border-radius: 50%;\n",
              "    cursor: pointer;\n",
              "    display: none;\n",
              "    fill: var(--fill-color);\n",
              "    height: 32px;\n",
              "    padding: 0;\n",
              "    width: 32px;\n",
              "  }\n",
              "\n",
              "  .colab-df-quickchart:hover {\n",
              "    background-color: var(--hover-bg-color);\n",
              "    box-shadow: 0 1px 2px rgba(60, 64, 67, 0.3), 0 1px 3px 1px rgba(60, 64, 67, 0.15);\n",
              "    fill: var(--button-hover-fill-color);\n",
              "  }\n",
              "\n",
              "  .colab-df-quickchart-complete:disabled,\n",
              "  .colab-df-quickchart-complete:disabled:hover {\n",
              "    background-color: var(--disabled-bg-color);\n",
              "    fill: var(--disabled-fill-color);\n",
              "    box-shadow: none;\n",
              "  }\n",
              "\n",
              "  .colab-df-spinner {\n",
              "    border: 2px solid var(--fill-color);\n",
              "    border-color: transparent;\n",
              "    border-bottom-color: var(--fill-color);\n",
              "    animation:\n",
              "      spin 1s steps(1) infinite;\n",
              "  }\n",
              "\n",
              "  @keyframes spin {\n",
              "    0% {\n",
              "      border-color: transparent;\n",
              "      border-bottom-color: var(--fill-color);\n",
              "      border-left-color: var(--fill-color);\n",
              "    }\n",
              "    20% {\n",
              "      border-color: transparent;\n",
              "      border-left-color: var(--fill-color);\n",
              "      border-top-color: var(--fill-color);\n",
              "    }\n",
              "    30% {\n",
              "      border-color: transparent;\n",
              "      border-left-color: var(--fill-color);\n",
              "      border-top-color: var(--fill-color);\n",
              "      border-right-color: var(--fill-color);\n",
              "    }\n",
              "    40% {\n",
              "      border-color: transparent;\n",
              "      border-right-color: var(--fill-color);\n",
              "      border-top-color: var(--fill-color);\n",
              "    }\n",
              "    60% {\n",
              "      border-color: transparent;\n",
              "      border-right-color: var(--fill-color);\n",
              "    }\n",
              "    80% {\n",
              "      border-color: transparent;\n",
              "      border-right-color: var(--fill-color);\n",
              "      border-bottom-color: var(--fill-color);\n",
              "    }\n",
              "    90% {\n",
              "      border-color: transparent;\n",
              "      border-bottom-color: var(--fill-color);\n",
              "    }\n",
              "  }\n",
              "</style>\n",
              "\n",
              "  <script>\n",
              "    async function quickchart(key) {\n",
              "      const quickchartButtonEl =\n",
              "        document.querySelector('#' + key + ' button');\n",
              "      quickchartButtonEl.disabled = true;  // To prevent multiple clicks.\n",
              "      quickchartButtonEl.classList.add('colab-df-spinner');\n",
              "      try {\n",
              "        const charts = await google.colab.kernel.invokeFunction(\n",
              "            'suggestCharts', [key], {});\n",
              "      } catch (error) {\n",
              "        console.error('Error during call to suggestCharts:', error);\n",
              "      }\n",
              "      quickchartButtonEl.classList.remove('colab-df-spinner');\n",
              "      quickchartButtonEl.classList.add('colab-df-quickchart-complete');\n",
              "    }\n",
              "    (() => {\n",
              "      let quickchartButtonEl =\n",
              "        document.querySelector('#df-27c5b81e-bf44-441e-ab40-540196211f00 button');\n",
              "      quickchartButtonEl.style.display =\n",
              "        google.colab.kernel.accessAllowed ? 'block' : 'none';\n",
              "    })();\n",
              "  </script>\n",
              "</div>\n",
              "    </div>\n",
              "  </div>\n"
            ]
          },
          "metadata": {},
          "execution_count": 3
        }
      ]
    },
    {
      "cell_type": "code",
      "source": [
        "users_df = pd.read_csv('drive/MyDrive/project_data/users.csv')"
      ],
      "metadata": {
        "id": "F7D4l32slmEA"
      },
      "execution_count": 4,
      "outputs": []
    },
    {
      "cell_type": "code",
      "source": [
        "users_df.sample(3)"
      ],
      "metadata": {
        "colab": {
          "base_uri": "https://localhost:8080/",
          "height": 142
        },
        "id": "hS-D-O_Wls3I",
        "outputId": "89f13849-99f6-4d4d-d163-508b23f5e9ac"
      },
      "execution_count": 5,
      "outputs": [
        {
          "output_type": "execute_result",
          "data": {
            "text/plain": [
              "        user_id        age        income sex  kids_flg\n",
              "254275   761713  age_35_44  income_40_60   Ж         0\n",
              "73328    378042  age_45_54  income_40_60   М         0\n",
              "448613   561724  age_35_44  income_40_60   Ж         1"
            ],
            "text/html": [
              "\n",
              "  <div id=\"df-88177fea-b451-466b-a43a-4ed6431fe975\" class=\"colab-df-container\">\n",
              "    <div>\n",
              "<style scoped>\n",
              "    .dataframe tbody tr th:only-of-type {\n",
              "        vertical-align: middle;\n",
              "    }\n",
              "\n",
              "    .dataframe tbody tr th {\n",
              "        vertical-align: top;\n",
              "    }\n",
              "\n",
              "    .dataframe thead th {\n",
              "        text-align: right;\n",
              "    }\n",
              "</style>\n",
              "<table border=\"1\" class=\"dataframe\">\n",
              "  <thead>\n",
              "    <tr style=\"text-align: right;\">\n",
              "      <th></th>\n",
              "      <th>user_id</th>\n",
              "      <th>age</th>\n",
              "      <th>income</th>\n",
              "      <th>sex</th>\n",
              "      <th>kids_flg</th>\n",
              "    </tr>\n",
              "  </thead>\n",
              "  <tbody>\n",
              "    <tr>\n",
              "      <th>254275</th>\n",
              "      <td>761713</td>\n",
              "      <td>age_35_44</td>\n",
              "      <td>income_40_60</td>\n",
              "      <td>Ж</td>\n",
              "      <td>0</td>\n",
              "    </tr>\n",
              "    <tr>\n",
              "      <th>73328</th>\n",
              "      <td>378042</td>\n",
              "      <td>age_45_54</td>\n",
              "      <td>income_40_60</td>\n",
              "      <td>М</td>\n",
              "      <td>0</td>\n",
              "    </tr>\n",
              "    <tr>\n",
              "      <th>448613</th>\n",
              "      <td>561724</td>\n",
              "      <td>age_35_44</td>\n",
              "      <td>income_40_60</td>\n",
              "      <td>Ж</td>\n",
              "      <td>1</td>\n",
              "    </tr>\n",
              "  </tbody>\n",
              "</table>\n",
              "</div>\n",
              "    <div class=\"colab-df-buttons\">\n",
              "\n",
              "  <div class=\"colab-df-container\">\n",
              "    <button class=\"colab-df-convert\" onclick=\"convertToInteractive('df-88177fea-b451-466b-a43a-4ed6431fe975')\"\n",
              "            title=\"Convert this dataframe to an interactive table.\"\n",
              "            style=\"display:none;\">\n",
              "\n",
              "  <svg xmlns=\"http://www.w3.org/2000/svg\" height=\"24px\" viewBox=\"0 -960 960 960\">\n",
              "    <path d=\"M120-120v-720h720v720H120Zm60-500h600v-160H180v160Zm220 220h160v-160H400v160Zm0 220h160v-160H400v160ZM180-400h160v-160H180v160Zm440 0h160v-160H620v160ZM180-180h160v-160H180v160Zm440 0h160v-160H620v160Z\"/>\n",
              "  </svg>\n",
              "    </button>\n",
              "\n",
              "  <style>\n",
              "    .colab-df-container {\n",
              "      display:flex;\n",
              "      gap: 12px;\n",
              "    }\n",
              "\n",
              "    .colab-df-convert {\n",
              "      background-color: #E8F0FE;\n",
              "      border: none;\n",
              "      border-radius: 50%;\n",
              "      cursor: pointer;\n",
              "      display: none;\n",
              "      fill: #1967D2;\n",
              "      height: 32px;\n",
              "      padding: 0 0 0 0;\n",
              "      width: 32px;\n",
              "    }\n",
              "\n",
              "    .colab-df-convert:hover {\n",
              "      background-color: #E2EBFA;\n",
              "      box-shadow: 0px 1px 2px rgba(60, 64, 67, 0.3), 0px 1px 3px 1px rgba(60, 64, 67, 0.15);\n",
              "      fill: #174EA6;\n",
              "    }\n",
              "\n",
              "    .colab-df-buttons div {\n",
              "      margin-bottom: 4px;\n",
              "    }\n",
              "\n",
              "    [theme=dark] .colab-df-convert {\n",
              "      background-color: #3B4455;\n",
              "      fill: #D2E3FC;\n",
              "    }\n",
              "\n",
              "    [theme=dark] .colab-df-convert:hover {\n",
              "      background-color: #434B5C;\n",
              "      box-shadow: 0px 1px 3px 1px rgba(0, 0, 0, 0.15);\n",
              "      filter: drop-shadow(0px 1px 2px rgba(0, 0, 0, 0.3));\n",
              "      fill: #FFFFFF;\n",
              "    }\n",
              "  </style>\n",
              "\n",
              "    <script>\n",
              "      const buttonEl =\n",
              "        document.querySelector('#df-88177fea-b451-466b-a43a-4ed6431fe975 button.colab-df-convert');\n",
              "      buttonEl.style.display =\n",
              "        google.colab.kernel.accessAllowed ? 'block' : 'none';\n",
              "\n",
              "      async function convertToInteractive(key) {\n",
              "        const element = document.querySelector('#df-88177fea-b451-466b-a43a-4ed6431fe975');\n",
              "        const dataTable =\n",
              "          await google.colab.kernel.invokeFunction('convertToInteractive',\n",
              "                                                    [key], {});\n",
              "        if (!dataTable) return;\n",
              "\n",
              "        const docLinkHtml = 'Like what you see? Visit the ' +\n",
              "          '<a target=\"_blank\" href=https://colab.research.google.com/notebooks/data_table.ipynb>data table notebook</a>'\n",
              "          + ' to learn more about interactive tables.';\n",
              "        element.innerHTML = '';\n",
              "        dataTable['output_type'] = 'display_data';\n",
              "        await google.colab.output.renderOutput(dataTable, element);\n",
              "        const docLink = document.createElement('div');\n",
              "        docLink.innerHTML = docLinkHtml;\n",
              "        element.appendChild(docLink);\n",
              "      }\n",
              "    </script>\n",
              "  </div>\n",
              "\n",
              "\n",
              "<div id=\"df-24857621-b8d6-4cb6-b0ff-fb17ac027274\">\n",
              "  <button class=\"colab-df-quickchart\" onclick=\"quickchart('df-24857621-b8d6-4cb6-b0ff-fb17ac027274')\"\n",
              "            title=\"Suggest charts\"\n",
              "            style=\"display:none;\">\n",
              "\n",
              "<svg xmlns=\"http://www.w3.org/2000/svg\" height=\"24px\"viewBox=\"0 0 24 24\"\n",
              "     width=\"24px\">\n",
              "    <g>\n",
              "        <path d=\"M19 3H5c-1.1 0-2 .9-2 2v14c0 1.1.9 2 2 2h14c1.1 0 2-.9 2-2V5c0-1.1-.9-2-2-2zM9 17H7v-7h2v7zm4 0h-2V7h2v10zm4 0h-2v-4h2v4z\"/>\n",
              "    </g>\n",
              "</svg>\n",
              "  </button>\n",
              "\n",
              "<style>\n",
              "  .colab-df-quickchart {\n",
              "      --bg-color: #E8F0FE;\n",
              "      --fill-color: #1967D2;\n",
              "      --hover-bg-color: #E2EBFA;\n",
              "      --hover-fill-color: #174EA6;\n",
              "      --disabled-fill-color: #AAA;\n",
              "      --disabled-bg-color: #DDD;\n",
              "  }\n",
              "\n",
              "  [theme=dark] .colab-df-quickchart {\n",
              "      --bg-color: #3B4455;\n",
              "      --fill-color: #D2E3FC;\n",
              "      --hover-bg-color: #434B5C;\n",
              "      --hover-fill-color: #FFFFFF;\n",
              "      --disabled-bg-color: #3B4455;\n",
              "      --disabled-fill-color: #666;\n",
              "  }\n",
              "\n",
              "  .colab-df-quickchart {\n",
              "    background-color: var(--bg-color);\n",
              "    border: none;\n",
              "    border-radius: 50%;\n",
              "    cursor: pointer;\n",
              "    display: none;\n",
              "    fill: var(--fill-color);\n",
              "    height: 32px;\n",
              "    padding: 0;\n",
              "    width: 32px;\n",
              "  }\n",
              "\n",
              "  .colab-df-quickchart:hover {\n",
              "    background-color: var(--hover-bg-color);\n",
              "    box-shadow: 0 1px 2px rgba(60, 64, 67, 0.3), 0 1px 3px 1px rgba(60, 64, 67, 0.15);\n",
              "    fill: var(--button-hover-fill-color);\n",
              "  }\n",
              "\n",
              "  .colab-df-quickchart-complete:disabled,\n",
              "  .colab-df-quickchart-complete:disabled:hover {\n",
              "    background-color: var(--disabled-bg-color);\n",
              "    fill: var(--disabled-fill-color);\n",
              "    box-shadow: none;\n",
              "  }\n",
              "\n",
              "  .colab-df-spinner {\n",
              "    border: 2px solid var(--fill-color);\n",
              "    border-color: transparent;\n",
              "    border-bottom-color: var(--fill-color);\n",
              "    animation:\n",
              "      spin 1s steps(1) infinite;\n",
              "  }\n",
              "\n",
              "  @keyframes spin {\n",
              "    0% {\n",
              "      border-color: transparent;\n",
              "      border-bottom-color: var(--fill-color);\n",
              "      border-left-color: var(--fill-color);\n",
              "    }\n",
              "    20% {\n",
              "      border-color: transparent;\n",
              "      border-left-color: var(--fill-color);\n",
              "      border-top-color: var(--fill-color);\n",
              "    }\n",
              "    30% {\n",
              "      border-color: transparent;\n",
              "      border-left-color: var(--fill-color);\n",
              "      border-top-color: var(--fill-color);\n",
              "      border-right-color: var(--fill-color);\n",
              "    }\n",
              "    40% {\n",
              "      border-color: transparent;\n",
              "      border-right-color: var(--fill-color);\n",
              "      border-top-color: var(--fill-color);\n",
              "    }\n",
              "    60% {\n",
              "      border-color: transparent;\n",
              "      border-right-color: var(--fill-color);\n",
              "    }\n",
              "    80% {\n",
              "      border-color: transparent;\n",
              "      border-right-color: var(--fill-color);\n",
              "      border-bottom-color: var(--fill-color);\n",
              "    }\n",
              "    90% {\n",
              "      border-color: transparent;\n",
              "      border-bottom-color: var(--fill-color);\n",
              "    }\n",
              "  }\n",
              "</style>\n",
              "\n",
              "  <script>\n",
              "    async function quickchart(key) {\n",
              "      const quickchartButtonEl =\n",
              "        document.querySelector('#' + key + ' button');\n",
              "      quickchartButtonEl.disabled = true;  // To prevent multiple clicks.\n",
              "      quickchartButtonEl.classList.add('colab-df-spinner');\n",
              "      try {\n",
              "        const charts = await google.colab.kernel.invokeFunction(\n",
              "            'suggestCharts', [key], {});\n",
              "      } catch (error) {\n",
              "        console.error('Error during call to suggestCharts:', error);\n",
              "      }\n",
              "      quickchartButtonEl.classList.remove('colab-df-spinner');\n",
              "      quickchartButtonEl.classList.add('colab-df-quickchart-complete');\n",
              "    }\n",
              "    (() => {\n",
              "      let quickchartButtonEl =\n",
              "        document.querySelector('#df-24857621-b8d6-4cb6-b0ff-fb17ac027274 button');\n",
              "      quickchartButtonEl.style.display =\n",
              "        google.colab.kernel.accessAllowed ? 'block' : 'none';\n",
              "    })();\n",
              "  </script>\n",
              "</div>\n",
              "    </div>\n",
              "  </div>\n"
            ]
          },
          "metadata": {},
          "execution_count": 5
        }
      ]
    },
    {
      "cell_type": "code",
      "source": [
        "interactions_df = pd.read_csv('drive/MyDrive/project_data/interactions.csv')"
      ],
      "metadata": {
        "id": "SplqmPkGlvcC"
      },
      "execution_count": 6,
      "outputs": []
    },
    {
      "cell_type": "code",
      "source": [
        "interactions_df.sample(3)"
      ],
      "metadata": {
        "colab": {
          "base_uri": "https://localhost:8080/",
          "height": 142
        },
        "id": "ZXzHyPqDl0gC",
        "outputId": "83f135ab-7843-443f-9c2c-d9040aeb5a20"
      },
      "execution_count": 7,
      "outputs": [
        {
          "output_type": "execute_result",
          "data": {
            "text/plain": [
              "         user_id  item_id last_watch_dt  total_dur  watched_pct\n",
              "1135206   536020     4689    2021-07-27        656         11.0\n",
              "4031063   888979    15297    2021-06-09        332          0.0\n",
              "2251613   531720     3567    2021-07-08       6973        100.0"
            ],
            "text/html": [
              "\n",
              "  <div id=\"df-63766fe6-9a5b-4626-8cbf-7e1808e7b007\" class=\"colab-df-container\">\n",
              "    <div>\n",
              "<style scoped>\n",
              "    .dataframe tbody tr th:only-of-type {\n",
              "        vertical-align: middle;\n",
              "    }\n",
              "\n",
              "    .dataframe tbody tr th {\n",
              "        vertical-align: top;\n",
              "    }\n",
              "\n",
              "    .dataframe thead th {\n",
              "        text-align: right;\n",
              "    }\n",
              "</style>\n",
              "<table border=\"1\" class=\"dataframe\">\n",
              "  <thead>\n",
              "    <tr style=\"text-align: right;\">\n",
              "      <th></th>\n",
              "      <th>user_id</th>\n",
              "      <th>item_id</th>\n",
              "      <th>last_watch_dt</th>\n",
              "      <th>total_dur</th>\n",
              "      <th>watched_pct</th>\n",
              "    </tr>\n",
              "  </thead>\n",
              "  <tbody>\n",
              "    <tr>\n",
              "      <th>1135206</th>\n",
              "      <td>536020</td>\n",
              "      <td>4689</td>\n",
              "      <td>2021-07-27</td>\n",
              "      <td>656</td>\n",
              "      <td>11.0</td>\n",
              "    </tr>\n",
              "    <tr>\n",
              "      <th>4031063</th>\n",
              "      <td>888979</td>\n",
              "      <td>15297</td>\n",
              "      <td>2021-06-09</td>\n",
              "      <td>332</td>\n",
              "      <td>0.0</td>\n",
              "    </tr>\n",
              "    <tr>\n",
              "      <th>2251613</th>\n",
              "      <td>531720</td>\n",
              "      <td>3567</td>\n",
              "      <td>2021-07-08</td>\n",
              "      <td>6973</td>\n",
              "      <td>100.0</td>\n",
              "    </tr>\n",
              "  </tbody>\n",
              "</table>\n",
              "</div>\n",
              "    <div class=\"colab-df-buttons\">\n",
              "\n",
              "  <div class=\"colab-df-container\">\n",
              "    <button class=\"colab-df-convert\" onclick=\"convertToInteractive('df-63766fe6-9a5b-4626-8cbf-7e1808e7b007')\"\n",
              "            title=\"Convert this dataframe to an interactive table.\"\n",
              "            style=\"display:none;\">\n",
              "\n",
              "  <svg xmlns=\"http://www.w3.org/2000/svg\" height=\"24px\" viewBox=\"0 -960 960 960\">\n",
              "    <path d=\"M120-120v-720h720v720H120Zm60-500h600v-160H180v160Zm220 220h160v-160H400v160Zm0 220h160v-160H400v160ZM180-400h160v-160H180v160Zm440 0h160v-160H620v160ZM180-180h160v-160H180v160Zm440 0h160v-160H620v160Z\"/>\n",
              "  </svg>\n",
              "    </button>\n",
              "\n",
              "  <style>\n",
              "    .colab-df-container {\n",
              "      display:flex;\n",
              "      gap: 12px;\n",
              "    }\n",
              "\n",
              "    .colab-df-convert {\n",
              "      background-color: #E8F0FE;\n",
              "      border: none;\n",
              "      border-radius: 50%;\n",
              "      cursor: pointer;\n",
              "      display: none;\n",
              "      fill: #1967D2;\n",
              "      height: 32px;\n",
              "      padding: 0 0 0 0;\n",
              "      width: 32px;\n",
              "    }\n",
              "\n",
              "    .colab-df-convert:hover {\n",
              "      background-color: #E2EBFA;\n",
              "      box-shadow: 0px 1px 2px rgba(60, 64, 67, 0.3), 0px 1px 3px 1px rgba(60, 64, 67, 0.15);\n",
              "      fill: #174EA6;\n",
              "    }\n",
              "\n",
              "    .colab-df-buttons div {\n",
              "      margin-bottom: 4px;\n",
              "    }\n",
              "\n",
              "    [theme=dark] .colab-df-convert {\n",
              "      background-color: #3B4455;\n",
              "      fill: #D2E3FC;\n",
              "    }\n",
              "\n",
              "    [theme=dark] .colab-df-convert:hover {\n",
              "      background-color: #434B5C;\n",
              "      box-shadow: 0px 1px 3px 1px rgba(0, 0, 0, 0.15);\n",
              "      filter: drop-shadow(0px 1px 2px rgba(0, 0, 0, 0.3));\n",
              "      fill: #FFFFFF;\n",
              "    }\n",
              "  </style>\n",
              "\n",
              "    <script>\n",
              "      const buttonEl =\n",
              "        document.querySelector('#df-63766fe6-9a5b-4626-8cbf-7e1808e7b007 button.colab-df-convert');\n",
              "      buttonEl.style.display =\n",
              "        google.colab.kernel.accessAllowed ? 'block' : 'none';\n",
              "\n",
              "      async function convertToInteractive(key) {\n",
              "        const element = document.querySelector('#df-63766fe6-9a5b-4626-8cbf-7e1808e7b007');\n",
              "        const dataTable =\n",
              "          await google.colab.kernel.invokeFunction('convertToInteractive',\n",
              "                                                    [key], {});\n",
              "        if (!dataTable) return;\n",
              "\n",
              "        const docLinkHtml = 'Like what you see? Visit the ' +\n",
              "          '<a target=\"_blank\" href=https://colab.research.google.com/notebooks/data_table.ipynb>data table notebook</a>'\n",
              "          + ' to learn more about interactive tables.';\n",
              "        element.innerHTML = '';\n",
              "        dataTable['output_type'] = 'display_data';\n",
              "        await google.colab.output.renderOutput(dataTable, element);\n",
              "        const docLink = document.createElement('div');\n",
              "        docLink.innerHTML = docLinkHtml;\n",
              "        element.appendChild(docLink);\n",
              "      }\n",
              "    </script>\n",
              "  </div>\n",
              "\n",
              "\n",
              "<div id=\"df-0c250155-ac74-41f4-96a4-fddd5468c686\">\n",
              "  <button class=\"colab-df-quickchart\" onclick=\"quickchart('df-0c250155-ac74-41f4-96a4-fddd5468c686')\"\n",
              "            title=\"Suggest charts\"\n",
              "            style=\"display:none;\">\n",
              "\n",
              "<svg xmlns=\"http://www.w3.org/2000/svg\" height=\"24px\"viewBox=\"0 0 24 24\"\n",
              "     width=\"24px\">\n",
              "    <g>\n",
              "        <path d=\"M19 3H5c-1.1 0-2 .9-2 2v14c0 1.1.9 2 2 2h14c1.1 0 2-.9 2-2V5c0-1.1-.9-2-2-2zM9 17H7v-7h2v7zm4 0h-2V7h2v10zm4 0h-2v-4h2v4z\"/>\n",
              "    </g>\n",
              "</svg>\n",
              "  </button>\n",
              "\n",
              "<style>\n",
              "  .colab-df-quickchart {\n",
              "      --bg-color: #E8F0FE;\n",
              "      --fill-color: #1967D2;\n",
              "      --hover-bg-color: #E2EBFA;\n",
              "      --hover-fill-color: #174EA6;\n",
              "      --disabled-fill-color: #AAA;\n",
              "      --disabled-bg-color: #DDD;\n",
              "  }\n",
              "\n",
              "  [theme=dark] .colab-df-quickchart {\n",
              "      --bg-color: #3B4455;\n",
              "      --fill-color: #D2E3FC;\n",
              "      --hover-bg-color: #434B5C;\n",
              "      --hover-fill-color: #FFFFFF;\n",
              "      --disabled-bg-color: #3B4455;\n",
              "      --disabled-fill-color: #666;\n",
              "  }\n",
              "\n",
              "  .colab-df-quickchart {\n",
              "    background-color: var(--bg-color);\n",
              "    border: none;\n",
              "    border-radius: 50%;\n",
              "    cursor: pointer;\n",
              "    display: none;\n",
              "    fill: var(--fill-color);\n",
              "    height: 32px;\n",
              "    padding: 0;\n",
              "    width: 32px;\n",
              "  }\n",
              "\n",
              "  .colab-df-quickchart:hover {\n",
              "    background-color: var(--hover-bg-color);\n",
              "    box-shadow: 0 1px 2px rgba(60, 64, 67, 0.3), 0 1px 3px 1px rgba(60, 64, 67, 0.15);\n",
              "    fill: var(--button-hover-fill-color);\n",
              "  }\n",
              "\n",
              "  .colab-df-quickchart-complete:disabled,\n",
              "  .colab-df-quickchart-complete:disabled:hover {\n",
              "    background-color: var(--disabled-bg-color);\n",
              "    fill: var(--disabled-fill-color);\n",
              "    box-shadow: none;\n",
              "  }\n",
              "\n",
              "  .colab-df-spinner {\n",
              "    border: 2px solid var(--fill-color);\n",
              "    border-color: transparent;\n",
              "    border-bottom-color: var(--fill-color);\n",
              "    animation:\n",
              "      spin 1s steps(1) infinite;\n",
              "  }\n",
              "\n",
              "  @keyframes spin {\n",
              "    0% {\n",
              "      border-color: transparent;\n",
              "      border-bottom-color: var(--fill-color);\n",
              "      border-left-color: var(--fill-color);\n",
              "    }\n",
              "    20% {\n",
              "      border-color: transparent;\n",
              "      border-left-color: var(--fill-color);\n",
              "      border-top-color: var(--fill-color);\n",
              "    }\n",
              "    30% {\n",
              "      border-color: transparent;\n",
              "      border-left-color: var(--fill-color);\n",
              "      border-top-color: var(--fill-color);\n",
              "      border-right-color: var(--fill-color);\n",
              "    }\n",
              "    40% {\n",
              "      border-color: transparent;\n",
              "      border-right-color: var(--fill-color);\n",
              "      border-top-color: var(--fill-color);\n",
              "    }\n",
              "    60% {\n",
              "      border-color: transparent;\n",
              "      border-right-color: var(--fill-color);\n",
              "    }\n",
              "    80% {\n",
              "      border-color: transparent;\n",
              "      border-right-color: var(--fill-color);\n",
              "      border-bottom-color: var(--fill-color);\n",
              "    }\n",
              "    90% {\n",
              "      border-color: transparent;\n",
              "      border-bottom-color: var(--fill-color);\n",
              "    }\n",
              "  }\n",
              "</style>\n",
              "\n",
              "  <script>\n",
              "    async function quickchart(key) {\n",
              "      const quickchartButtonEl =\n",
              "        document.querySelector('#' + key + ' button');\n",
              "      quickchartButtonEl.disabled = true;  // To prevent multiple clicks.\n",
              "      quickchartButtonEl.classList.add('colab-df-spinner');\n",
              "      try {\n",
              "        const charts = await google.colab.kernel.invokeFunction(\n",
              "            'suggestCharts', [key], {});\n",
              "      } catch (error) {\n",
              "        console.error('Error during call to suggestCharts:', error);\n",
              "      }\n",
              "      quickchartButtonEl.classList.remove('colab-df-spinner');\n",
              "      quickchartButtonEl.classList.add('colab-df-quickchart-complete');\n",
              "    }\n",
              "    (() => {\n",
              "      let quickchartButtonEl =\n",
              "        document.querySelector('#df-0c250155-ac74-41f4-96a4-fddd5468c686 button');\n",
              "      quickchartButtonEl.style.display =\n",
              "        google.colab.kernel.accessAllowed ? 'block' : 'none';\n",
              "    })();\n",
              "  </script>\n",
              "</div>\n",
              "    </div>\n",
              "  </div>\n"
            ]
          },
          "metadata": {},
          "execution_count": 7
        }
      ]
    },
    {
      "cell_type": "code",
      "source": [
        "subm_df = pd.read_csv('drive/MyDrive/project_data/sample_submission.csv')"
      ],
      "metadata": {
        "id": "VHfurhZEqG9K"
      },
      "execution_count": 8,
      "outputs": []
    },
    {
      "cell_type": "code",
      "source": [
        "subm_df.sample(3)"
      ],
      "metadata": {
        "colab": {
          "base_uri": "https://localhost:8080/",
          "height": 142
        },
        "id": "hMjvt2F1qMpp",
        "outputId": "caa7f125-1eeb-4646-8899-28005ea86062"
      },
      "execution_count": 9,
      "outputs": [
        {
          "output_type": "execute_result",
          "data": {
            "text/plain": [
              "        user_id                                            item_id\n",
              "58003    330491  [9728, 15297, 10440, 14488, 13865, 12192, 341,...\n",
              "139133   790018  [9728, 15297, 10440, 14488, 13865, 12192, 341,...\n",
              "160750   913422  [9728, 15297, 10440, 14488, 13865, 12192, 341,..."
            ],
            "text/html": [
              "\n",
              "  <div id=\"df-71be59c8-a03b-4f70-8774-91aeea02fd32\" class=\"colab-df-container\">\n",
              "    <div>\n",
              "<style scoped>\n",
              "    .dataframe tbody tr th:only-of-type {\n",
              "        vertical-align: middle;\n",
              "    }\n",
              "\n",
              "    .dataframe tbody tr th {\n",
              "        vertical-align: top;\n",
              "    }\n",
              "\n",
              "    .dataframe thead th {\n",
              "        text-align: right;\n",
              "    }\n",
              "</style>\n",
              "<table border=\"1\" class=\"dataframe\">\n",
              "  <thead>\n",
              "    <tr style=\"text-align: right;\">\n",
              "      <th></th>\n",
              "      <th>user_id</th>\n",
              "      <th>item_id</th>\n",
              "    </tr>\n",
              "  </thead>\n",
              "  <tbody>\n",
              "    <tr>\n",
              "      <th>58003</th>\n",
              "      <td>330491</td>\n",
              "      <td>[9728, 15297, 10440, 14488, 13865, 12192, 341,...</td>\n",
              "    </tr>\n",
              "    <tr>\n",
              "      <th>139133</th>\n",
              "      <td>790018</td>\n",
              "      <td>[9728, 15297, 10440, 14488, 13865, 12192, 341,...</td>\n",
              "    </tr>\n",
              "    <tr>\n",
              "      <th>160750</th>\n",
              "      <td>913422</td>\n",
              "      <td>[9728, 15297, 10440, 14488, 13865, 12192, 341,...</td>\n",
              "    </tr>\n",
              "  </tbody>\n",
              "</table>\n",
              "</div>\n",
              "    <div class=\"colab-df-buttons\">\n",
              "\n",
              "  <div class=\"colab-df-container\">\n",
              "    <button class=\"colab-df-convert\" onclick=\"convertToInteractive('df-71be59c8-a03b-4f70-8774-91aeea02fd32')\"\n",
              "            title=\"Convert this dataframe to an interactive table.\"\n",
              "            style=\"display:none;\">\n",
              "\n",
              "  <svg xmlns=\"http://www.w3.org/2000/svg\" height=\"24px\" viewBox=\"0 -960 960 960\">\n",
              "    <path d=\"M120-120v-720h720v720H120Zm60-500h600v-160H180v160Zm220 220h160v-160H400v160Zm0 220h160v-160H400v160ZM180-400h160v-160H180v160Zm440 0h160v-160H620v160ZM180-180h160v-160H180v160Zm440 0h160v-160H620v160Z\"/>\n",
              "  </svg>\n",
              "    </button>\n",
              "\n",
              "  <style>\n",
              "    .colab-df-container {\n",
              "      display:flex;\n",
              "      gap: 12px;\n",
              "    }\n",
              "\n",
              "    .colab-df-convert {\n",
              "      background-color: #E8F0FE;\n",
              "      border: none;\n",
              "      border-radius: 50%;\n",
              "      cursor: pointer;\n",
              "      display: none;\n",
              "      fill: #1967D2;\n",
              "      height: 32px;\n",
              "      padding: 0 0 0 0;\n",
              "      width: 32px;\n",
              "    }\n",
              "\n",
              "    .colab-df-convert:hover {\n",
              "      background-color: #E2EBFA;\n",
              "      box-shadow: 0px 1px 2px rgba(60, 64, 67, 0.3), 0px 1px 3px 1px rgba(60, 64, 67, 0.15);\n",
              "      fill: #174EA6;\n",
              "    }\n",
              "\n",
              "    .colab-df-buttons div {\n",
              "      margin-bottom: 4px;\n",
              "    }\n",
              "\n",
              "    [theme=dark] .colab-df-convert {\n",
              "      background-color: #3B4455;\n",
              "      fill: #D2E3FC;\n",
              "    }\n",
              "\n",
              "    [theme=dark] .colab-df-convert:hover {\n",
              "      background-color: #434B5C;\n",
              "      box-shadow: 0px 1px 3px 1px rgba(0, 0, 0, 0.15);\n",
              "      filter: drop-shadow(0px 1px 2px rgba(0, 0, 0, 0.3));\n",
              "      fill: #FFFFFF;\n",
              "    }\n",
              "  </style>\n",
              "\n",
              "    <script>\n",
              "      const buttonEl =\n",
              "        document.querySelector('#df-71be59c8-a03b-4f70-8774-91aeea02fd32 button.colab-df-convert');\n",
              "      buttonEl.style.display =\n",
              "        google.colab.kernel.accessAllowed ? 'block' : 'none';\n",
              "\n",
              "      async function convertToInteractive(key) {\n",
              "        const element = document.querySelector('#df-71be59c8-a03b-4f70-8774-91aeea02fd32');\n",
              "        const dataTable =\n",
              "          await google.colab.kernel.invokeFunction('convertToInteractive',\n",
              "                                                    [key], {});\n",
              "        if (!dataTable) return;\n",
              "\n",
              "        const docLinkHtml = 'Like what you see? Visit the ' +\n",
              "          '<a target=\"_blank\" href=https://colab.research.google.com/notebooks/data_table.ipynb>data table notebook</a>'\n",
              "          + ' to learn more about interactive tables.';\n",
              "        element.innerHTML = '';\n",
              "        dataTable['output_type'] = 'display_data';\n",
              "        await google.colab.output.renderOutput(dataTable, element);\n",
              "        const docLink = document.createElement('div');\n",
              "        docLink.innerHTML = docLinkHtml;\n",
              "        element.appendChild(docLink);\n",
              "      }\n",
              "    </script>\n",
              "  </div>\n",
              "\n",
              "\n",
              "<div id=\"df-231a65b3-9306-47b4-bf76-218c864093e8\">\n",
              "  <button class=\"colab-df-quickchart\" onclick=\"quickchart('df-231a65b3-9306-47b4-bf76-218c864093e8')\"\n",
              "            title=\"Suggest charts\"\n",
              "            style=\"display:none;\">\n",
              "\n",
              "<svg xmlns=\"http://www.w3.org/2000/svg\" height=\"24px\"viewBox=\"0 0 24 24\"\n",
              "     width=\"24px\">\n",
              "    <g>\n",
              "        <path d=\"M19 3H5c-1.1 0-2 .9-2 2v14c0 1.1.9 2 2 2h14c1.1 0 2-.9 2-2V5c0-1.1-.9-2-2-2zM9 17H7v-7h2v7zm4 0h-2V7h2v10zm4 0h-2v-4h2v4z\"/>\n",
              "    </g>\n",
              "</svg>\n",
              "  </button>\n",
              "\n",
              "<style>\n",
              "  .colab-df-quickchart {\n",
              "      --bg-color: #E8F0FE;\n",
              "      --fill-color: #1967D2;\n",
              "      --hover-bg-color: #E2EBFA;\n",
              "      --hover-fill-color: #174EA6;\n",
              "      --disabled-fill-color: #AAA;\n",
              "      --disabled-bg-color: #DDD;\n",
              "  }\n",
              "\n",
              "  [theme=dark] .colab-df-quickchart {\n",
              "      --bg-color: #3B4455;\n",
              "      --fill-color: #D2E3FC;\n",
              "      --hover-bg-color: #434B5C;\n",
              "      --hover-fill-color: #FFFFFF;\n",
              "      --disabled-bg-color: #3B4455;\n",
              "      --disabled-fill-color: #666;\n",
              "  }\n",
              "\n",
              "  .colab-df-quickchart {\n",
              "    background-color: var(--bg-color);\n",
              "    border: none;\n",
              "    border-radius: 50%;\n",
              "    cursor: pointer;\n",
              "    display: none;\n",
              "    fill: var(--fill-color);\n",
              "    height: 32px;\n",
              "    padding: 0;\n",
              "    width: 32px;\n",
              "  }\n",
              "\n",
              "  .colab-df-quickchart:hover {\n",
              "    background-color: var(--hover-bg-color);\n",
              "    box-shadow: 0 1px 2px rgba(60, 64, 67, 0.3), 0 1px 3px 1px rgba(60, 64, 67, 0.15);\n",
              "    fill: var(--button-hover-fill-color);\n",
              "  }\n",
              "\n",
              "  .colab-df-quickchart-complete:disabled,\n",
              "  .colab-df-quickchart-complete:disabled:hover {\n",
              "    background-color: var(--disabled-bg-color);\n",
              "    fill: var(--disabled-fill-color);\n",
              "    box-shadow: none;\n",
              "  }\n",
              "\n",
              "  .colab-df-spinner {\n",
              "    border: 2px solid var(--fill-color);\n",
              "    border-color: transparent;\n",
              "    border-bottom-color: var(--fill-color);\n",
              "    animation:\n",
              "      spin 1s steps(1) infinite;\n",
              "  }\n",
              "\n",
              "  @keyframes spin {\n",
              "    0% {\n",
              "      border-color: transparent;\n",
              "      border-bottom-color: var(--fill-color);\n",
              "      border-left-color: var(--fill-color);\n",
              "    }\n",
              "    20% {\n",
              "      border-color: transparent;\n",
              "      border-left-color: var(--fill-color);\n",
              "      border-top-color: var(--fill-color);\n",
              "    }\n",
              "    30% {\n",
              "      border-color: transparent;\n",
              "      border-left-color: var(--fill-color);\n",
              "      border-top-color: var(--fill-color);\n",
              "      border-right-color: var(--fill-color);\n",
              "    }\n",
              "    40% {\n",
              "      border-color: transparent;\n",
              "      border-right-color: var(--fill-color);\n",
              "      border-top-color: var(--fill-color);\n",
              "    }\n",
              "    60% {\n",
              "      border-color: transparent;\n",
              "      border-right-color: var(--fill-color);\n",
              "    }\n",
              "    80% {\n",
              "      border-color: transparent;\n",
              "      border-right-color: var(--fill-color);\n",
              "      border-bottom-color: var(--fill-color);\n",
              "    }\n",
              "    90% {\n",
              "      border-color: transparent;\n",
              "      border-bottom-color: var(--fill-color);\n",
              "    }\n",
              "  }\n",
              "</style>\n",
              "\n",
              "  <script>\n",
              "    async function quickchart(key) {\n",
              "      const quickchartButtonEl =\n",
              "        document.querySelector('#' + key + ' button');\n",
              "      quickchartButtonEl.disabled = true;  // To prevent multiple clicks.\n",
              "      quickchartButtonEl.classList.add('colab-df-spinner');\n",
              "      try {\n",
              "        const charts = await google.colab.kernel.invokeFunction(\n",
              "            'suggestCharts', [key], {});\n",
              "      } catch (error) {\n",
              "        console.error('Error during call to suggestCharts:', error);\n",
              "      }\n",
              "      quickchartButtonEl.classList.remove('colab-df-spinner');\n",
              "      quickchartButtonEl.classList.add('colab-df-quickchart-complete');\n",
              "    }\n",
              "    (() => {\n",
              "      let quickchartButtonEl =\n",
              "        document.querySelector('#df-231a65b3-9306-47b4-bf76-218c864093e8 button');\n",
              "      quickchartButtonEl.style.display =\n",
              "        google.colab.kernel.accessAllowed ? 'block' : 'none';\n",
              "    })();\n",
              "  </script>\n",
              "</div>\n",
              "    </div>\n",
              "  </div>\n"
            ]
          },
          "metadata": {},
          "execution_count": 9
        }
      ]
    },
    {
      "cell_type": "markdown",
      "source": [
        "## Посмотрим на users, что имеем"
      ],
      "metadata": {
        "id": "F7THtq7tXKI1"
      }
    },
    {
      "cell_type": "code",
      "source": [
        "sb.histplot(users_df['age'][users_df['age'].isna() == False].apply(lambda x: str(x)[4:]))\n",
        "# sb.histplot(x=['age_18_24', 'age_25_34', 'age_45_54', 'age_35_44', 'age_55_64', 'age_65_inf'], y=[127672, 233926, 207043, 135925, 75265, 46271])\n",
        "# ['age_25_34', 'age_18_24', 'age_45_54', 'age_35_44', 'age_55_64', 'age_65_inf']"
      ],
      "metadata": {
        "colab": {
          "base_uri": "https://localhost:8080/",
          "height": 467
        },
        "id": "k2_gSX_VXSLR",
        "outputId": "e32b2cb8-c334-4a92-cb7d-52d7f4daa1f9"
      },
      "execution_count": 23,
      "outputs": [
        {
          "output_type": "execute_result",
          "data": {
            "text/plain": [
              "<Axes: xlabel='age', ylabel='Count'>"
            ]
          },
          "metadata": {},
          "execution_count": 23
        },
        {
          "output_type": "display_data",
          "data": {
            "text/plain": [
              "<Figure size 640x480 with 1 Axes>"
            ],
            "image/png": "[encoded data removed]"
          },
          "metadata": {}
        }
      ]
    },
    {
      "cell_type": "code",
      "source": [
        "users_df['age'][users_df['age'].isna() == False].apply(lambda x: str(x)).value_counts()\n",
        "# [127672, 233926, 207043, 135925, 75265, 46271]"
      ],
      "metadata": {
        "colab": {
          "base_uri": "https://localhost:8080/"
        },
        "id": "58d_yGw2a3wN",
        "outputId": "7394b2b9-b777-4d2b-cfe9-01380911a799"
      },
      "execution_count": 13,
      "outputs": [
        {
          "output_type": "execute_result",
          "data": {
            "text/plain": [
              "age_25_34     233926\n",
              "age_35_44     207043\n",
              "age_45_54     135925\n",
              "age_18_24     127672\n",
              "age_55_64      75265\n",
              "age_65_inf     46271\n",
              "Name: age, dtype: int64"
            ]
          },
          "metadata": {},
          "execution_count": 13
        }
      ]
    },
    {
      "cell_type": "code",
      "source": [
        "sb.histplot(users_df['income'][users_df['income'].isna() == False].apply(lambda x: str(x)[7:]))\n",
        "# users_df['income'][users_df['income'].isna() == False].apply(lambda x: str(x)[7:]).value_counts().index"
      ],
      "metadata": {
        "colab": {
          "base_uri": "https://localhost:8080/",
          "height": 467
        },
        "id": "Q8935ae1Z1sI",
        "outputId": "6bcabb29-22de-4543-a812-45b1dafd8e91"
      },
      "execution_count": 20,
      "outputs": [
        {
          "output_type": "execute_result",
          "data": {
            "text/plain": [
              "<Axes: xlabel='income', ylabel='Count'>"
            ]
          },
          "metadata": {},
          "execution_count": 20
        },
        {
          "output_type": "display_data",
          "data": {
            "text/plain": [
              "<Figure size 640x480 with 1 Axes>"
            ],
            "image/png": "[encoded data removed]"
          },
          "metadata": {}
        }
      ]
    },
    {
      "cell_type": "code",
      "source": [
        "sb.histplot(users_df['sex'][users_df['sex'].isna() == False].apply(lambda x: str(x)))"
      ],
      "metadata": {
        "colab": {
          "base_uri": "https://localhost:8080/",
          "height": 466
        },
        "id": "eHO4CaBqbTIm",
        "outputId": "bef47163-4bac-4241-a535-33b2a12e9f98"
      },
      "execution_count": 21,
      "outputs": [
        {
          "output_type": "execute_result",
          "data": {
            "text/plain": [
              "<Axes: xlabel='sex', ylabel='Count'>"
            ]
          },
          "metadata": {},
          "execution_count": 21
        },
        {
          "output_type": "display_data",
          "data": {
            "text/plain": [
              "<Figure size 640x480 with 1 Axes>"
            ],
            "image/png": "[encoded data removed]"
          },
          "metadata": {}
        }
      ]
    },
    {
      "cell_type": "code",
      "source": [
        "sb.histplot(users_df['kids_flg'][users_df['kids_flg'].isna() == False].apply(lambda x: str(x)))"
      ],
      "metadata": {
        "colab": {
          "base_uri": "https://localhost:8080/",
          "height": 467
        },
        "id": "JWQn-t8mbaSo",
        "outputId": "b5933a91-c8f1-4aa1-8395-01daeb573c09"
      },
      "execution_count": 22,
      "outputs": [
        {
          "output_type": "execute_result",
          "data": {
            "text/plain": [
              "<Axes: xlabel='kids_flg', ylabel='Count'>"
            ]
          },
          "metadata": {},
          "execution_count": 22
        },
        {
          "output_type": "display_data",
          "data": {
            "text/plain": [
              "<Figure size 640x480 with 1 Axes>"
            ],
            "image/png": "[encoded data removed]"
          },
          "metadata": {}
        }
      ]
    },
    {
      "cell_type": "markdown",
      "source": [
        "## Посмотрим на items, что имеем"
      ],
      "metadata": {
        "id": "CLo0ybSOnBAF"
      }
    },
    {
      "cell_type": "code",
      "source": [
        "items_df.info()"
      ],
      "metadata": {
        "colab": {
          "base_uri": "https://localhost:8080/"
        },
        "id": "du2AeurItQQs",
        "outputId": "b00192a9-54d0-45b6-83a0-03dcc419aae3"
      },
      "execution_count": 25,
      "outputs": [
        {
          "output_type": "stream",
          "name": "stdout",
          "text": [
            "<class 'pandas.core.frame.DataFrame'>\n",
            "RangeIndex: 15963 entries, 0 to 15962\n",
            "Data columns (total 14 columns):\n",
            " #   Column        Non-Null Count  Dtype  \n",
            "---  ------        --------------  -----  \n",
            " 0   item_id       15963 non-null  int64  \n",
            " 1   content_type  15963 non-null  object \n",
            " 2   title         15963 non-null  object \n",
            " 3   title_orig    11218 non-null  object \n",
            " 4   release_year  15865 non-null  float64\n",
            " 5   genres        15963 non-null  object \n",
            " 6   countries     15926 non-null  object \n",
            " 7   for_kids      566 non-null    float64\n",
            " 8   age_rating    15961 non-null  float64\n",
            " 9   studios       1065 non-null   object \n",
            " 10  directors     14454 non-null  object \n",
            " 11  actors        13344 non-null  object \n",
            " 12  description   15961 non-null  object \n",
            " 13  keywords      15540 non-null  object \n",
            "dtypes: float64(3), int64(1), object(10)\n",
            "memory usage: 1.7+ MB\n"
          ]
        }
      ]
    },
    {
      "cell_type": "code",
      "source": [
        "items_num_features = ['release_year', 'for_kids', 'age_rating']"
      ],
      "metadata": {
        "id": "mU9BnN1_tpig"
      },
      "execution_count": 27,
      "outputs": []
    },
    {
      "cell_type": "code",
      "source": [
        "items_cat_features = ['content_type', 'title', 'title_orig', 'genres',\n",
        "                      'countries', 'studios', 'directors', 'actors',\n",
        "                      'description', 'keywords']"
      ],
      "metadata": {
        "id": "RUhTq3ArtgBF"
      },
      "execution_count": 28,
      "outputs": []
    },
    {
      "cell_type": "code",
      "source": [
        "from pandas.core.arrays.integer import Int64Dtype\n",
        "for feat in items_num_features:\n",
        "    items_df[feat] = items_df[feat].astype(Int64Dtype())"
      ],
      "metadata": {
        "id": "ybYYRQvr4VKC"
      },
      "execution_count": 46,
      "outputs": []
    },
    {
      "cell_type": "code",
      "source": [
        "fig, axs = plt.subplots(3)\n",
        "fig.suptitle('Distributions of numerical features')\n",
        "\n",
        "for i in range(len(items_num_features)):\n",
        "    axs[i].hist(items_df[items_df[items_num_features[i]].isna() == False][items_num_features[i]], bins=int(len(items_df[items_num_features[i]].drop_duplicates()) - 1))\n",
        "    axs[i].set_title(items_num_features[i])\n",
        "plt.tight_layout()"
      ],
      "metadata": {
        "colab": {
          "base_uri": "https://localhost:8080/",
          "height": 492
        },
        "id": "ZDJ1iZhznV9z",
        "outputId": "d3315998-2448-4c16-c1a5-6e00b91f82df"
      },
      "execution_count": 55,
      "outputs": [
        {
          "output_type": "display_data",
          "data": {
            "text/plain": [
              "<Figure size 640x480 with 3 Axes>"
            ],
            "image/png": "[encoded data removed]"
          },
          "metadata": {}
        }
      ]
    },
    {
      "cell_type": "code",
      "source": [
        "for feat in items_cat_features:\n",
        "    print(feat)\n",
        "    print(items_df[feat].value_counts())\n",
        "    print()"
      ],
      "metadata": {
        "colab": {
          "base_uri": "https://localhost:8080/"
        },
        "id": "GKd04z5cs3s0",
        "outputId": "e9b388af-7022-4ef0-c2bb-752130ed31c3"
      },
      "execution_count": 57,
      "outputs": [
        {
          "output_type": "stream",
          "name": "stdout",
          "text": [
            "content_type\n",
            "film      12002\n",
            "series     3961\n",
            "Name: content_type, dtype: int64\n",
            "\n",
            "title\n",
            "Охота                                   5\n",
            "Вторжение                               4\n",
            "Родина                                  4\n",
            "Красавица и чудовище                    4\n",
            "Стрелок                                 4\n",
            "                                       ..\n",
            "Море соблазна                           1\n",
            "Сексуальные эксперименты в космосе 2    1\n",
            "Голый романтик                          1\n",
            "Нежная рука закона                      1\n",
            "Гоша                                    1\n",
            "Name: title, Length: 15293, dtype: int64\n",
            "\n",
            "title_orig\n",
            "Little Women         4\n",
            "Traditional dance    4\n",
            "Pet Sematary         4\n",
            "The Kid              3\n",
            "Star Trek            3\n",
            "                    ..\n",
            "City by the Sea      1\n",
            "La Gomera            1\n",
            "Foxtrot Six          1\n",
            "Vicious              1\n",
            "Darklands            1\n",
            "Name: title_orig, Length: 10575, dtype: int64\n",
            "\n",
            "genres\n",
            "документальное                                                             816\n",
            "драмы                                                                      719\n",
            "комедии                                                                    564\n",
            "для взрослых                                                               482\n",
            "русские, мелодрамы                                                         416\n",
            "                                                                          ... \n",
            "драмы, зарубежные, спорт, семейное, комедии                                  1\n",
            "музыкальные, драмы, зарубежные, семейное, комедии                            1\n",
            "приключения, полнометражные, зарубежные, семейное, западные мультфильмы      1\n",
            "детективы, приключения, зарубежные, триллеры, ужасы                          1\n",
            "фэнтези, семейное, криминал, комедии                                         1\n",
            "Name: genres, Length: 2771, dtype: int64\n",
            "\n",
            "countries\n",
            "Россия                                                                  4237\n",
            "США                                                                     4090\n",
            "СССР                                                                    1401\n",
            "Франция                                                                 1158\n",
            "Великобритания                                                           718\n",
            "                                                                        ... \n",
            "Франция, Китай                                                             1\n",
            "Мальта                                                                     1\n",
            "Великобритания, Ирландия, Канада, США, Индия                               1\n",
            "Швеция, Германия, Норвегия, Дания, Исландия, Бельгия, Великобритания       1\n",
            "Финляндия, Германия                                                        1\n",
            "Name: countries, Length: 687, dtype: int64\n",
            "\n",
            "studios\n",
            "HBO                         353\n",
            "Ленфильм                    212\n",
            "Sony Pictures               162\n",
            "Ленфильм, рентв              46\n",
            "Paramount                    46\n",
            "Sky                          30\n",
            "DAZN                         30\n",
            "CBS                          27\n",
            "Starz                        21\n",
            "BBC                          19\n",
            "Universal                    18\n",
            "Showtime                     16\n",
            "Warner Bros. Television      14\n",
            "Cinemax                      10\n",
            "Warner Bros                   9\n",
            "Sony Pictures Television      7\n",
            "Fox                           7\n",
            "Fremantle                     4\n",
            "Endemol                       4\n",
            "Amediateka                    3\n",
            "Sky, Fremantle                2\n",
            "HBO, BBC                      2\n",
            "Мосфильм                      2\n",
            "Sony Plus, рентв              2\n",
            "CBS All Access                2\n",
            "Channel 4                     2\n",
            "Sony Pictures, рентв          2\n",
            "Disney                        2\n",
            "HBO Max                       2\n",
            "Legendary                     1\n",
            "New Regency Productions       1\n",
            "рентв                         1\n",
            "Universal, рентв              1\n",
            "MGM                           1\n",
            "Рок фильм                     1\n",
            "ABC                           1\n",
            "FX                            1\n",
            "Sony Plus                     1\n",
            "Name: studios, dtype: int64\n",
            "\n",
            "directors\n",
            "Оливье Шиабоду                     511\n",
            "Денис Франческо                     49\n",
            "Глова Роман Юрьевич                 36\n",
            "Сергей Зарев                        29\n",
            "Альфред Хичкок                      28\n",
            "                                  ... \n",
            "Джей Чандрашекхар                    1\n",
            "Гарт Дженнингс, Кристоф Лурделе      1\n",
            "Кэри Фукунага                        1\n",
            "Пол Вейланд                          1\n",
            "Михаил Миронов                       1\n",
            "Name: directors, Length: 7973, dtype: int64\n",
            "\n",
            "actors\n",
            "Александр Клюквин                                                                                                                                                              25\n",
            "Тайлер Никсон, Маркус Лондон, Томми Ганн                                                                                                                                       16\n",
            "Жан-Пьер Морель, Оливье Шиабоду                                                                                                                                                 8\n",
            "Кэти Морган                                                                                                                                                                     6\n",
            "Молли Мэнсон                                                                                                                                                                    6\n",
            "                                                                                                                                                                               ..\n",
            "Жанетт Хайн, Ютта-Мерле Бёрнсен, Клаус Тангэ, Йорг Винсент Малотки, Питер Гадиот, Марк Бишофф, Роджер Тебб, Джесси Инман, Манон Кайл, Тадэуш Мейлингер                          1\n",
            "Джон Траволта, Кира Седжвик, Форест Уитакер, Роберт Дювалл, Джеффри ДеМанн, Ричард Кайли, Дэвид Галлахер, Эшли Буккилль, Тони Дженаро, Шон О’Брайан                             1\n",
            "Шарлто Копли, Джейсон Коуп, Сильвен Страйк, Элизабет Мкандави, Джон Самнер, Уильям Аллен Янг, Грег Мелвилл-Смит, Ник Блейк, Нил Бломкамп, Натали Болтт, Морена Буса Сесатса     1\n",
            "Шэй Митчелл, Грэй Дэймон, Кирби Джонсон, Ник Тун, Луис Хертэм, Стана Катик, Максимиллиан МакНамара, Джейкоб Минг-Трент, Джеймс А. Уотсон мл., Марианн Байяр                     1\n",
            "Мкртыч Арзуманян, Виктория Рунцова                                                                                                                                              1\n",
            "Name: actors, Length: 12996, dtype: int64\n",
            "\n",
            "description\n",
            "МТС «Карантинники» — это домашние акустические концерты известных музыкантов, которые хотят поддержать каждого, кто сейчас находится на карантине и в самоизоляции.                                                                                                                                                                                                                                                                                                                                                                                                                                                                  36\n",
            "Лига чемпионов AFC - это главный клубный футбольный турнир в Азии. Самые интересные матчи  Лига чемпионов AFC                                                                                                                                                                                                                                                                                                                                                                                                                                                                                                                        24\n",
            "Тренируйся и худей дома с готовым питанием от Grow Food. Попробуй бесплатно по промокоду IVI на сайте growfood.pro  Другие программы тренера доступны на FitStars.ru  Онлайн-программа с утренними зарядками для тех, кто хочет сформировать привычку ежедневно тренироваться. Зарядка состоит из простых упражнений, направленных на то, чтобы разбудить тело и подготовить к продуктивному дню. В этой программе сделан акцент на развитие гибкости тела. Каждая зарядка занимает около 10 минут, не требует никакого дополнительного оборудования и большого пространства. Ваша задача лишь включить видео и начать повторять!     8\n",
            "Возрастное ограничение 18+                                                                                                                                                                                                                                                                                                                                                                                                                                                                                                                                                                                                            8\n",
            "Серия танцевальных уроков, которые позволяет детям осваивать движения и чувствовать ритм. Каждое занятие направлено на развитие всех физических качеств ребенка и получение навыков музыкально-ритмической координации.   В начале занятия ребёнка ждёт разминка. При помощи профессионального тренера он сможет изучить новые движения в простой игровой форме. В конце занятия тренер разучит вместе с малышами танцевальную комбинацию, в каждом выпуске это будет новый вид танца.    От выпуска к выпуску возрастает и сложност выполнения элементов, поэтому мы рекомендуем начинать с первого выпуска серии Baby Dance.        6\n",
            "                                                                                                                                                                                                                                                                                                                                                                                                                                                                                                                                                                                                                                     ..\n",
            "Когда группа обычных людей узнаёт о комете, диаметром в тринадцать километров, которая летит навстречу Земле, они спускаются под город Слау, чтобы наблюдать за концом света по телевизору. Но кто эти люди, и как пересеклись их пути?                                                                                                                                                                                                                                                                                                                                                                                               1\n",
            "Сериал о героях Грибоедова в эпоху интернета. Познакомиться с популярным блогером Чацким мечтают миллионы подписчиков, но враги нашли его раньше. Совесть Готума, главный человек сети мёртв. У следователя по особо важным делам Порфирия Петровича неделя, чтобы найти убийцу и избежать массовых беспорядков.                                                                                                                                                                                                                                                                                                                      1\n",
            "Маленькая героиня сериала «Маша и Медведь» умеет многое. Например, рассказывать пугающие истории, Маша учит малышей ничего не бояться. Она объясняет, откуда именно берутся распространённые детские страхи и как с ними справиться. Ну что, вы готовы к жутким историям?                                                                                                                                                                                                                                                                                                                                                             1\n",
            "Барсук, Сова, Лягушонок, Дятел и братья Зайкины живут в Куролесье и попадают в смешные истории. На помощь к ним всегда спешит сосед Бобр, который и морковкой угостит, и к физкультуре приучит, и целое расследование проведёт. Герои научат зрителей быть добрыми и отзывчивыми.                                                                                                                                                                                                                                                                                                                                                     1\n",
            "Добродушный Гоша не может выйти из дома, чтобы не попасть в нелепую и курьёзную историю. Но даже неудачники мечтают о любви, и наш герой — не исключение, ведь оптимизма ему не занимать.                                                                                                                                                                                                                                                                                                                                                                                                                                             1\n",
            "Name: description, Length: 15619, dtype: int64\n",
            "\n",
            "keywords\n",
            "2015, чехия, компания, трех                                             6\n",
            "2015, чехия, секс, страсть                                              6\n",
            "2011, италия, дом, желаний                                              5\n",
            "2006, италия, эвротико                                                  5\n",
            "сериал мини-формата                                                     4\n",
            "                                                                       ..\n",
            "ватикан, комета, конец света, священник, апокалипсис, пропавшая жена    1\n",
            "Горе, от, ума, 2019, Россия                                             1\n",
            "Машкины, страшилки, 2014, Россия                                        1\n",
            "Бобр, Добр, 2018, Россия                                                1\n",
            "Гоша, 2019, Россия                                                      1\n",
            "Name: keywords, Length: 15492, dtype: int64\n",
            "\n"
          ]
        }
      ]
    },
    {
      "cell_type": "code",
      "source": [
        "items_df[items_df['genres'] == 'для взрослых'].sample(10)"
      ],
      "metadata": {
        "colab": {
          "base_uri": "https://localhost:8080/",
          "height": 1000
        },
        "id": "uGV6lEIJ9BJO",
        "outputId": "77fd8231-bb18-4364-b1a4-ddf3ea93d09a"
      },
      "execution_count": 59,
      "outputs": [
        {
          "output_type": "execute_result",
          "data": {
            "text/plain": [
              "       item_id content_type                             title  \\\n",
              "12788     2422         film               Американские забавы   \n",
              "13725     8610         film                     Дом желаний 1   \n",
              "12995     2403         film             Сатиновая преданность   \n",
              "5304      9940         film  Милые девочки с большими формами   \n",
              "7863      5512         film                        Эвротико 3   \n",
              "12260     3335         film                           Соблазн   \n",
              "716       6751         film              Пошаговая инструкция   \n",
              "4601      8245         film                Затерянный в сексе   \n",
              "11492    11352         film                    Тёмная сторона   \n",
              "15012     3741         film               Убийственный Трепет   \n",
              "\n",
              "                               title_orig  release_year        genres  \\\n",
              "12788                     American Hustle          2014  для взрослых   \n",
              "13725                      Dream honies 1          2011  для взрослых   \n",
              "12995                      Satin Devotion          2013  для взрослых   \n",
              "5304       Sweet Girls With Massive Boobs          2016  для взрослых   \n",
              "7863                          Eurotico 03          2005  для взрослых   \n",
              "12260                         So Tempting          2017  для взрослых   \n",
              "716                        Step Relations          2016  для взрослых   \n",
              "4601   Virtualia Episode Six: Lost in Sex          2002  для взрослых   \n",
              "11492  Virtualia Episode Three: Dark Side          2001  для взрослых   \n",
              "15012                         Kill Thrill          2005  для взрослых   \n",
              "\n",
              "               countries  for_kids  age_rating studios  \\\n",
              "12788                США      <NA>          21     NaN   \n",
              "13725             Италия      <NA>          21     NaN   \n",
              "12995  Нидерланды, Чехия      <NA>          21     NaN   \n",
              "5304                 США      <NA>          21     NaN   \n",
              "7863              Италия      <NA>          21     NaN   \n",
              "12260              Чехия      <NA>          21     NaN   \n",
              "716       Великобритания      <NA>          21     NaN   \n",
              "4601              Швеция      <NA>          21     NaN   \n",
              "11492             Швеция      <NA>          21     NaN   \n",
              "15012             Швеция      <NA>          21     NaN   \n",
              "\n",
              "                                       directors  \\\n",
              "12788                                Вилл Райдер   \n",
              "13725                                Денис Марти   \n",
              "12995                                Денис Марти   \n",
              "5304                                    Бад Фокс   \n",
              "7863              Денис Марти, Франческо Фанелли   \n",
              "12260                            Денис Франческо   \n",
              "716                     Скарлетт Ревелл, Газзман   \n",
              "4601                               Антонио Адамо   \n",
              "11492                              Антонио Адамо   \n",
              "15012  Пьер Вудман, Антонио Адамо, Роман Новицки   \n",
              "\n",
              "                                                  actors  \\\n",
              "12788                                                NaN   \n",
              "13725                                                NaN   \n",
              "12995                                                NaN   \n",
              "5304            Тайлер Никсон, Маркус Лондон, Томми Ганн   \n",
              "7863                                                 NaN   \n",
              "12260                                                NaN   \n",
              "716                                                  NaN   \n",
              "4601   Линн Стоун, Сандра Руссо, Блэк Уидоу, Тиффани ...   \n",
              "11492  Линн Стоун, Клаудия Риччи, Софи Эванс, Сандра ...   \n",
              "15012                                                NaN   \n",
              "\n",
              "                                             description  \\\n",
              "12788  Что объединяет мастера покера, итальянских маф...   \n",
              "13725  Обворожительная пациентка проходит тщательное ...   \n",
              "12995  Эти великолепные любящие дамы демонстрируют ис...   \n",
              "5304   «Настоящий мужчина, чтобы начать взрослую жизн...   \n",
              "7863   Доступные красавицы приглашают мужчин поиграть...   \n",
              "12260  Иногда соблазнение – не менее приятный процесс...   \n",
              "716    Существует ли специальная инструкция по соблаз...   \n",
              "4601   Молодой детектив разыскивает таинственного ман...   \n",
              "11492  Приключенческая эротика в духе Индианы Джонса ...   \n",
              "15012  \"На Карибских островах, где много-много диких ...   \n",
              "\n",
              "                                                keywords  \n",
              "12788      2014, соединенные штаты, американские, забавы  \n",
              "13725                         2011, италия, дом, желаний  \n",
              "12995    2013, нидерланды, чехия, сатиновая, преданность  \n",
              "5304   2016, соединенные штаты, милые, девочки, больш...  \n",
              "7863                              2005, италия, эвротико  \n",
              "12260                               2017, чехия, соблазн  \n",
              "716    2016, соединенное королевство, пошаговая, инст...  \n",
              "4601   , Анальный секс, Большая грудь, Бондаж, Взгляд...  \n",
              "11492  , Анальный секс, Банкомат, Взгляд в камеру, Вт...  \n",
              "15012                 2005, швеция, убийственный, трепет  "
            ],
            "text/html": [
              "\n",
              "  <div id=\"df-04981f77-7dda-4e2f-9218-d5bfef8a0dc2\" class=\"colab-df-container\">\n",
              "    <div>\n",
              "<style scoped>\n",
              "    .dataframe tbody tr th:only-of-type {\n",
              "        vertical-align: middle;\n",
              "    }\n",
              "\n",
              "    .dataframe tbody tr th {\n",
              "        vertical-align: top;\n",
              "    }\n",
              "\n",
              "    .dataframe thead th {\n",
              "        text-align: right;\n",
              "    }\n",
              "</style>\n",
              "<table border=\"1\" class=\"dataframe\">\n",
              "  <thead>\n",
              "    <tr style=\"text-align: right;\">\n",
              "      <th></th>\n",
              "      <th>item_id</th>\n",
              "      <th>content_type</th>\n",
              "      <th>title</th>\n",
              "      <th>title_orig</th>\n",
              "      <th>release_year</th>\n",
              "      <th>genres</th>\n",
              "      <th>countries</th>\n",
              "      <th>for_kids</th>\n",
              "      <th>age_rating</th>\n",
              "      <th>studios</th>\n",
              "      <th>directors</th>\n",
              "      <th>actors</th>\n",
              "      <th>description</th>\n",
              "      <th>keywords</th>\n",
              "    </tr>\n",
              "  </thead>\n",
              "  <tbody>\n",
              "    <tr>\n",
              "      <th>12788</th>\n",
              "      <td>2422</td>\n",
              "      <td>film</td>\n",
              "      <td>Американские забавы</td>\n",
              "      <td>American Hustle</td>\n",
              "      <td>2014</td>\n",
              "      <td>для взрослых</td>\n",
              "      <td>США</td>\n",
              "      <td>&lt;NA&gt;</td>\n",
              "      <td>21</td>\n",
              "      <td>NaN</td>\n",
              "      <td>Вилл Райдер</td>\n",
              "      <td>NaN</td>\n",
              "      <td>Что объединяет мастера покера, итальянских маф...</td>\n",
              "      <td>2014, соединенные штаты, американские, забавы</td>\n",
              "    </tr>\n",
              "    <tr>\n",
              "      <th>13725</th>\n",
              "      <td>8610</td>\n",
              "      <td>film</td>\n",
              "      <td>Дом желаний 1</td>\n",
              "      <td>Dream honies 1</td>\n",
              "      <td>2011</td>\n",
              "      <td>для взрослых</td>\n",
              "      <td>Италия</td>\n",
              "      <td>&lt;NA&gt;</td>\n",
              "      <td>21</td>\n",
              "      <td>NaN</td>\n",
              "      <td>Денис Марти</td>\n",
              "      <td>NaN</td>\n",
              "      <td>Обворожительная пациентка проходит тщательное ...</td>\n",
              "      <td>2011, италия, дом, желаний</td>\n",
              "    </tr>\n",
              "    <tr>\n",
              "      <th>12995</th>\n",
              "      <td>2403</td>\n",
              "      <td>film</td>\n",
              "      <td>Сатиновая преданность</td>\n",
              "      <td>Satin Devotion</td>\n",
              "      <td>2013</td>\n",
              "      <td>для взрослых</td>\n",
              "      <td>Нидерланды, Чехия</td>\n",
              "      <td>&lt;NA&gt;</td>\n",
              "      <td>21</td>\n",
              "      <td>NaN</td>\n",
              "      <td>Денис Марти</td>\n",
              "      <td>NaN</td>\n",
              "      <td>Эти великолепные любящие дамы демонстрируют ис...</td>\n",
              "      <td>2013, нидерланды, чехия, сатиновая, преданность</td>\n",
              "    </tr>\n",
              "    <tr>\n",
              "      <th>5304</th>\n",
              "      <td>9940</td>\n",
              "      <td>film</td>\n",
              "      <td>Милые девочки с большими формами</td>\n",
              "      <td>Sweet Girls With Massive Boobs</td>\n",
              "      <td>2016</td>\n",
              "      <td>для взрослых</td>\n",
              "      <td>США</td>\n",
              "      <td>&lt;NA&gt;</td>\n",
              "      <td>21</td>\n",
              "      <td>NaN</td>\n",
              "      <td>Бад Фокс</td>\n",
              "      <td>Тайлер Никсон, Маркус Лондон, Томми Ганн</td>\n",
              "      <td>«Настоящий мужчина, чтобы начать взрослую жизн...</td>\n",
              "      <td>2016, соединенные штаты, милые, девочки, больш...</td>\n",
              "    </tr>\n",
              "    <tr>\n",
              "      <th>7863</th>\n",
              "      <td>5512</td>\n",
              "      <td>film</td>\n",
              "      <td>Эвротико 3</td>\n",
              "      <td>Eurotico 03</td>\n",
              "      <td>2005</td>\n",
              "      <td>для взрослых</td>\n",
              "      <td>Италия</td>\n",
              "      <td>&lt;NA&gt;</td>\n",
              "      <td>21</td>\n",
              "      <td>NaN</td>\n",
              "      <td>Денис Марти, Франческо Фанелли</td>\n",
              "      <td>NaN</td>\n",
              "      <td>Доступные красавицы приглашают мужчин поиграть...</td>\n",
              "      <td>2005, италия, эвротико</td>\n",
              "    </tr>\n",
              "    <tr>\n",
              "      <th>12260</th>\n",
              "      <td>3335</td>\n",
              "      <td>film</td>\n",
              "      <td>Соблазн</td>\n",
              "      <td>So Tempting</td>\n",
              "      <td>2017</td>\n",
              "      <td>для взрослых</td>\n",
              "      <td>Чехия</td>\n",
              "      <td>&lt;NA&gt;</td>\n",
              "      <td>21</td>\n",
              "      <td>NaN</td>\n",
              "      <td>Денис Франческо</td>\n",
              "      <td>NaN</td>\n",
              "      <td>Иногда соблазнение – не менее приятный процесс...</td>\n",
              "      <td>2017, чехия, соблазн</td>\n",
              "    </tr>\n",
              "    <tr>\n",
              "      <th>716</th>\n",
              "      <td>6751</td>\n",
              "      <td>film</td>\n",
              "      <td>Пошаговая инструкция</td>\n",
              "      <td>Step Relations</td>\n",
              "      <td>2016</td>\n",
              "      <td>для взрослых</td>\n",
              "      <td>Великобритания</td>\n",
              "      <td>&lt;NA&gt;</td>\n",
              "      <td>21</td>\n",
              "      <td>NaN</td>\n",
              "      <td>Скарлетт Ревелл, Газзман</td>\n",
              "      <td>NaN</td>\n",
              "      <td>Существует ли специальная инструкция по соблаз...</td>\n",
              "      <td>2016, соединенное королевство, пошаговая, инст...</td>\n",
              "    </tr>\n",
              "    <tr>\n",
              "      <th>4601</th>\n",
              "      <td>8245</td>\n",
              "      <td>film</td>\n",
              "      <td>Затерянный в сексе</td>\n",
              "      <td>Virtualia Episode Six: Lost in Sex</td>\n",
              "      <td>2002</td>\n",
              "      <td>для взрослых</td>\n",
              "      <td>Швеция</td>\n",
              "      <td>&lt;NA&gt;</td>\n",
              "      <td>21</td>\n",
              "      <td>NaN</td>\n",
              "      <td>Антонио Адамо</td>\n",
              "      <td>Линн Стоун, Сандра Руссо, Блэк Уидоу, Тиффани ...</td>\n",
              "      <td>Молодой детектив разыскивает таинственного ман...</td>\n",
              "      <td>, Анальный секс, Большая грудь, Бондаж, Взгляд...</td>\n",
              "    </tr>\n",
              "    <tr>\n",
              "      <th>11492</th>\n",
              "      <td>11352</td>\n",
              "      <td>film</td>\n",
              "      <td>Тёмная сторона</td>\n",
              "      <td>Virtualia Episode Three: Dark Side</td>\n",
              "      <td>2001</td>\n",
              "      <td>для взрослых</td>\n",
              "      <td>Швеция</td>\n",
              "      <td>&lt;NA&gt;</td>\n",
              "      <td>21</td>\n",
              "      <td>NaN</td>\n",
              "      <td>Антонио Адамо</td>\n",
              "      <td>Линн Стоун, Клаудия Риччи, Софи Эванс, Сандра ...</td>\n",
              "      <td>Приключенческая эротика в духе Индианы Джонса ...</td>\n",
              "      <td>, Анальный секс, Банкомат, Взгляд в камеру, Вт...</td>\n",
              "    </tr>\n",
              "    <tr>\n",
              "      <th>15012</th>\n",
              "      <td>3741</td>\n",
              "      <td>film</td>\n",
              "      <td>Убийственный Трепет</td>\n",
              "      <td>Kill Thrill</td>\n",
              "      <td>2005</td>\n",
              "      <td>для взрослых</td>\n",
              "      <td>Швеция</td>\n",
              "      <td>&lt;NA&gt;</td>\n",
              "      <td>21</td>\n",
              "      <td>NaN</td>\n",
              "      <td>Пьер Вудман, Антонио Адамо, Роман Новицки</td>\n",
              "      <td>NaN</td>\n",
              "      <td>\"На Карибских островах, где много-много диких ...</td>\n",
              "      <td>2005, швеция, убийственный, трепет</td>\n",
              "    </tr>\n",
              "  </tbody>\n",
              "</table>\n",
              "</div>\n",
              "    <div class=\"colab-df-buttons\">\n",
              "\n",
              "  <div class=\"colab-df-container\">\n",
              "    <button class=\"colab-df-convert\" onclick=\"convertToInteractive('df-04981f77-7dda-4e2f-9218-d5bfef8a0dc2')\"\n",
              "            title=\"Convert this dataframe to an interactive table.\"\n",
              "            style=\"display:none;\">\n",
              "\n",
              "  <svg xmlns=\"http://www.w3.org/2000/svg\" height=\"24px\" viewBox=\"0 -960 960 960\">\n",
              "    <path d=\"M120-120v-720h720v720H120Zm60-500h600v-160H180v160Zm220 220h160v-160H400v160Zm0 220h160v-160H400v160ZM180-400h160v-160H180v160Zm440 0h160v-160H620v160ZM180-180h160v-160H180v160Zm440 0h160v-160H620v160Z\"/>\n",
              "  </svg>\n",
              "    </button>\n",
              "\n",
              "  <style>\n",
              "    .colab-df-container {\n",
              "      display:flex;\n",
              "      gap: 12px;\n",
              "    }\n",
              "\n",
              "    .colab-df-convert {\n",
              "      background-color: #E8F0FE;\n",
              "      border: none;\n",
              "      border-radius: 50%;\n",
              "      cursor: pointer;\n",
              "      display: none;\n",
              "      fill: #1967D2;\n",
              "      height: 32px;\n",
              "      padding: 0 0 0 0;\n",
              "      width: 32px;\n",
              "    }\n",
              "\n",
              "    .colab-df-convert:hover {\n",
              "      background-color: #E2EBFA;\n",
              "      box-shadow: 0px 1px 2px rgba(60, 64, 67, 0.3), 0px 1px 3px 1px rgba(60, 64, 67, 0.15);\n",
              "      fill: #174EA6;\n",
              "    }\n",
              "\n",
              "    .colab-df-buttons div {\n",
              "      margin-bottom: 4px;\n",
              "    }\n",
              "\n",
              "    [theme=dark] .colab-df-convert {\n",
              "      background-color: #3B4455;\n",
              "      fill: #D2E3FC;\n",
              "    }\n",
              "\n",
              "    [theme=dark] .colab-df-convert:hover {\n",
              "      background-color: #434B5C;\n",
              "      box-shadow: 0px 1px 3px 1px rgba(0, 0, 0, 0.15);\n",
              "      filter: drop-shadow(0px 1px 2px rgba(0, 0, 0, 0.3));\n",
              "      fill: #FFFFFF;\n",
              "    }\n",
              "  </style>\n",
              "\n",
              "    <script>\n",
              "      const buttonEl =\n",
              "        document.querySelector('#df-04981f77-7dda-4e2f-9218-d5bfef8a0dc2 button.colab-df-convert');\n",
              "      buttonEl.style.display =\n",
              "        google.colab.kernel.accessAllowed ? 'block' : 'none';\n",
              "\n",
              "      async function convertToInteractive(key) {\n",
              "        const element = document.querySelector('#df-04981f77-7dda-4e2f-9218-d5bfef8a0dc2');\n",
              "        const dataTable =\n",
              "          await google.colab.kernel.invokeFunction('convertToInteractive',\n",
              "                                                    [key], {});\n",
              "        if (!dataTable) return;\n",
              "\n",
              "        const docLinkHtml = 'Like what you see? Visit the ' +\n",
              "          '<a target=\"_blank\" href=https://colab.research.google.com/notebooks/data_table.ipynb>data table notebook</a>'\n",
              "          + ' to learn more about interactive tables.';\n",
              "        element.innerHTML = '';\n",
              "        dataTable['output_type'] = 'display_data';\n",
              "        await google.colab.output.renderOutput(dataTable, element);\n",
              "        const docLink = document.createElement('div');\n",
              "        docLink.innerHTML = docLinkHtml;\n",
              "        element.appendChild(docLink);\n",
              "      }\n",
              "    </script>\n",
              "  </div>\n",
              "\n",
              "\n",
              "<div id=\"df-a2096e1e-1a9b-43ed-abd6-16de590635be\">\n",
              "  <button class=\"colab-df-quickchart\" onclick=\"quickchart('df-a2096e1e-1a9b-43ed-abd6-16de590635be')\"\n",
              "            title=\"Suggest charts\"\n",
              "            style=\"display:none;\">\n",
              "\n",
              "<svg xmlns=\"http://www.w3.org/2000/svg\" height=\"24px\"viewBox=\"0 0 24 24\"\n",
              "     width=\"24px\">\n",
              "    <g>\n",
              "        <path d=\"M19 3H5c-1.1 0-2 .9-2 2v14c0 1.1.9 2 2 2h14c1.1 0 2-.9 2-2V5c0-1.1-.9-2-2-2zM9 17H7v-7h2v7zm4 0h-2V7h2v10zm4 0h-2v-4h2v4z\"/>\n",
              "    </g>\n",
              "</svg>\n",
              "  </button>\n",
              "\n",
              "<style>\n",
              "  .colab-df-quickchart {\n",
              "      --bg-color: #E8F0FE;\n",
              "      --fill-color: #1967D2;\n",
              "      --hover-bg-color: #E2EBFA;\n",
              "      --hover-fill-color: #174EA6;\n",
              "      --disabled-fill-color: #AAA;\n",
              "      --disabled-bg-color: #DDD;\n",
              "  }\n",
              "\n",
              "  [theme=dark] .colab-df-quickchart {\n",
              "      --bg-color: #3B4455;\n",
              "      --fill-color: #D2E3FC;\n",
              "      --hover-bg-color: #434B5C;\n",
              "      --hover-fill-color: #FFFFFF;\n",
              "      --disabled-bg-color: #3B4455;\n",
              "      --disabled-fill-color: #666;\n",
              "  }\n",
              "\n",
              "  .colab-df-quickchart {\n",
              "    background-color: var(--bg-color);\n",
              "    border: none;\n",
              "    border-radius: 50%;\n",
              "    cursor: pointer;\n",
              "    display: none;\n",
              "    fill: var(--fill-color);\n",
              "    height: 32px;\n",
              "    padding: 0;\n",
              "    width: 32px;\n",
              "  }\n",
              "\n",
              "  .colab-df-quickchart:hover {\n",
              "    background-color: var(--hover-bg-color);\n",
              "    box-shadow: 0 1px 2px rgba(60, 64, 67, 0.3), 0 1px 3px 1px rgba(60, 64, 67, 0.15);\n",
              "    fill: var(--button-hover-fill-color);\n",
              "  }\n",
              "\n",
              "  .colab-df-quickchart-complete:disabled,\n",
              "  .colab-df-quickchart-complete:disabled:hover {\n",
              "    background-color: var(--disabled-bg-color);\n",
              "    fill: var(--disabled-fill-color);\n",
              "    box-shadow: none;\n",
              "  }\n",
              "\n",
              "  .colab-df-spinner {\n",
              "    border: 2px solid var(--fill-color);\n",
              "    border-color: transparent;\n",
              "    border-bottom-color: var(--fill-color);\n",
              "    animation:\n",
              "      spin 1s steps(1) infinite;\n",
              "  }\n",
              "\n",
              "  @keyframes spin {\n",
              "    0% {\n",
              "      border-color: transparent;\n",
              "      border-bottom-color: var(--fill-color);\n",
              "      border-left-color: var(--fill-color);\n",
              "    }\n",
              "    20% {\n",
              "      border-color: transparent;\n",
              "      border-left-color: var(--fill-color);\n",
              "      border-top-color: var(--fill-color);\n",
              "    }\n",
              "    30% {\n",
              "      border-color: transparent;\n",
              "      border-left-color: var(--fill-color);\n",
              "      border-top-color: var(--fill-color);\n",
              "      border-right-color: var(--fill-color);\n",
              "    }\n",
              "    40% {\n",
              "      border-color: transparent;\n",
              "      border-right-color: var(--fill-color);\n",
              "      border-top-color: var(--fill-color);\n",
              "    }\n",
              "    60% {\n",
              "      border-color: transparent;\n",
              "      border-right-color: var(--fill-color);\n",
              "    }\n",
              "    80% {\n",
              "      border-color: transparent;\n",
              "      border-right-color: var(--fill-color);\n",
              "      border-bottom-color: var(--fill-color);\n",
              "    }\n",
              "    90% {\n",
              "      border-color: transparent;\n",
              "      border-bottom-color: var(--fill-color);\n",
              "    }\n",
              "  }\n",
              "</style>\n",
              "\n",
              "  <script>\n",
              "    async function quickchart(key) {\n",
              "      const quickchartButtonEl =\n",
              "        document.querySelector('#' + key + ' button');\n",
              "      quickchartButtonEl.disabled = true;  // To prevent multiple clicks.\n",
              "      quickchartButtonEl.classList.add('colab-df-spinner');\n",
              "      try {\n",
              "        const charts = await google.colab.kernel.invokeFunction(\n",
              "            'suggestCharts', [key], {});\n",
              "      } catch (error) {\n",
              "        console.error('Error during call to suggestCharts:', error);\n",
              "      }\n",
              "      quickchartButtonEl.classList.remove('colab-df-spinner');\n",
              "      quickchartButtonEl.classList.add('colab-df-quickchart-complete');\n",
              "    }\n",
              "    (() => {\n",
              "      let quickchartButtonEl =\n",
              "        document.querySelector('#df-a2096e1e-1a9b-43ed-abd6-16de590635be button');\n",
              "      quickchartButtonEl.style.display =\n",
              "        google.colab.kernel.accessAllowed ? 'block' : 'none';\n",
              "    })();\n",
              "  </script>\n",
              "</div>\n",
              "    </div>\n",
              "  </div>\n"
            ]
          },
          "metadata": {},
          "execution_count": 59
        }
      ]
    },
    {
      "cell_type": "markdown",
      "source": [
        "## Посмотрим на interactions, что дано"
      ],
      "metadata": {
        "id": "TwR-uzVpCo0T"
      }
    },
    {
      "cell_type": "code",
      "source": [
        "interactions_df.info()"
      ],
      "metadata": {
        "colab": {
          "base_uri": "https://localhost:8080/"
        },
        "id": "LO5FF7p3-ZMD",
        "outputId": "9cd7909b-9e89-4d44-aa6f-b94d97c8c188"
      },
      "execution_count": 60,
      "outputs": [
        {
          "output_type": "stream",
          "name": "stdout",
          "text": [
            "<class 'pandas.core.frame.DataFrame'>\n",
            "RangeIndex: 5476251 entries, 0 to 5476250\n",
            "Data columns (total 5 columns):\n",
            " #   Column         Dtype  \n",
            "---  ------         -----  \n",
            " 0   user_id        int64  \n",
            " 1   item_id        int64  \n",
            " 2   last_watch_dt  object \n",
            " 3   total_dur      int64  \n",
            " 4   watched_pct    float64\n",
            "dtypes: float64(1), int64(3), object(1)\n",
            "memory usage: 208.9+ MB\n"
          ]
        }
      ]
    },
    {
      "cell_type": "code",
      "source": [
        "interactions_df['last_watch_dt'] = interactions_df['last_watch_dt'].apply(pd.to_datetime)"
      ],
      "metadata": {
        "id": "w2-Rm-72HT9F"
      },
      "execution_count": 74,
      "outputs": []
    },
    {
      "cell_type": "code",
      "source": [
        "interactions_df['last_watch_dt'].info()"
      ],
      "metadata": {
        "colab": {
          "base_uri": "https://localhost:8080/"
        },
        "id": "Z3My8RokHjJv",
        "outputId": "2b0ba75e-c6bc-4cca-c6a7-cba686a2fe0a"
      },
      "execution_count": 76,
      "outputs": [
        {
          "output_type": "stream",
          "name": "stdout",
          "text": [
            "<class 'pandas.core.series.Series'>\n",
            "RangeIndex: 5476251 entries, 0 to 5476250\n",
            "Series name: last_watch_dt\n",
            "Non-Null Count    Dtype         \n",
            "--------------    -----         \n",
            "5476251 non-null  datetime64[ns]\n",
            "dtypes: datetime64[ns](1)\n",
            "memory usage: 41.8 MB\n"
          ]
        }
      ]
    },
    {
      "cell_type": "code",
      "source": [
        "interactions_df['watch_days_ago'] = ((datetime.today() - interactions_df['last_watch_dt']) / np.timedelta64(1, 'D') - 811)"
      ],
      "metadata": {
        "id": "b8E91KRnHZP3"
      },
      "execution_count": 98,
      "outputs": []
    },
    {
      "cell_type": "code",
      "source": [
        "interactions_df['watch_days_ago'].sort_values()"
      ],
      "metadata": {
        "colab": {
          "base_uri": "https://localhost:8080/"
        },
        "id": "FuAsTs8OPXvS",
        "outputId": "7027217b-65f4-4c54-f55a-b634fc67e51c"
      },
      "execution_count": 99,
      "outputs": [
        {
          "output_type": "execute_result",
          "data": {
            "text/plain": [
              "2632367      0.69311\n",
              "3106863      0.69311\n",
              "3577569      0.69311\n",
              "2194746      0.69311\n",
              "4073834      0.69311\n",
              "             ...    \n",
              "460552     162.69311\n",
              "3966323    162.69311\n",
              "460543     162.69311\n",
              "2793177    162.69311\n",
              "1103209    162.69311\n",
              "Name: watch_days_ago, Length: 5476251, dtype: float64"
            ]
          },
          "metadata": {},
          "execution_count": 99
        }
      ]
    },
    {
      "cell_type": "markdown",
      "source": [
        "## Для взрослых"
      ],
      "metadata": {
        "id": "_MKKvMqbIvgK"
      }
    },
    {
      "cell_type": "markdown",
      "source": [
        "Посмотрим, много ли смотрят фильмы для взрослых и нужно ли их оставлять в нашем сервисе"
      ],
      "metadata": {
        "id": "DC61Loez-SdV"
      }
    },
    {
      "cell_type": "code",
      "source": [
        "adults = (\n",
        "    interactions_df\n",
        "    .join(\n",
        "        items_df[items_df['genres'] == 'для взрослых']['item_id'],\n",
        "        on=['item_id'],\n",
        "        how='inner',\n",
        "        rsuffix='items'\n",
        "    )\n",
        "    .drop('item_iditems', axis=1)\n",
        ")"
      ],
      "metadata": {
        "id": "ZXbGutmoCmEY"
      },
      "execution_count": 100,
      "outputs": []
    },
    {
      "cell_type": "code",
      "source": [
        "adults.info()"
      ],
      "metadata": {
        "colab": {
          "base_uri": "https://localhost:8080/"
        },
        "id": "vbYIURy6EL3K",
        "outputId": "5f1c397c-e680-4941-9383-86bd07abca12"
      },
      "execution_count": 89,
      "outputs": [
        {
          "output_type": "stream",
          "name": "stdout",
          "text": [
            "<class 'pandas.core.frame.DataFrame'>\n",
            "Int64Index: 190708 entries, 3 to 5399586\n",
            "Data columns (total 6 columns):\n",
            " #   Column          Non-Null Count   Dtype         \n",
            "---  ------          --------------   -----         \n",
            " 0   user_id         190708 non-null  int64         \n",
            " 1   item_id         190708 non-null  int64         \n",
            " 2   last_watch_dt   190708 non-null  datetime64[ns]\n",
            " 3   total_dur       190708 non-null  int64         \n",
            " 4   watched_pct     190702 non-null  float64       \n",
            " 5   watch_days_ago  190708 non-null  float64       \n",
            "dtypes: datetime64[ns](1), float64(2), int64(3)\n",
            "memory usage: 10.2 MB\n"
          ]
        }
      ]
    },
    {
      "cell_type": "code",
      "source": [
        "adults_num_feat = ['total_dur', 'watched_pct', 'watch_days_ago']\n",
        "\n",
        "fig, axs = plt.subplots(3, figsize=(10, 7))\n",
        "fig.suptitle('Distributions of numerical features')\n",
        "\n",
        "for i in range(len(adults_num_feat)):\n",
        "    axs[i].hist(\n",
        "        adults[adults[adults_num_feat[i]].isna() == False][adults_num_feat[i]],\n",
        "        bins=int(len(adults[adults_num_feat[i]].drop_duplicates()) - 1)\n",
        "        )\n",
        "    axs[i].set_title(adults_num_feat[i])\n",
        "plt.tight_layout()"
      ],
      "metadata": {
        "colab": {
          "base_uri": "https://localhost:8080/",
          "height": 691
        },
        "id": "X-apsMinEprf",
        "outputId": "745c45eb-7612-4df5-bbe2-ffdfb694e492"
      },
      "execution_count": 92,
      "outputs": [
        {
          "output_type": "display_data",
          "data": {
            "text/plain": [
              "<Figure size 1000x700 with 3 Axes>"
            ],
            "image/png": "[encoded data removed]"
          },
          "metadata": {}
        }
      ]
    },
    {
      "cell_type": "code",
      "source": [
        "sb.histplot(adults[adults['total_dur'].isna() == False][(adults['total_dur'] // 60) < 300]['total_dur'].apply(lambda x: x // 60))"
      ],
      "metadata": {
        "colab": {
          "base_uri": "https://localhost:8080/",
          "height": 467
        },
        "id": "YuISwDA-NNc8",
        "outputId": "1536f755-92e3-4d72-8eee-8fb1b011416c"
      },
      "execution_count": 123,
      "outputs": [
        {
          "output_type": "execute_result",
          "data": {
            "text/plain": [
              "<Axes: xlabel='total_dur', ylabel='Count'>"
            ]
          },
          "metadata": {},
          "execution_count": 123
        },
        {
          "output_type": "display_data",
          "data": {
            "text/plain": [
              "<Figure size 640x480 with 1 Axes>"
            ],
            "image/png": "[encoded data removed]"
          },
          "metadata": {}
        }
      ]
    },
    {
      "cell_type": "markdown",
      "source": [
        "Вывод: из предоставленной выборки взаимодействий всего лишь 190 000 относятся к контенту для взрослых, удалив данный контент, мы не потеряем нужные данные для обучения. Но можем оставить и сделать наши рекомендации еще разнообразнее))"
      ],
      "metadata": {
        "id": "gZ-Jo18VBcyV"
      }
    },
    {
      "cell_type": "markdown",
      "source": [
        "# Гипотезы"
      ],
      "metadata": {
        "id": "wtkB2yDAgdpc"
      }
    },
    {
      "cell_type": "markdown",
      "source": [
        "1. У разных возрастных групп разные предпочтения\n",
        "2. У тех, кто имеет детей, предпочтения отличаются\n",
        "3. У разных групп по доходу предпочтения отличаются"
      ],
      "metadata": {
        "id": "5dD9LLSLZrSF"
      }
    },
    {
      "cell_type": "markdown",
      "source": [
        "Ниже там будет что-то типа исследования гипотез"
      ],
      "metadata": {
        "id": "tqnvzUWfZ8O-"
      }
    },
    {
      "cell_type": "markdown",
      "source": [
        "Так как таргет - процент просмотра от фильма, то сделаем его оценку, какая отсечка будет справедливой и сохранит нужные данные. То есть предположим, с какой точки будем считать, что фильм понравился"
      ],
      "metadata": {
        "id": "s4Clr9w4ggSs"
      }
    },
    {
      "cell_type": "code",
      "source": [
        "targ_data = interactions_df[interactions_df['watched_pct'].isna() == False][['watched_pct']]\n",
        "\n",
        "fig, ax1 = plt.subplots()\n",
        "sb.kdeplot(data=targ_data, x=\"watched_pct\", ax=ax1)\n",
        "ax1.set_xlim((targ_data[\"watched_pct\"].min(), targ_data[\"watched_pct\"].max()))\n",
        "ax2 = ax1.twinx()\n",
        "sb.histplot(data=targ_data, x=\"watched_pct\", discrete=True, ax=ax2)"
      ],
      "metadata": {
        "colab": {
          "base_uri": "https://localhost:8080/",
          "height": 482
        },
        "id": "i-GcNcBdgfS-",
        "outputId": "0b684119-ffc7-4fcd-f35e-2d4e23f59add"
      },
      "execution_count": 14,
      "outputs": [
        {
          "output_type": "execute_result",
          "data": {
            "text/plain": [
              "<Axes: xlabel='watched_pct', ylabel='Count'>"
            ]
          },
          "metadata": {},
          "execution_count": 14
        },
        {
          "output_type": "display_data",
          "data": {
            "text/plain": [
              "<Figure size 640x480 with 2 Axes>"
            ],
            "image/png": "[encoded data removed]"
          },
          "metadata": {}
        }
      ]
    },
    {
      "cell_type": "markdown",
      "source": [
        "Вывод: возьмем за отсечку 80%"
      ],
      "metadata": {
        "id": "0vRiwV_PHEpl"
      }
    },
    {
      "cell_type": "markdown",
      "source": [
        "## Датасет для отбора интересов похожих пользователей"
      ],
      "metadata": {
        "id": "vwyNg--RHQ_u"
      }
    },
    {
      "cell_type": "code",
      "source": [
        "users_explor = (\n",
        "    users_df[['user_id', 'age', 'income', 'sex', 'kids_flg']]\n",
        "    .join(\n",
        "        interactions_df[interactions_df['watched_pct'] >= 80]['item_id'],\n",
        "        on=['user_id'],\n",
        "        how='inner',\n",
        "        rsuffix='inter'\n",
        "    )\n",
        "    .join(\n",
        "        items_df[['release_year', 'for_kids', 'age_rating', 'genres', 'countries']],\n",
        "        on=['item_id'],\n",
        "        how='inner',\n",
        "        rsuffix='item'\n",
        "    )\n",
        ")"
      ],
      "metadata": {
        "id": "RzF4rwNSHU-H"
      },
      "execution_count": 120,
      "outputs": []
    },
    {
      "cell_type": "code",
      "source": [
        "users_explor.info()"
      ],
      "metadata": {
        "colab": {
          "base_uri": "https://localhost:8080/"
        },
        "id": "TCWASrlGKSie",
        "outputId": "7e8ca6ca-0387-45a1-f016-de525f11f7b7"
      },
      "execution_count": 121,
      "outputs": [
        {
          "output_type": "stream",
          "name": "stdout",
          "text": [
            "<class 'pandas.core.frame.DataFrame'>\n",
            "Int64Index: 288850 entries, 0 to 839650\n",
            "Data columns (total 11 columns):\n",
            " #   Column        Non-Null Count   Dtype  \n",
            "---  ------        --------------   -----  \n",
            " 0   user_id       288850 non-null  int64  \n",
            " 1   age           284010 non-null  object \n",
            " 2   income        283826 non-null  object \n",
            " 3   sex           284043 non-null  object \n",
            " 4   kids_flg      288850 non-null  int64  \n",
            " 5   item_id       288850 non-null  int64  \n",
            " 6   release_year  286790 non-null  float64\n",
            " 7   for_kids      13022 non-null   float64\n",
            " 8   age_rating    288850 non-null  float64\n",
            " 9   genres        288850 non-null  object \n",
            " 10  countries     278225 non-null  object \n",
            "dtypes: float64(3), int64(3), object(5)\n",
            "memory usage: 26.4+ MB\n"
          ]
        }
      ]
    },
    {
      "cell_type": "code",
      "source": [
        "users_explor['for_kids'].value_counts()"
      ],
      "metadata": {
        "colab": {
          "base_uri": "https://localhost:8080/"
        },
        "id": "1M9Q556vK3Zo",
        "outputId": "3ebbbe2d-5526-40d6-c6f3-2acaef1ec7ea"
      },
      "execution_count": 122,
      "outputs": [
        {
          "output_type": "execute_result",
          "data": {
            "text/plain": [
              "0.0    6921\n",
              "1.0    6101\n",
              "Name: for_kids, dtype: int64"
            ]
          },
          "metadata": {},
          "execution_count": 122
        }
      ]
    },
    {
      "cell_type": "code",
      "source": [
        "users_explor['for_kids'] = users_explor['for_kids'].apply(lambda x: 0 if x != 1 else 1)"
      ],
      "metadata": {
        "id": "M9Saf1XhKZvr"
      },
      "execution_count": 123,
      "outputs": []
    },
    {
      "cell_type": "code",
      "source": [
        "users_explor['for_kids'].value_counts()"
      ],
      "metadata": {
        "colab": {
          "base_uri": "https://localhost:8080/"
        },
        "id": "FvxD1OY8LSSl",
        "outputId": "bceb6bba-9ca9-4f90-9fd3-cbeb4fe276e4"
      },
      "execution_count": 124,
      "outputs": [
        {
          "output_type": "execute_result",
          "data": {
            "text/plain": [
              "0    282749\n",
              "1      6101\n",
              "Name: for_kids, dtype: int64"
            ]
          },
          "metadata": {},
          "execution_count": 124
        }
      ]
    },
    {
      "cell_type": "code",
      "source": [
        "users_explor = users_explor.dropna()"
      ],
      "metadata": {
        "id": "fvQM_ldRKmaW"
      },
      "execution_count": 125,
      "outputs": []
    },
    {
      "cell_type": "code",
      "source": [
        "users_explor.info()"
      ],
      "metadata": {
        "colab": {
          "base_uri": "https://localhost:8080/"
        },
        "id": "NXOh7-kQKvdj",
        "outputId": "59491d5e-5a75-4e5c-8966-a11ec9ac6994"
      },
      "execution_count": 126,
      "outputs": [
        {
          "output_type": "stream",
          "name": "stdout",
          "text": [
            "<class 'pandas.core.frame.DataFrame'>\n",
            "Int64Index: 269757 entries, 0 to 839650\n",
            "Data columns (total 11 columns):\n",
            " #   Column        Non-Null Count   Dtype  \n",
            "---  ------        --------------   -----  \n",
            " 0   user_id       269757 non-null  int64  \n",
            " 1   age           269757 non-null  object \n",
            " 2   income        269757 non-null  object \n",
            " 3   sex           269757 non-null  object \n",
            " 4   kids_flg      269757 non-null  int64  \n",
            " 5   item_id       269757 non-null  int64  \n",
            " 6   release_year  269757 non-null  float64\n",
            " 7   for_kids      269757 non-null  int64  \n",
            " 8   age_rating    269757 non-null  float64\n",
            " 9   genres        269757 non-null  object \n",
            " 10  countries     269757 non-null  object \n",
            "dtypes: float64(2), int64(4), object(5)\n",
            "memory usage: 24.7+ MB\n"
          ]
        }
      ]
    },
    {
      "cell_type": "code",
      "source": [
        "users_explor['age'] = users_explor['age'].apply(lambda x: (int(x[4:6]) + int(x[7:9])) / 2 if x != 'age_65_inf' else 65)"
      ],
      "metadata": {
        "id": "TW5x0mujJ736"
      },
      "execution_count": 127,
      "outputs": []
    },
    {
      "cell_type": "code",
      "source": [
        "users_explor['age'].value_counts()"
      ],
      "metadata": {
        "colab": {
          "base_uri": "https://localhost:8080/"
        },
        "id": "tZTWKiv6MdLc",
        "outputId": "e0dac4de-073b-43c0-fd4a-3905141078d9"
      },
      "execution_count": 128,
      "outputs": [
        {
          "output_type": "execute_result",
          "data": {
            "text/plain": [
              "29.5    76359\n",
              "39.5    68232\n",
              "49.5    44721\n",
              "21.0    41600\n",
              "59.5    23692\n",
              "65.0    15153\n",
              "Name: age, dtype: int64"
            ]
          },
          "metadata": {},
          "execution_count": 128
        }
      ]
    },
    {
      "cell_type": "code",
      "source": [
        "def inc(x):\n",
        "    if x == 'income_0_20':\n",
        "        return 10\n",
        "    elif x == 'income_150_inf':\n",
        "        return 200\n",
        "    elif x == 'income_90_150':\n",
        "        return 120\n",
        "    else:\n",
        "        return (int(x[7:9]) + int(x[10:12])) / 2"
      ],
      "metadata": {
        "id": "19V_nf3QOUXv"
      },
      "execution_count": 129,
      "outputs": []
    },
    {
      "cell_type": "code",
      "source": [
        "users_explor['income'] = users_explor['income'].apply(inc)"
      ],
      "metadata": {
        "id": "80B_3BLMMdHC"
      },
      "execution_count": 130,
      "outputs": []
    },
    {
      "cell_type": "code",
      "source": [
        "users_explor['income'].value_counts()"
      ],
      "metadata": {
        "colab": {
          "base_uri": "https://localhost:8080/"
        },
        "id": "83k328UdMc_e",
        "outputId": "8715f50c-eb98-4cdb-e8dc-581aff17ca3e"
      },
      "execution_count": 131,
      "outputs": [
        {
          "output_type": "execute_result",
          "data": {
            "text/plain": [
              "30.0     153940\n",
              "50.0      80964\n",
              "75.0      22652\n",
              "10.0       7145\n",
              "120.0      4684\n",
              "200.0       372\n",
              "Name: income, dtype: int64"
            ]
          },
          "metadata": {},
          "execution_count": 131
        }
      ]
    },
    {
      "cell_type": "code",
      "source": [
        "def genre(x):\n",
        "    lst = x.split(',')\n",
        "    map(strip(), x.split(','))\n",
        "    return lst"
      ],
      "metadata": {
        "id": "-CN3MEBvO5Gp"
      },
      "execution_count": 132,
      "outputs": []
    },
    {
      "cell_type": "code",
      "source": [
        "users_explor['genres'] = users_explor['genres'].apply(lambda x: list(map(str.strip, x.split(','))))"
      ],
      "metadata": {
        "id": "MkT89ppePJlm"
      },
      "execution_count": 133,
      "outputs": []
    },
    {
      "cell_type": "code",
      "source": [
        "g_lst = users_explor['genres'].to_list()\n",
        "g_dict = dict()\n",
        "\n",
        "for film in g_lst:\n",
        "    for g in film:\n",
        "        if g in g_dict.keys():\n",
        "            g_dict[g] += 1\n",
        "        else:\n",
        "            g_dict[g] = 1"
      ],
      "metadata": {
        "id": "s2KuAc2GQXKR"
      },
      "execution_count": 134,
      "outputs": []
    },
    {
      "cell_type": "code",
      "source": [
        "g_dict = sorted(g_dict.items(), key=lambda item: item[1], reverse=True)"
      ],
      "metadata": {
        "id": "ExAMqrSGQzFY"
      },
      "execution_count": 135,
      "outputs": []
    },
    {
      "cell_type": "code",
      "source": [
        "# каких жанров больше\n",
        "g_dict"
      ],
      "metadata": {
        "colab": {
          "base_uri": "https://localhost:8080/"
        },
        "id": "JEiW4CPbRvyR",
        "outputId": "d311a623-b9bb-404f-ca06-0d4e5540087c"
      },
      "execution_count": 136,
      "outputs": [
        {
          "output_type": "execute_result",
          "data": {
            "text/plain": [
              "[('комедии', 82887),\n",
              " ('драмы', 72845),\n",
              " ('мелодрамы', 62002),\n",
              " ('зарубежные', 56692),\n",
              " ('русские', 41971),\n",
              " ('детективы', 36769),\n",
              " ('приключения', 29755),\n",
              " ('триллеры', 28726),\n",
              " ('семейное', 26993),\n",
              " ('фэнтези', 25979),\n",
              " ('боевики', 25676),\n",
              " ('фантастика', 25373),\n",
              " ('ужасы', 23620),\n",
              " ('документальное', 19825),\n",
              " ('криминал', 13130),\n",
              " ('советские', 11685),\n",
              " ('военные', 10815),\n",
              " ('для взрослых', 9581),\n",
              " ('для детей', 9544),\n",
              " ('мультфильмы', 7499),\n",
              " ('биография', 6193),\n",
              " ('развлекательные', 5532),\n",
              " ('мультфильм', 5459),\n",
              " ('исторические', 4623),\n",
              " ('фитнес', 4018),\n",
              " ('спорт', 3379),\n",
              " ('no_genre', 3377),\n",
              " ('мультсериалы', 3056),\n",
              " ('историческое', 2717),\n",
              " ('музыкальные', 2683),\n",
              " ('западные мультфильмы', 2667),\n",
              " ('русские мультфильмы', 2224),\n",
              " ('короткометражные', 2180),\n",
              " ('детские', 2170),\n",
              " ('полнометражные', 1971),\n",
              " ('развитие', 1851),\n",
              " ('сериалы', 1732),\n",
              " ('фильмы', 1713),\n",
              " ('сказки', 1496),\n",
              " ('фильмы hbo', 1371),\n",
              " ('мюзиклы', 1046),\n",
              " ('экранизации', 963),\n",
              " ('про животных', 814),\n",
              " ('познавательные', 740),\n",
              " ('увлечения', 698),\n",
              " ('хочу всё знать', 687),\n",
              " ('охота и рыбалка', 685),\n",
              " ('аниме', 682),\n",
              " ('вестерн', 595),\n",
              " ('романтика', 540),\n",
              " ('музыка', 481),\n",
              " ('телешоу', 442),\n",
              " ('стендап', 432),\n",
              " ('детские песни', 432),\n",
              " ('концерт', 390),\n",
              " ('мистика', 342),\n",
              " ('научно-популярные', 338),\n",
              " ('артхаус', 335),\n",
              " ('мировая классика', 317),\n",
              " ('комиксы', 294),\n",
              " ('дорамы', 292),\n",
              " ('вокруг света', 268),\n",
              " ('для самых маленьких', 264),\n",
              " ('катастрофы', 257),\n",
              " ('живая природа', 245),\n",
              " ('по комиксам', 238),\n",
              " ('караоке', 174),\n",
              " ('интервью', 137),\n",
              " ('медицинские', 120),\n",
              " ('короткий метр', 115),\n",
              " ('фильмы-спектакли', 105),\n",
              " ('немое кино', 80),\n",
              " ('блогер', 68),\n",
              " ('токшоу', 54),\n",
              " ('тележурналы', 51),\n",
              " ('футбол', 47),\n",
              " ('популярное', 46),\n",
              " ('кулинария', 43),\n",
              " ('красота и здоровье', 37),\n",
              " ('фильм-нуар', 26),\n",
              " ('ток-шоу', 23),\n",
              " ('единоборства', 20),\n",
              " ('индийское кино', 11),\n",
              " ('юмор', 9),\n",
              " ('молодежные', 8),\n",
              " ('воспитание детей', 6),\n",
              " ('реалити-шоу', 5),\n",
              " ('анимация', 4),\n",
              " ('о знаменитостях', 2),\n",
              " ('передачи', 2),\n",
              " ('образование', 1)]"
            ]
          },
          "metadata": {},
          "execution_count": 136
        }
      ]
    },
    {
      "cell_type": "code",
      "source": [
        "users_explor.sample(3)"
      ],
      "metadata": {
        "colab": {
          "base_uri": "https://localhost:8080/",
          "height": 315
        },
        "id": "SLu05hOpHQsI",
        "outputId": "a278851c-152b-4d6b-8f46-1c28ec05f47b"
      },
      "execution_count": 137,
      "outputs": [
        {
          "output_type": "execute_result",
          "data": {
            "text/plain": [
              "        user_id   age  income sex  kids_flg  item_id  release_year  for_kids  \\\n",
              "518446   375291  39.5    30.0   М         0      173        2014.0         0   \n",
              "95638    298156  29.5    30.0   Ж         0     6729        2009.0         0   \n",
              "296192   874021  49.5    50.0   Ж         1    13185        2013.0         0   \n",
              "\n",
              "        age_rating                                             genres  \\\n",
              "518446        16.0          [боевики, криминал, приключения, комедии]   \n",
              "95638         12.0                      [боевики, для детей, комедии]   \n",
              "296192        16.0  [приключения, зарубежные, ужасы, артхаус, фэнт...   \n",
              "\n",
              "       countries  \n",
              "518446  Германия  \n",
              "95638        США  \n",
              "296192   Испания  "
            ],
            "text/html": [
              "\n",
              "  <div id=\"df-2c874e8e-c3ef-4547-b221-96182513170f\" class=\"colab-df-container\">\n",
              "    <div>\n",
              "<style scoped>\n",
              "    .dataframe tbody tr th:only-of-type {\n",
              "        vertical-align: middle;\n",
              "    }\n",
              "\n",
              "    .dataframe tbody tr th {\n",
              "        vertical-align: top;\n",
              "    }\n",
              "\n",
              "    .dataframe thead th {\n",
              "        text-align: right;\n",
              "    }\n",
              "</style>\n",
              "<table border=\"1\" class=\"dataframe\">\n",
              "  <thead>\n",
              "    <tr style=\"text-align: right;\">\n",
              "      <th></th>\n",
              "      <th>user_id</th>\n",
              "      <th>age</th>\n",
              "      <th>income</th>\n",
              "      <th>sex</th>\n",
              "      <th>kids_flg</th>\n",
              "      <th>item_id</th>\n",
              "      <th>release_year</th>\n",
              "      <th>for_kids</th>\n",
              "      <th>age_rating</th>\n",
              "      <th>genres</th>\n",
              "      <th>countries</th>\n",
              "    </tr>\n",
              "  </thead>\n",
              "  <tbody>\n",
              "    <tr>\n",
              "      <th>518446</th>\n",
              "      <td>375291</td>\n",
              "      <td>39.5</td>\n",
              "      <td>30.0</td>\n",
              "      <td>М</td>\n",
              "      <td>0</td>\n",
              "      <td>173</td>\n",
              "      <td>2014.0</td>\n",
              "      <td>0</td>\n",
              "      <td>16.0</td>\n",
              "      <td>[боевики, криминал, приключения, комедии]</td>\n",
              "      <td>Германия</td>\n",
              "    </tr>\n",
              "    <tr>\n",
              "      <th>95638</th>\n",
              "      <td>298156</td>\n",
              "      <td>29.5</td>\n",
              "      <td>30.0</td>\n",
              "      <td>Ж</td>\n",
              "      <td>0</td>\n",
              "      <td>6729</td>\n",
              "      <td>2009.0</td>\n",
              "      <td>0</td>\n",
              "      <td>12.0</td>\n",
              "      <td>[боевики, для детей, комедии]</td>\n",
              "      <td>США</td>\n",
              "    </tr>\n",
              "    <tr>\n",
              "      <th>296192</th>\n",
              "      <td>874021</td>\n",
              "      <td>49.5</td>\n",
              "      <td>50.0</td>\n",
              "      <td>Ж</td>\n",
              "      <td>1</td>\n",
              "      <td>13185</td>\n",
              "      <td>2013.0</td>\n",
              "      <td>0</td>\n",
              "      <td>16.0</td>\n",
              "      <td>[приключения, зарубежные, ужасы, артхаус, фэнт...</td>\n",
              "      <td>Испания</td>\n",
              "    </tr>\n",
              "  </tbody>\n",
              "</table>\n",
              "</div>\n",
              "    <div class=\"colab-df-buttons\">\n",
              "\n",
              "  <div class=\"colab-df-container\">\n",
              "    <button class=\"colab-df-convert\" onclick=\"convertToInteractive('df-2c874e8e-c3ef-4547-b221-96182513170f')\"\n",
              "            title=\"Convert this dataframe to an interactive table.\"\n",
              "            style=\"display:none;\">\n",
              "\n",
              "  <svg xmlns=\"http://www.w3.org/2000/svg\" height=\"24px\" viewBox=\"0 -960 960 960\">\n",
              "    <path d=\"M120-120v-720h720v720H120Zm60-500h600v-160H180v160Zm220 220h160v-160H400v160Zm0 220h160v-160H400v160ZM180-400h160v-160H180v160Zm440 0h160v-160H620v160ZM180-180h160v-160H180v160Zm440 0h160v-160H620v160Z\"/>\n",
              "  </svg>\n",
              "    </button>\n",
              "\n",
              "  <style>\n",
              "    .colab-df-container {\n",
              "      display:flex;\n",
              "      gap: 12px;\n",
              "    }\n",
              "\n",
              "    .colab-df-convert {\n",
              "      background-color: #E8F0FE;\n",
              "      border: none;\n",
              "      border-radius: 50%;\n",
              "      cursor: pointer;\n",
              "      display: none;\n",
              "      fill: #1967D2;\n",
              "      height: 32px;\n",
              "      padding: 0 0 0 0;\n",
              "      width: 32px;\n",
              "    }\n",
              "\n",
              "    .colab-df-convert:hover {\n",
              "      background-color: #E2EBFA;\n",
              "      box-shadow: 0px 1px 2px rgba(60, 64, 67, 0.3), 0px 1px 3px 1px rgba(60, 64, 67, 0.15);\n",
              "      fill: #174EA6;\n",
              "    }\n",
              "\n",
              "    .colab-df-buttons div {\n",
              "      margin-bottom: 4px;\n",
              "    }\n",
              "\n",
              "    [theme=dark] .colab-df-convert {\n",
              "      background-color: #3B4455;\n",
              "      fill: #D2E3FC;\n",
              "    }\n",
              "\n",
              "    [theme=dark] .colab-df-convert:hover {\n",
              "      background-color: #434B5C;\n",
              "      box-shadow: 0px 1px 3px 1px rgba(0, 0, 0, 0.15);\n",
              "      filter: drop-shadow(0px 1px 2px rgba(0, 0, 0, 0.3));\n",
              "      fill: #FFFFFF;\n",
              "    }\n",
              "  </style>\n",
              "\n",
              "    <script>\n",
              "      const buttonEl =\n",
              "        document.querySelector('#df-2c874e8e-c3ef-4547-b221-96182513170f button.colab-df-convert');\n",
              "      buttonEl.style.display =\n",
              "        google.colab.kernel.accessAllowed ? 'block' : 'none';\n",
              "\n",
              "      async function convertToInteractive(key) {\n",
              "        const element = document.querySelector('#df-2c874e8e-c3ef-4547-b221-96182513170f');\n",
              "        const dataTable =\n",
              "          await google.colab.kernel.invokeFunction('convertToInteractive',\n",
              "                                                    [key], {});\n",
              "        if (!dataTable) return;\n",
              "\n",
              "        const docLinkHtml = 'Like what you see? Visit the ' +\n",
              "          '<a target=\"_blank\" href=https://colab.research.google.com/notebooks/data_table.ipynb>data table notebook</a>'\n",
              "          + ' to learn more about interactive tables.';\n",
              "        element.innerHTML = '';\n",
              "        dataTable['output_type'] = 'display_data';\n",
              "        await google.colab.output.renderOutput(dataTable, element);\n",
              "        const docLink = document.createElement('div');\n",
              "        docLink.innerHTML = docLinkHtml;\n",
              "        element.appendChild(docLink);\n",
              "      }\n",
              "    </script>\n",
              "  </div>\n",
              "\n",
              "\n",
              "<div id=\"df-134c7e89-311f-43e4-8fbe-458d0d7de27d\">\n",
              "  <button class=\"colab-df-quickchart\" onclick=\"quickchart('df-134c7e89-311f-43e4-8fbe-458d0d7de27d')\"\n",
              "            title=\"Suggest charts\"\n",
              "            style=\"display:none;\">\n",
              "\n",
              "<svg xmlns=\"http://www.w3.org/2000/svg\" height=\"24px\"viewBox=\"0 0 24 24\"\n",
              "     width=\"24px\">\n",
              "    <g>\n",
              "        <path d=\"M19 3H5c-1.1 0-2 .9-2 2v14c0 1.1.9 2 2 2h14c1.1 0 2-.9 2-2V5c0-1.1-.9-2-2-2zM9 17H7v-7h2v7zm4 0h-2V7h2v10zm4 0h-2v-4h2v4z\"/>\n",
              "    </g>\n",
              "</svg>\n",
              "  </button>\n",
              "\n",
              "<style>\n",
              "  .colab-df-quickchart {\n",
              "      --bg-color: #E8F0FE;\n",
              "      --fill-color: #1967D2;\n",
              "      --hover-bg-color: #E2EBFA;\n",
              "      --hover-fill-color: #174EA6;\n",
              "      --disabled-fill-color: #AAA;\n",
              "      --disabled-bg-color: #DDD;\n",
              "  }\n",
              "\n",
              "  [theme=dark] .colab-df-quickchart {\n",
              "      --bg-color: #3B4455;\n",
              "      --fill-color: #D2E3FC;\n",
              "      --hover-bg-color: #434B5C;\n",
              "      --hover-fill-color: #FFFFFF;\n",
              "      --disabled-bg-color: #3B4455;\n",
              "      --disabled-fill-color: #666;\n",
              "  }\n",
              "\n",
              "  .colab-df-quickchart {\n",
              "    background-color: var(--bg-color);\n",
              "    border: none;\n",
              "    border-radius: 50%;\n",
              "    cursor: pointer;\n",
              "    display: none;\n",
              "    fill: var(--fill-color);\n",
              "    height: 32px;\n",
              "    padding: 0;\n",
              "    width: 32px;\n",
              "  }\n",
              "\n",
              "  .colab-df-quickchart:hover {\n",
              "    background-color: var(--hover-bg-color);\n",
              "    box-shadow: 0 1px 2px rgba(60, 64, 67, 0.3), 0 1px 3px 1px rgba(60, 64, 67, 0.15);\n",
              "    fill: var(--button-hover-fill-color);\n",
              "  }\n",
              "\n",
              "  .colab-df-quickchart-complete:disabled,\n",
              "  .colab-df-quickchart-complete:disabled:hover {\n",
              "    background-color: var(--disabled-bg-color);\n",
              "    fill: var(--disabled-fill-color);\n",
              "    box-shadow: none;\n",
              "  }\n",
              "\n",
              "  .colab-df-spinner {\n",
              "    border: 2px solid var(--fill-color);\n",
              "    border-color: transparent;\n",
              "    border-bottom-color: var(--fill-color);\n",
              "    animation:\n",
              "      spin 1s steps(1) infinite;\n",
              "  }\n",
              "\n",
              "  @keyframes spin {\n",
              "    0% {\n",
              "      border-color: transparent;\n",
              "      border-bottom-color: var(--fill-color);\n",
              "      border-left-color: var(--fill-color);\n",
              "    }\n",
              "    20% {\n",
              "      border-color: transparent;\n",
              "      border-left-color: var(--fill-color);\n",
              "      border-top-color: var(--fill-color);\n",
              "    }\n",
              "    30% {\n",
              "      border-color: transparent;\n",
              "      border-left-color: var(--fill-color);\n",
              "      border-top-color: var(--fill-color);\n",
              "      border-right-color: var(--fill-color);\n",
              "    }\n",
              "    40% {\n",
              "      border-color: transparent;\n",
              "      border-right-color: var(--fill-color);\n",
              "      border-top-color: var(--fill-color);\n",
              "    }\n",
              "    60% {\n",
              "      border-color: transparent;\n",
              "      border-right-color: var(--fill-color);\n",
              "    }\n",
              "    80% {\n",
              "      border-color: transparent;\n",
              "      border-right-color: var(--fill-color);\n",
              "      border-bottom-color: var(--fill-color);\n",
              "    }\n",
              "    90% {\n",
              "      border-color: transparent;\n",
              "      border-bottom-color: var(--fill-color);\n",
              "    }\n",
              "  }\n",
              "</style>\n",
              "\n",
              "  <script>\n",
              "    async function quickchart(key) {\n",
              "      const quickchartButtonEl =\n",
              "        document.querySelector('#' + key + ' button');\n",
              "      quickchartButtonEl.disabled = true;  // To prevent multiple clicks.\n",
              "      quickchartButtonEl.classList.add('colab-df-spinner');\n",
              "      try {\n",
              "        const charts = await google.colab.kernel.invokeFunction(\n",
              "            'suggestCharts', [key], {});\n",
              "      } catch (error) {\n",
              "        console.error('Error during call to suggestCharts:', error);\n",
              "      }\n",
              "      quickchartButtonEl.classList.remove('colab-df-spinner');\n",
              "      quickchartButtonEl.classList.add('colab-df-quickchart-complete');\n",
              "    }\n",
              "    (() => {\n",
              "      let quickchartButtonEl =\n",
              "        document.querySelector('#df-134c7e89-311f-43e4-8fbe-458d0d7de27d button');\n",
              "      quickchartButtonEl.style.display =\n",
              "        google.colab.kernel.accessAllowed ? 'block' : 'none';\n",
              "    })();\n",
              "  </script>\n",
              "</div>\n",
              "    </div>\n",
              "  </div>\n"
            ]
          },
          "metadata": {},
          "execution_count": 137
        }
      ]
    },
    {
      "cell_type": "code",
      "source": [
        "users_explor = users_explor.explode('genres')"
      ],
      "metadata": {
        "id": "5-ascqY9STnA"
      },
      "execution_count": 138,
      "outputs": []
    },
    {
      "cell_type": "code",
      "source": [
        "users_explor.sample(5)"
      ],
      "metadata": {
        "colab": {
          "base_uri": "https://localhost:8080/",
          "height": 204
        },
        "id": "p7QAp_tjSba_",
        "outputId": "aa236af0-bf85-4bd5-b1d3-6eda22ccb49d"
      },
      "execution_count": 139,
      "outputs": [
        {
          "output_type": "execute_result",
          "data": {
            "text/plain": [
              "        user_id   age  income sex  kids_flg  item_id  release_year  for_kids  \\\n",
              "272260   543711  59.5    30.0   М         0     6541        1992.0         0   \n",
              "79723     16169  21.0    30.0   Ж         0     3734        2012.0         0   \n",
              "430099   230110  49.5    30.0   Ж         1     1151        2017.0         0   \n",
              "770315  1024649  39.5    30.0   М         1    14431        2012.0         0   \n",
              "12559    613764  59.5    30.0   М         0    15388        2021.0         0   \n",
              "\n",
              "        age_rating      genres countries  \n",
              "272260        18.0   мелодрамы       США  \n",
              "79723         16.0  зарубежные       США  \n",
              "430099        16.0     комедии  Германия  \n",
              "770315        18.0     боевики       США  \n",
              "12559         16.0   мелодрамы   Украина  "
            ],
            "text/html": [
              "\n",
              "  <div id=\"df-efda1710-c741-4a05-a34b-636a742d383a\" class=\"colab-df-container\">\n",
              "    <div>\n",
              "<style scoped>\n",
              "    .dataframe tbody tr th:only-of-type {\n",
              "        vertical-align: middle;\n",
              "    }\n",
              "\n",
              "    .dataframe tbody tr th {\n",
              "        vertical-align: top;\n",
              "    }\n",
              "\n",
              "    .dataframe thead th {\n",
              "        text-align: right;\n",
              "    }\n",
              "</style>\n",
              "<table border=\"1\" class=\"dataframe\">\n",
              "  <thead>\n",
              "    <tr style=\"text-align: right;\">\n",
              "      <th></th>\n",
              "      <th>user_id</th>\n",
              "      <th>age</th>\n",
              "      <th>income</th>\n",
              "      <th>sex</th>\n",
              "      <th>kids_flg</th>\n",
              "      <th>item_id</th>\n",
              "      <th>release_year</th>\n",
              "      <th>for_kids</th>\n",
              "      <th>age_rating</th>\n",
              "      <th>genres</th>\n",
              "      <th>countries</th>\n",
              "    </tr>\n",
              "  </thead>\n",
              "  <tbody>\n",
              "    <tr>\n",
              "      <th>272260</th>\n",
              "      <td>543711</td>\n",
              "      <td>59.5</td>\n",
              "      <td>30.0</td>\n",
              "      <td>М</td>\n",
              "      <td>0</td>\n",
              "      <td>6541</td>\n",
              "      <td>1992.0</td>\n",
              "      <td>0</td>\n",
              "      <td>18.0</td>\n",
              "      <td>мелодрамы</td>\n",
              "      <td>США</td>\n",
              "    </tr>\n",
              "    <tr>\n",
              "      <th>79723</th>\n",
              "      <td>16169</td>\n",
              "      <td>21.0</td>\n",
              "      <td>30.0</td>\n",
              "      <td>Ж</td>\n",
              "      <td>0</td>\n",
              "      <td>3734</td>\n",
              "      <td>2012.0</td>\n",
              "      <td>0</td>\n",
              "      <td>16.0</td>\n",
              "      <td>зарубежные</td>\n",
              "      <td>США</td>\n",
              "    </tr>\n",
              "    <tr>\n",
              "      <th>430099</th>\n",
              "      <td>230110</td>\n",
              "      <td>49.5</td>\n",
              "      <td>30.0</td>\n",
              "      <td>Ж</td>\n",
              "      <td>1</td>\n",
              "      <td>1151</td>\n",
              "      <td>2017.0</td>\n",
              "      <td>0</td>\n",
              "      <td>16.0</td>\n",
              "      <td>комедии</td>\n",
              "      <td>Германия</td>\n",
              "    </tr>\n",
              "    <tr>\n",
              "      <th>770315</th>\n",
              "      <td>1024649</td>\n",
              "      <td>39.5</td>\n",
              "      <td>30.0</td>\n",
              "      <td>М</td>\n",
              "      <td>1</td>\n",
              "      <td>14431</td>\n",
              "      <td>2012.0</td>\n",
              "      <td>0</td>\n",
              "      <td>18.0</td>\n",
              "      <td>боевики</td>\n",
              "      <td>США</td>\n",
              "    </tr>\n",
              "    <tr>\n",
              "      <th>12559</th>\n",
              "      <td>613764</td>\n",
              "      <td>59.5</td>\n",
              "      <td>30.0</td>\n",
              "      <td>М</td>\n",
              "      <td>0</td>\n",
              "      <td>15388</td>\n",
              "      <td>2021.0</td>\n",
              "      <td>0</td>\n",
              "      <td>16.0</td>\n",
              "      <td>мелодрамы</td>\n",
              "      <td>Украина</td>\n",
              "    </tr>\n",
              "  </tbody>\n",
              "</table>\n",
              "</div>\n",
              "    <div class=\"colab-df-buttons\">\n",
              "\n",
              "  <div class=\"colab-df-container\">\n",
              "    <button class=\"colab-df-convert\" onclick=\"convertToInteractive('df-efda1710-c741-4a05-a34b-636a742d383a')\"\n",
              "            title=\"Convert this dataframe to an interactive table.\"\n",
              "            style=\"display:none;\">\n",
              "\n",
              "  <svg xmlns=\"http://www.w3.org/2000/svg\" height=\"24px\" viewBox=\"0 -960 960 960\">\n",
              "    <path d=\"M120-120v-720h720v720H120Zm60-500h600v-160H180v160Zm220 220h160v-160H400v160Zm0 220h160v-160H400v160ZM180-400h160v-160H180v160Zm440 0h160v-160H620v160ZM180-180h160v-160H180v160Zm440 0h160v-160H620v160Z\"/>\n",
              "  </svg>\n",
              "    </button>\n",
              "\n",
              "  <style>\n",
              "    .colab-df-container {\n",
              "      display:flex;\n",
              "      gap: 12px;\n",
              "    }\n",
              "\n",
              "    .colab-df-convert {\n",
              "      background-color: #E8F0FE;\n",
              "      border: none;\n",
              "      border-radius: 50%;\n",
              "      cursor: pointer;\n",
              "      display: none;\n",
              "      fill: #1967D2;\n",
              "      height: 32px;\n",
              "      padding: 0 0 0 0;\n",
              "      width: 32px;\n",
              "    }\n",
              "\n",
              "    .colab-df-convert:hover {\n",
              "      background-color: #E2EBFA;\n",
              "      box-shadow: 0px 1px 2px rgba(60, 64, 67, 0.3), 0px 1px 3px 1px rgba(60, 64, 67, 0.15);\n",
              "      fill: #174EA6;\n",
              "    }\n",
              "\n",
              "    .colab-df-buttons div {\n",
              "      margin-bottom: 4px;\n",
              "    }\n",
              "\n",
              "    [theme=dark] .colab-df-convert {\n",
              "      background-color: #3B4455;\n",
              "      fill: #D2E3FC;\n",
              "    }\n",
              "\n",
              "    [theme=dark] .colab-df-convert:hover {\n",
              "      background-color: #434B5C;\n",
              "      box-shadow: 0px 1px 3px 1px rgba(0, 0, 0, 0.15);\n",
              "      filter: drop-shadow(0px 1px 2px rgba(0, 0, 0, 0.3));\n",
              "      fill: #FFFFFF;\n",
              "    }\n",
              "  </style>\n",
              "\n",
              "    <script>\n",
              "      const buttonEl =\n",
              "        document.querySelector('#df-efda1710-c741-4a05-a34b-636a742d383a button.colab-df-convert');\n",
              "      buttonEl.style.display =\n",
              "        google.colab.kernel.accessAllowed ? 'block' : 'none';\n",
              "\n",
              "      async function convertToInteractive(key) {\n",
              "        const element = document.querySelector('#df-efda1710-c741-4a05-a34b-636a742d383a');\n",
              "        const dataTable =\n",
              "          await google.colab.kernel.invokeFunction('convertToInteractive',\n",
              "                                                    [key], {});\n",
              "        if (!dataTable) return;\n",
              "\n",
              "        const docLinkHtml = 'Like what you see? Visit the ' +\n",
              "          '<a target=\"_blank\" href=https://colab.research.google.com/notebooks/data_table.ipynb>data table notebook</a>'\n",
              "          + ' to learn more about interactive tables.';\n",
              "        element.innerHTML = '';\n",
              "        dataTable['output_type'] = 'display_data';\n",
              "        await google.colab.output.renderOutput(dataTable, element);\n",
              "        const docLink = document.createElement('div');\n",
              "        docLink.innerHTML = docLinkHtml;\n",
              "        element.appendChild(docLink);\n",
              "      }\n",
              "    </script>\n",
              "  </div>\n",
              "\n",
              "\n",
              "<div id=\"df-dcb89d21-cdb6-429d-94e5-caa6fdbae39b\">\n",
              "  <button class=\"colab-df-quickchart\" onclick=\"quickchart('df-dcb89d21-cdb6-429d-94e5-caa6fdbae39b')\"\n",
              "            title=\"Suggest charts\"\n",
              "            style=\"display:none;\">\n",
              "\n",
              "<svg xmlns=\"http://www.w3.org/2000/svg\" height=\"24px\"viewBox=\"0 0 24 24\"\n",
              "     width=\"24px\">\n",
              "    <g>\n",
              "        <path d=\"M19 3H5c-1.1 0-2 .9-2 2v14c0 1.1.9 2 2 2h14c1.1 0 2-.9 2-2V5c0-1.1-.9-2-2-2zM9 17H7v-7h2v7zm4 0h-2V7h2v10zm4 0h-2v-4h2v4z\"/>\n",
              "    </g>\n",
              "</svg>\n",
              "  </button>\n",
              "\n",
              "<style>\n",
              "  .colab-df-quickchart {\n",
              "      --bg-color: #E8F0FE;\n",
              "      --fill-color: #1967D2;\n",
              "      --hover-bg-color: #E2EBFA;\n",
              "      --hover-fill-color: #174EA6;\n",
              "      --disabled-fill-color: #AAA;\n",
              "      --disabled-bg-color: #DDD;\n",
              "  }\n",
              "\n",
              "  [theme=dark] .colab-df-quickchart {\n",
              "      --bg-color: #3B4455;\n",
              "      --fill-color: #D2E3FC;\n",
              "      --hover-bg-color: #434B5C;\n",
              "      --hover-fill-color: #FFFFFF;\n",
              "      --disabled-bg-color: #3B4455;\n",
              "      --disabled-fill-color: #666;\n",
              "  }\n",
              "\n",
              "  .colab-df-quickchart {\n",
              "    background-color: var(--bg-color);\n",
              "    border: none;\n",
              "    border-radius: 50%;\n",
              "    cursor: pointer;\n",
              "    display: none;\n",
              "    fill: var(--fill-color);\n",
              "    height: 32px;\n",
              "    padding: 0;\n",
              "    width: 32px;\n",
              "  }\n",
              "\n",
              "  .colab-df-quickchart:hover {\n",
              "    background-color: var(--hover-bg-color);\n",
              "    box-shadow: 0 1px 2px rgba(60, 64, 67, 0.3), 0 1px 3px 1px rgba(60, 64, 67, 0.15);\n",
              "    fill: var(--button-hover-fill-color);\n",
              "  }\n",
              "\n",
              "  .colab-df-quickchart-complete:disabled,\n",
              "  .colab-df-quickchart-complete:disabled:hover {\n",
              "    background-color: var(--disabled-bg-color);\n",
              "    fill: var(--disabled-fill-color);\n",
              "    box-shadow: none;\n",
              "  }\n",
              "\n",
              "  .colab-df-spinner {\n",
              "    border: 2px solid var(--fill-color);\n",
              "    border-color: transparent;\n",
              "    border-bottom-color: var(--fill-color);\n",
              "    animation:\n",
              "      spin 1s steps(1) infinite;\n",
              "  }\n",
              "\n",
              "  @keyframes spin {\n",
              "    0% {\n",
              "      border-color: transparent;\n",
              "      border-bottom-color: var(--fill-color);\n",
              "      border-left-color: var(--fill-color);\n",
              "    }\n",
              "    20% {\n",
              "      border-color: transparent;\n",
              "      border-left-color: var(--fill-color);\n",
              "      border-top-color: var(--fill-color);\n",
              "    }\n",
              "    30% {\n",
              "      border-color: transparent;\n",
              "      border-left-color: var(--fill-color);\n",
              "      border-top-color: var(--fill-color);\n",
              "      border-right-color: var(--fill-color);\n",
              "    }\n",
              "    40% {\n",
              "      border-color: transparent;\n",
              "      border-right-color: var(--fill-color);\n",
              "      border-top-color: var(--fill-color);\n",
              "    }\n",
              "    60% {\n",
              "      border-color: transparent;\n",
              "      border-right-color: var(--fill-color);\n",
              "    }\n",
              "    80% {\n",
              "      border-color: transparent;\n",
              "      border-right-color: var(--fill-color);\n",
              "      border-bottom-color: var(--fill-color);\n",
              "    }\n",
              "    90% {\n",
              "      border-color: transparent;\n",
              "      border-bottom-color: var(--fill-color);\n",
              "    }\n",
              "  }\n",
              "</style>\n",
              "\n",
              "  <script>\n",
              "    async function quickchart(key) {\n",
              "      const quickchartButtonEl =\n",
              "        document.querySelector('#' + key + ' button');\n",
              "      quickchartButtonEl.disabled = true;  // To prevent multiple clicks.\n",
              "      quickchartButtonEl.classList.add('colab-df-spinner');\n",
              "      try {\n",
              "        const charts = await google.colab.kernel.invokeFunction(\n",
              "            'suggestCharts', [key], {});\n",
              "      } catch (error) {\n",
              "        console.error('Error during call to suggestCharts:', error);\n",
              "      }\n",
              "      quickchartButtonEl.classList.remove('colab-df-spinner');\n",
              "      quickchartButtonEl.classList.add('colab-df-quickchart-complete');\n",
              "    }\n",
              "    (() => {\n",
              "      let quickchartButtonEl =\n",
              "        document.querySelector('#df-dcb89d21-cdb6-429d-94e5-caa6fdbae39b button');\n",
              "      quickchartButtonEl.style.display =\n",
              "        google.colab.kernel.accessAllowed ? 'block' : 'none';\n",
              "    })();\n",
              "  </script>\n",
              "</div>\n",
              "    </div>\n",
              "  </div>\n"
            ]
          },
          "metadata": {},
          "execution_count": 139
        }
      ]
    },
    {
      "cell_type": "markdown",
      "source": [
        "## Попробуем собрать что-то типа когорт вручную и подоказывать гипотезы"
      ],
      "metadata": {
        "id": "aAtxDloVTFZh"
      }
    },
    {
      "cell_type": "markdown",
      "source": [
        "### 1. Гипотеза про возраст"
      ],
      "metadata": {
        "id": "PsSqUbrMaxz5"
      }
    },
    {
      "cell_type": "markdown",
      "source": [
        "#### Молодежь (до 30 лет, нет детей, доход не важен)"
      ],
      "metadata": {
        "id": "PyMpX4QWTcRb"
      }
    },
    {
      "cell_type": "code",
      "source": [
        "young_no_kids = users_explor[(users_explor['age'] < 30) & (users_explor['kids_flg'] != 1)]"
      ],
      "metadata": {
        "id": "exULtN1NGk8w"
      },
      "execution_count": 140,
      "outputs": []
    },
    {
      "cell_type": "code",
      "source": [
        "young_no_kids['genres'].value_counts()[:5]"
      ],
      "metadata": {
        "colab": {
          "base_uri": "https://localhost:8080/"
        },
        "id": "FI4j_YdJSmwt",
        "outputId": "5837b9bd-1bb8-4240-e3f0-2b75a725e8ad"
      },
      "execution_count": 141,
      "outputs": [
        {
          "output_type": "execute_result",
          "data": {
            "text/plain": [
              "комедии       27042\n",
              "драмы         23871\n",
              "мелодрамы     20203\n",
              "зарубежные    18475\n",
              "русские       13768\n",
              "Name: genres, dtype: int64"
            ]
          },
          "metadata": {},
          "execution_count": 141
        }
      ]
    },
    {
      "cell_type": "code",
      "source": [
        "young_no_kids.drop_duplicates(['item_id', 'user_id'])['countries'].value_counts()[:5]"
      ],
      "metadata": {
        "colab": {
          "base_uri": "https://localhost:8080/"
        },
        "id": "0u1BpktmUYnV",
        "outputId": "1642ec68-9499-4c1f-d1e5-c6f3ffba673b"
      },
      "execution_count": 179,
      "outputs": [
        {
          "output_type": "execute_result",
          "data": {
            "text/plain": [
              "США               29617\n",
              "Россия            21007\n",
              "СССР              10230\n",
              "Франция            5566\n",
              "Великобритания     3762\n",
              "Name: countries, dtype: int64"
            ]
          },
          "metadata": {},
          "execution_count": 179
        }
      ]
    },
    {
      "cell_type": "code",
      "source": [
        "young_no_kids.drop_duplicates(['item_id', 'user_id'])['age_rating'].value_counts()"
      ],
      "metadata": {
        "colab": {
          "base_uri": "https://localhost:8080/"
        },
        "id": "DA-bzBO5Wdau",
        "outputId": "01ab6cab-3135-4d47-8998-1a742c9e6e36"
      },
      "execution_count": 180,
      "outputs": [
        {
          "output_type": "execute_result",
          "data": {
            "text/plain": [
              "16.0    33094\n",
              "12.0    24213\n",
              "18.0    13671\n",
              "0.0      7137\n",
              "6.0      6732\n",
              "21.0     3180\n",
              "Name: age_rating, dtype: int64"
            ]
          },
          "metadata": {},
          "execution_count": 180
        }
      ]
    },
    {
      "cell_type": "code",
      "source": [
        "young_no_kids.drop_duplicates(['item_id', 'user_id'])['for_kids'].value_counts()"
      ],
      "metadata": {
        "colab": {
          "base_uri": "https://localhost:8080/"
        },
        "id": "GX1p_DZUWtth",
        "outputId": "6e7a9e3e-54cc-400f-aa66-9a700727c11d"
      },
      "execution_count": 181,
      "outputs": [
        {
          "output_type": "execute_result",
          "data": {
            "text/plain": [
              "0    86134\n",
              "1     1893\n",
              "Name: for_kids, dtype: int64"
            ]
          },
          "metadata": {},
          "execution_count": 181
        }
      ]
    },
    {
      "cell_type": "markdown",
      "source": [
        "Посмотрим: есть ли разница между М и Ж полом"
      ],
      "metadata": {
        "id": "KAW-FP93U1pi"
      }
    },
    {
      "cell_type": "code",
      "source": [
        "print('М:', (len(young_no_kids[young_no_kids['sex'] == 'М'].drop_duplicates('user_id'))))\n",
        "print('Ж:', (len(young_no_kids[young_no_kids['sex'] == 'Ж'].drop_duplicates('user_id'))))"
      ],
      "metadata": {
        "colab": {
          "base_uri": "https://localhost:8080/"
        },
        "id": "3vDr6s-gVRx2",
        "outputId": "a31d6084-c2cc-467d-92d5-b143882b5cf2"
      },
      "execution_count": 145,
      "outputs": [
        {
          "output_type": "stream",
          "name": "stdout",
          "text": [
            "М: 37427\n",
            "Ж: 50600\n"
          ]
        }
      ]
    },
    {
      "cell_type": "markdown",
      "source": [
        "Не очень равномерно классы распределены, но выводы какие-то делать можно"
      ],
      "metadata": {
        "id": "xmCPxQxkWFo1"
      }
    },
    {
      "cell_type": "code",
      "source": [
        "young_no_kids[young_no_kids['sex'] == 'М']['genres'].value_counts()[:5]"
      ],
      "metadata": {
        "colab": {
          "base_uri": "https://localhost:8080/"
        },
        "id": "1yNFk3AxUxQD",
        "outputId": "18a3eb02-0d62-46cb-b25e-390dcd5ab341"
      },
      "execution_count": 146,
      "outputs": [
        {
          "output_type": "execute_result",
          "data": {
            "text/plain": [
              "комедии       11512\n",
              "драмы         10102\n",
              "мелодрамы      8612\n",
              "зарубежные     7969\n",
              "русские        5811\n",
              "Name: genres, dtype: int64"
            ]
          },
          "metadata": {},
          "execution_count": 146
        }
      ]
    },
    {
      "cell_type": "code",
      "source": [
        "young_no_kids[young_no_kids['sex'] == 'Ж']['genres'].value_counts()[:5]"
      ],
      "metadata": {
        "colab": {
          "base_uri": "https://localhost:8080/"
        },
        "id": "YjC5bf8LVLs-",
        "outputId": "61886224-3f6d-408d-a1f1-876e844c52f8"
      },
      "execution_count": 147,
      "outputs": [
        {
          "output_type": "execute_result",
          "data": {
            "text/plain": [
              "комедии       15530\n",
              "драмы         13769\n",
              "мелодрамы     11591\n",
              "зарубежные    10506\n",
              "русские        7957\n",
              "Name: genres, dtype: int64"
            ]
          },
          "metadata": {},
          "execution_count": 147
        }
      ]
    },
    {
      "cell_type": "markdown",
      "source": [
        "Топ жанров у М и Ж одинаковый в этой когорте, значит он особо не влияет"
      ],
      "metadata": {
        "id": "uRPjb8-nVsLX"
      }
    },
    {
      "cell_type": "markdown",
      "source": [
        "Вывод: Молодежь без детей предпочитает комедии, драмы, мелодрамы преимущественно Российского и Американского произволства. Тенденция видна."
      ],
      "metadata": {
        "id": "VQuLMljRX4lF"
      }
    },
    {
      "cell_type": "markdown",
      "source": [
        "#### Возраст средний (от 30 до 65 лет, доход не важен)"
      ],
      "metadata": {
        "id": "SF2Qeyqbf_Jk"
      }
    },
    {
      "cell_type": "code",
      "source": [
        "middles = users_explor[(users_explor['age'] > 30) & (users_explor['age'] < 50)]"
      ],
      "metadata": {
        "id": "epKles7Sf7LZ"
      },
      "execution_count": 170,
      "outputs": []
    },
    {
      "cell_type": "code",
      "source": [
        "middles['genres'].value_counts()[:5]"
      ],
      "metadata": {
        "colab": {
          "base_uri": "https://localhost:8080/"
        },
        "id": "FgVl-EF0f-BZ",
        "outputId": "b7e137d2-37a4-4780-b39d-4cbd13e80082"
      },
      "execution_count": 172,
      "outputs": [
        {
          "output_type": "execute_result",
          "data": {
            "text/plain": [
              "комедии       42046\n",
              "драмы         36900\n",
              "мелодрамы     31419\n",
              "зарубежные    28729\n",
              "русские       21253\n",
              "Name: genres, dtype: int64"
            ]
          },
          "metadata": {},
          "execution_count": 172
        }
      ]
    },
    {
      "cell_type": "code",
      "source": [
        "middles.drop_duplicates(['item_id', 'user_id'])['countries'].value_counts()[:5]"
      ],
      "metadata": {
        "colab": {
          "base_uri": "https://localhost:8080/"
        },
        "id": "wSK5rugThz4P",
        "outputId": "f4830167-185f-4837-97ab-2743e23f982b"
      },
      "execution_count": 182,
      "outputs": [
        {
          "output_type": "execute_result",
          "data": {
            "text/plain": [
              "США               45942\n",
              "Россия            32685\n",
              "СССР              15906\n",
              "Франция            8759\n",
              "Великобритания     5804\n",
              "Name: countries, dtype: int64"
            ]
          },
          "metadata": {},
          "execution_count": 182
        }
      ]
    },
    {
      "cell_type": "code",
      "source": [
        "middles.drop_duplicates(['item_id', 'user_id'])['age_rating'].value_counts()"
      ],
      "metadata": {
        "colab": {
          "base_uri": "https://localhost:8080/"
        },
        "id": "uUpEEFB6hz1l",
        "outputId": "b0fe2354-d29f-4374-d0d8-f06598c87558"
      },
      "execution_count": 183,
      "outputs": [
        {
          "output_type": "execute_result",
          "data": {
            "text/plain": [
              "16.0    51261\n",
              "12.0    37830\n",
              "18.0    21019\n",
              "0.0     11284\n",
              "6.0     10484\n",
              "21.0     4767\n",
              "Name: age_rating, dtype: int64"
            ]
          },
          "metadata": {},
          "execution_count": 183
        }
      ]
    },
    {
      "cell_type": "markdown",
      "source": [
        "Вывод: У средней возрастной группы комедии сильноо превалируют над остальными жанравми, в отличие от молодежи, у которых комедии и драмы близко друг к другу."
      ],
      "metadata": {
        "id": "ctuBwno5iZ1o"
      }
    },
    {
      "cell_type": "markdown",
      "source": [
        "#### Возрастные (от 55 до 65 лет, доход не важен)"
      ],
      "metadata": {
        "id": "MvB2tQNWhKS_"
      }
    },
    {
      "cell_type": "code",
      "source": [
        "seniors = users_explor[(users_explor['age'] > 55)]"
      ],
      "metadata": {
        "id": "IqoxA0BdhKsv"
      },
      "execution_count": 171,
      "outputs": []
    },
    {
      "cell_type": "code",
      "source": [
        "seniors['genres'].value_counts()[:5]"
      ],
      "metadata": {
        "colab": {
          "base_uri": "https://localhost:8080/"
        },
        "id": "1ABvX17Iht_p",
        "outputId": "d8fc99c1-a2a2-407b-9793-b5f7f721a4dd"
      },
      "execution_count": 175,
      "outputs": [
        {
          "output_type": "execute_result",
          "data": {
            "text/plain": [
              "комедии       11996\n",
              "драмы         10464\n",
              "мелодрамы      8993\n",
              "зарубежные     8151\n",
              "русские        6008\n",
              "Name: genres, dtype: int64"
            ]
          },
          "metadata": {},
          "execution_count": 175
        }
      ]
    },
    {
      "cell_type": "code",
      "source": [
        "seniors.drop_duplicates(['item_id', 'user_id'])['countries'].value_counts()[:5]"
      ],
      "metadata": {
        "colab": {
          "base_uri": "https://localhost:8080/"
        },
        "id": "KMzWiK-ni7Q9",
        "outputId": "de98c625-3aa3-4442-e79a-d265b161d30e"
      },
      "execution_count": 184,
      "outputs": [
        {
          "output_type": "execute_result",
          "data": {
            "text/plain": [
              "США               13034\n",
              "Россия             9299\n",
              "СССР               4460\n",
              "Франция            2507\n",
              "Великобритания     1635\n",
              "Name: countries, dtype: int64"
            ]
          },
          "metadata": {},
          "execution_count": 184
        }
      ]
    },
    {
      "cell_type": "code",
      "source": [
        "seniors.drop_duplicates(['item_id', 'user_id'])['age_rating'].value_counts()"
      ],
      "metadata": {
        "colab": {
          "base_uri": "https://localhost:8080/"
        },
        "id": "YY7GDhcVi77I",
        "outputId": "24ae67a8-be50-43d9-c713-60eea857b9da"
      },
      "execution_count": 185,
      "outputs": [
        {
          "output_type": "execute_result",
          "data": {
            "text/plain": [
              "16.0    14483\n",
              "12.0    10847\n",
              "18.0     5880\n",
              "0.0      3184\n",
              "6.0      3051\n",
              "21.0     1400\n",
              "Name: age_rating, dtype: int64"
            ]
          },
          "metadata": {},
          "execution_count": 185
        }
      ]
    },
    {
      "cell_type": "markdown",
      "source": [
        "Вывод: У возрастной группы комедии и драмы на одном уровне, что отличает их от средней группы, а также фильмы из США не так сильно опережают Российские + СССР"
      ],
      "metadata": {
        "id": "uK7N6CTtlR4o"
      }
    },
    {
      "cell_type": "markdown",
      "source": [
        "Вывод: различий в предпочтениях между когортами на основе возраста имеются.  \n",
        "####*Гипотезу про возраст принимаем*"
      ],
      "metadata": {
        "id": "NW3TkrsHmAD3"
      }
    },
    {
      "cell_type": "markdown",
      "source": [
        "### Гипотеза про детей"
      ],
      "metadata": {
        "id": "TX8iF2TUbDmj"
      }
    },
    {
      "cell_type": "markdown",
      "source": [
        "####  Без детей (возраст не важен, доход не важен, пол не важен)"
      ],
      "metadata": {
        "id": "yiDkaxWTbKDL"
      }
    },
    {
      "cell_type": "code",
      "source": [
        "no_kids = users_explor[(users_explor['kids_flg'] != 1)]"
      ],
      "metadata": {
        "id": "xrtSQ4bQbJxm"
      },
      "execution_count": 148,
      "outputs": []
    },
    {
      "cell_type": "code",
      "source": [
        "no_kids['genres'].value_counts()[:5]"
      ],
      "metadata": {
        "colab": {
          "base_uri": "https://localhost:8080/"
        },
        "id": "K4WWNNVpbTos",
        "outputId": "6cb2aefb-f626-406d-c20c-98ee3fc2fecd"
      },
      "execution_count": 149,
      "outputs": [
        {
          "output_type": "execute_result",
          "data": {
            "text/plain": [
              "комедии       57266\n",
              "драмы         50494\n",
              "мелодрамы     42939\n",
              "зарубежные    39134\n",
              "русские       29286\n",
              "Name: genres, dtype: int64"
            ]
          },
          "metadata": {},
          "execution_count": 149
        }
      ]
    },
    {
      "cell_type": "code",
      "source": [
        "no_kids.drop_duplicates(['item_id', 'user_id'])['countries'].value_counts()[:5]"
      ],
      "metadata": {
        "colab": {
          "base_uri": "https://localhost:8080/"
        },
        "id": "WmgMliTsbTmW",
        "outputId": "2b2c4f24-7856-4cb3-bad8-56dfb1b1c113"
      },
      "execution_count": 186,
      "outputs": [
        {
          "output_type": "execute_result",
          "data": {
            "text/plain": [
              "США               62556\n",
              "Россия            44740\n",
              "СССР              21705\n",
              "Франция           11933\n",
              "Великобритания     7935\n",
              "Name: countries, dtype: int64"
            ]
          },
          "metadata": {},
          "execution_count": 186
        }
      ]
    },
    {
      "cell_type": "code",
      "source": [
        "no_kids.drop_duplicates(['item_id', 'user_id'])['age_rating'].value_counts()"
      ],
      "metadata": {
        "colab": {
          "base_uri": "https://localhost:8080/"
        },
        "id": "4se2bRNgbTjq",
        "outputId": "cad52ea1-e3ef-4533-fe49-dad99810cffe"
      },
      "execution_count": 187,
      "outputs": [
        {
          "output_type": "execute_result",
          "data": {
            "text/plain": [
              "16.0    69990\n",
              "12.0    51613\n",
              "18.0    28693\n",
              "0.0     15248\n",
              "6.0     14401\n",
              "21.0     6598\n",
              "Name: age_rating, dtype: int64"
            ]
          },
          "metadata": {},
          "execution_count": 187
        }
      ]
    },
    {
      "cell_type": "code",
      "source": [
        "no_kids.drop_duplicates(['item_id', 'user_id'])['for_kids'].value_counts()"
      ],
      "metadata": {
        "colab": {
          "base_uri": "https://localhost:8080/"
        },
        "id": "tdiUICVubThM",
        "outputId": "1fa59fbe-69af-4a6f-c324-b0b3c53ddb35"
      },
      "execution_count": 188,
      "outputs": [
        {
          "output_type": "execute_result",
          "data": {
            "text/plain": [
              "0    182501\n",
              "1      4042\n",
              "Name: for_kids, dtype: int64"
            ]
          },
          "metadata": {},
          "execution_count": 188
        }
      ]
    },
    {
      "cell_type": "markdown",
      "source": [
        "#### С детьми (возраст не важен, доход не важен, пол не важен)"
      ],
      "metadata": {
        "id": "bZ7dxUyGYPxM"
      }
    },
    {
      "cell_type": "code",
      "source": [
        "with_kids = users_explor[(users_explor['kids_flg'] == 1)]"
      ],
      "metadata": {
        "id": "RyqqRw2IVNf-"
      },
      "execution_count": 153,
      "outputs": []
    },
    {
      "cell_type": "code",
      "source": [
        "with_kids['genres'].value_counts()[:5]"
      ],
      "metadata": {
        "colab": {
          "base_uri": "https://localhost:8080/"
        },
        "id": "gtNGt5-ZW-No",
        "outputId": "b282c5cf-5cac-4787-b78c-2b23f5ff6c9b"
      },
      "execution_count": 154,
      "outputs": [
        {
          "output_type": "execute_result",
          "data": {
            "text/plain": [
              "комедии       25621\n",
              "драмы         22351\n",
              "мелодрамы     19063\n",
              "зарубежные    17558\n",
              "русские       12685\n",
              "Name: genres, dtype: int64"
            ]
          },
          "metadata": {},
          "execution_count": 154
        }
      ]
    },
    {
      "cell_type": "code",
      "source": [
        "with_kids.drop_duplicates(['item_id', 'user_id'])['countries'].value_counts()[:5]"
      ],
      "metadata": {
        "colab": {
          "base_uri": "https://localhost:8080/"
        },
        "id": "WD8t4q9rYmLk",
        "outputId": "b676911f-fbab-41de-b672-0a4e725448f4"
      },
      "execution_count": 189,
      "outputs": [
        {
          "output_type": "execute_result",
          "data": {
            "text/plain": [
              "США               28087\n",
              "Россия            19729\n",
              "СССР               9499\n",
              "Франция            5331\n",
              "Великобритания     3497\n",
              "Name: countries, dtype: int64"
            ]
          },
          "metadata": {},
          "execution_count": 189
        }
      ]
    },
    {
      "cell_type": "code",
      "source": [
        "with_kids.drop_duplicates(['item_id', 'user_id'])['age_rating'].value_counts()"
      ],
      "metadata": {
        "colab": {
          "base_uri": "https://localhost:8080/"
        },
        "id": "pMwpEssLYmId",
        "outputId": "eb8439e6-65e9-431a-d7d0-9f2f05fc66c0"
      },
      "execution_count": 190,
      "outputs": [
        {
          "output_type": "execute_result",
          "data": {
            "text/plain": [
              "16.0    31358\n",
              "12.0    22798\n",
              "18.0    12934\n",
              "0.0      6803\n",
              "6.0      6342\n",
              "21.0     2979\n",
              "Name: age_rating, dtype: int64"
            ]
          },
          "metadata": {},
          "execution_count": 190
        }
      ]
    },
    {
      "cell_type": "code",
      "source": [
        "with_kids.drop_duplicates(['item_id', 'user_id'])['for_kids'].value_counts()"
      ],
      "metadata": {
        "colab": {
          "base_uri": "https://localhost:8080/"
        },
        "id": "Lhw55O8uYmDx",
        "outputId": "c8eed69d-6de3-48fe-ad17-3e9ceb12a74b"
      },
      "execution_count": 191,
      "outputs": [
        {
          "output_type": "execute_result",
          "data": {
            "text/plain": [
              "0    81306\n",
              "1     1908\n",
              "Name: for_kids, dtype: int64"
            ]
          },
          "metadata": {},
          "execution_count": 191
        }
      ]
    },
    {
      "cell_type": "markdown",
      "source": [
        "Вывод: на наших данных, наличие детей не вносит видимого вклада в предпочтения пользователей. Предпочтения имеют схожую структуру, разница только в кол-ве из-за несбалансированности классов.  \n",
        "####*Гипотезу про детей отвергаем*"
      ],
      "metadata": {
        "id": "VNpHVnHHZCuj"
      }
    },
    {
      "cell_type": "markdown",
      "source": [
        "### Гипотеза про доход"
      ],
      "metadata": {
        "id": "HZygT_6BZhJS"
      }
    },
    {
      "cell_type": "code",
      "source": [
        "low_inc = users_explor[(users_explor['income'] <= 30)]\n",
        "med_inc = users_explor[(users_explor['income'] >= 50) & (users_explor['income'] <= 75)]\n",
        "high_inc = users_explor[(users_explor['income'] >= 120)]\n",
        "\n",
        "print('low:', len(low_inc.drop_duplicates('user_id')))\n",
        "print('med:', len(med_inc.drop_duplicates('user_id')))\n",
        "print('high:', len(high_inc.drop_duplicates('user_id')))"
      ],
      "metadata": {
        "colab": {
          "base_uri": "https://localhost:8080/"
        },
        "id": "TNL7G2mrcAhI",
        "outputId": "0e6c3170-6fd6-42f4-b228-d90e5f27aba1"
      },
      "execution_count": 159,
      "outputs": [
        {
          "output_type": "stream",
          "name": "stdout",
          "text": [
            "low: 161085\n",
            "med: 103616\n",
            "high: 5056\n"
          ]
        }
      ]
    },
    {
      "cell_type": "markdown",
      "source": [
        "Классы очень несбалансированы"
      ],
      "metadata": {
        "id": "mTdl7D5Mc7RD"
      }
    },
    {
      "cell_type": "code",
      "source": [
        "low_inc['genres'].value_counts()[:5]"
      ],
      "metadata": {
        "colab": {
          "base_uri": "https://localhost:8080/"
        },
        "id": "oM5v4sNLePKn",
        "outputId": "49e0ac59-7e49-4e68-8aae-2b8650486221"
      },
      "execution_count": 160,
      "outputs": [
        {
          "output_type": "execute_result",
          "data": {
            "text/plain": [
              "комедии       49367\n",
              "драмы         43736\n",
              "мелодрамы     36938\n",
              "зарубежные    33934\n",
              "русские       25000\n",
              "Name: genres, dtype: int64"
            ]
          },
          "metadata": {},
          "execution_count": 160
        }
      ]
    },
    {
      "cell_type": "code",
      "source": [
        "med_inc['genres'].value_counts()[:5]"
      ],
      "metadata": {
        "colab": {
          "base_uri": "https://localhost:8080/"
        },
        "id": "ZGlt7VoEePGb",
        "outputId": "3bc46de2-06cc-4cfb-81a2-b5f1219f28cb"
      },
      "execution_count": 161,
      "outputs": [
        {
          "output_type": "execute_result",
          "data": {
            "text/plain": [
              "комедии       31972\n",
              "драмы         27795\n",
              "мелодрамы     23899\n",
              "зарубежные    21708\n",
              "русские       16138\n",
              "Name: genres, dtype: int64"
            ]
          },
          "metadata": {},
          "execution_count": 161
        }
      ]
    },
    {
      "cell_type": "code",
      "source": [
        "high_inc['genres'].value_counts()[:5]"
      ],
      "metadata": {
        "colab": {
          "base_uri": "https://localhost:8080/"
        },
        "id": "jpCRJ0HJePDP",
        "outputId": "fdafd4bd-61f6-4517-be70-9deeed25d55c"
      },
      "execution_count": 162,
      "outputs": [
        {
          "output_type": "execute_result",
          "data": {
            "text/plain": [
              "комедии       1548\n",
              "драмы         1314\n",
              "мелодрамы     1165\n",
              "зарубежные    1050\n",
              "русские        833\n",
              "Name: genres, dtype: int64"
            ]
          },
          "metadata": {},
          "execution_count": 162
        }
      ]
    },
    {
      "cell_type": "markdown",
      "source": [
        "По жанрам разницы особой нет"
      ],
      "metadata": {
        "id": "WMZP5NU2ejC5"
      }
    },
    {
      "cell_type": "code",
      "source": [
        "low_inc.drop_duplicates(['item_id', 'user_id'])['countries'].value_counts()[:5]"
      ],
      "metadata": {
        "colab": {
          "base_uri": "https://localhost:8080/"
        },
        "id": "HpPKaEnoePAW",
        "outputId": "0f663b97-3ec9-4fab-c4dc-337a0d67610c"
      },
      "execution_count": 192,
      "outputs": [
        {
          "output_type": "execute_result",
          "data": {
            "text/plain": [
              "США               53961\n",
              "Россия            38410\n",
              "СССР              18706\n",
              "Франция           10377\n",
              "Великобритания     6827\n",
              "Name: countries, dtype: int64"
            ]
          },
          "metadata": {},
          "execution_count": 192
        }
      ]
    },
    {
      "cell_type": "code",
      "source": [
        "med_inc.drop_duplicates(['item_id', 'user_id'])['countries'].value_counts()[:5]"
      ],
      "metadata": {
        "colab": {
          "base_uri": "https://localhost:8080/"
        },
        "id": "nLL5W-3Veq4c",
        "outputId": "55f18341-7316-4998-b8ce-5edd786262ba"
      },
      "execution_count": 193,
      "outputs": [
        {
          "output_type": "execute_result",
          "data": {
            "text/plain": [
              "США               34982\n",
              "Россия            24832\n",
              "СССР              11882\n",
              "Франция            6590\n",
              "Великобритания     4389\n",
              "Name: countries, dtype: int64"
            ]
          },
          "metadata": {},
          "execution_count": 193
        }
      ]
    },
    {
      "cell_type": "code",
      "source": [
        "high_inc.drop_duplicates(['item_id', 'user_id'])['countries'].value_counts()[:5]"
      ],
      "metadata": {
        "colab": {
          "base_uri": "https://localhost:8080/"
        },
        "id": "MC-02-PZeqzz",
        "outputId": "37986d2a-037d-4427-a36f-25581065e6cd"
      },
      "execution_count": 194,
      "outputs": [
        {
          "output_type": "execute_result",
          "data": {
            "text/plain": [
              "США               1700\n",
              "Россия            1227\n",
              "СССР               616\n",
              "Франция            297\n",
              "Великобритания     216\n",
              "Name: countries, dtype: int64"
            ]
          },
          "metadata": {},
          "execution_count": 194
        }
      ]
    },
    {
      "cell_type": "markdown",
      "source": [
        "По странам также не видно сильной зависимости"
      ],
      "metadata": {
        "id": "bbhhCmfGe0xy"
      }
    },
    {
      "cell_type": "code",
      "source": [
        "low_inc.drop_duplicates(['item_id', 'user_id'])['age_rating'].value_counts()"
      ],
      "metadata": {
        "colab": {
          "base_uri": "https://localhost:8080/"
        },
        "id": "XG3F5UBjW-HL",
        "outputId": "99a62bd2-d2bb-496d-ca9c-86f6ca76f8a9"
      },
      "execution_count": 195,
      "outputs": [
        {
          "output_type": "execute_result",
          "data": {
            "text/plain": [
              "16.0    60397\n",
              "12.0    44400\n",
              "18.0    24858\n",
              "0.0     13184\n",
              "6.0     12449\n",
              "21.0     5797\n",
              "Name: age_rating, dtype: int64"
            ]
          },
          "metadata": {},
          "execution_count": 195
        }
      ]
    },
    {
      "cell_type": "code",
      "source": [
        "med_inc.drop_duplicates(['item_id', 'user_id'])['age_rating'].value_counts()"
      ],
      "metadata": {
        "colab": {
          "base_uri": "https://localhost:8080/"
        },
        "id": "FQYAT2Q7fEn2",
        "outputId": "de05568a-29d2-44f1-c031-6ac0d7c49c0e"
      },
      "execution_count": 196,
      "outputs": [
        {
          "output_type": "execute_result",
          "data": {
            "text/plain": [
              "16.0    38995\n",
              "12.0    28682\n",
              "18.0    15997\n",
              "0.0      8441\n",
              "6.0      7899\n",
              "21.0     3602\n",
              "Name: age_rating, dtype: int64"
            ]
          },
          "metadata": {},
          "execution_count": 196
        }
      ]
    },
    {
      "cell_type": "code",
      "source": [
        "high_inc.drop_duplicates(['item_id', 'user_id'])['age_rating'].value_counts()"
      ],
      "metadata": {
        "colab": {
          "base_uri": "https://localhost:8080/"
        },
        "id": "zS4onNQDfEk_",
        "outputId": "cc747d80-1796-46f3-b416-ff38951d4fed"
      },
      "execution_count": 197,
      "outputs": [
        {
          "output_type": "execute_result",
          "data": {
            "text/plain": [
              "16.0    1956\n",
              "12.0    1329\n",
              "18.0     772\n",
              "0.0      426\n",
              "6.0      395\n",
              "21.0     178\n",
              "Name: age_rating, dtype: int64"
            ]
          },
          "metadata": {},
          "execution_count": 197
        }
      ]
    },
    {
      "cell_type": "markdown",
      "source": [
        "По рейтингу также нет видимой разницы. Скорее всего популярные фильмы зачастую имеют рейтинг 16 и 12"
      ],
      "metadata": {
        "id": "xRrXxviKfXQJ"
      }
    },
    {
      "cell_type": "markdown",
      "source": [
        "Вывод: различий в предпочтениях между когортами на основе дохода не обнаружено.  \n",
        "####*Гипотезу про доход отвергаем*"
      ],
      "metadata": {
        "id": "nie9RQSafjGZ"
      }
    },
    {
      "cell_type": "code",
      "source": [],
      "metadata": {
        "id": "4tUPLzrOkvcW"
      },
      "execution_count": null,
      "outputs": []
    }
  ]
}
