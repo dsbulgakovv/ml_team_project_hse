{
  "nbformat": 4,
  "nbformat_minor": 0,
  "metadata": {
    "colab": {
      "provenance": [],
      "machine_shape": "hm"
    },
    "kernelspec": {
      "name": "python3",
      "display_name": "Python 3"
    },
    "language_info": {
      "name": "python"
    },
    "widgets": {
      "application/vnd.jupyter.widget-state+json": {
        "71a756c710f1408a9f7be6af58b73046": {
          "model_module": "@jupyter-widgets/controls",
          "model_name": "HBoxModel",
          "model_module_version": "1.5.0",
          "state": {
            "_dom_classes": [],
            "_model_module": "@jupyter-widgets/controls",
            "_model_module_version": "1.5.0",
            "_model_name": "HBoxModel",
            "_view_count": null,
            "_view_module": "@jupyter-widgets/controls",
            "_view_module_version": "1.5.0",
            "_view_name": "HBoxView",
            "box_style": "",
            "children": [
              "IPY_MODEL_df140259545a47eeb4b282532e6fa659",
              "IPY_MODEL_323eba2036be4cb39b9cf0cb44c111b8",
              "IPY_MODEL_3804a1ed3a8247f08f53576dc2d7d50e"
            ],
            "layout": "IPY_MODEL_724d24cd609944fd992a993af012d3e6"
          }
        },
        "df140259545a47eeb4b282532e6fa659": {
          "model_module": "@jupyter-widgets/controls",
          "model_name": "HTMLModel",
          "model_module_version": "1.5.0",
          "state": {
            "_dom_classes": [],
            "_model_module": "@jupyter-widgets/controls",
            "_model_module_version": "1.5.0",
            "_model_name": "HTMLModel",
            "_view_count": null,
            "_view_module": "@jupyter-widgets/controls",
            "_view_module_version": "1.5.0",
            "_view_name": "HTMLView",
            "description": "",
            "description_tooltip": null,
            "layout": "IPY_MODEL_e2987af2d0034ce5a5d52e1e558eac45",
            "placeholder": "​",
            "style": "IPY_MODEL_1fe626aefc4a40a9adb65eb9b01c1ade",
            "value": "100%"
          }
        },
        "323eba2036be4cb39b9cf0cb44c111b8": {
          "model_module": "@jupyter-widgets/controls",
          "model_name": "FloatProgressModel",
          "model_module_version": "1.5.0",
          "state": {
            "_dom_classes": [],
            "_model_module": "@jupyter-widgets/controls",
            "_model_module_version": "1.5.0",
            "_model_name": "FloatProgressModel",
            "_view_count": null,
            "_view_module": "@jupyter-widgets/controls",
            "_view_module_version": "1.5.0",
            "_view_name": "ProgressView",
            "bar_style": "success",
            "description": "",
            "description_tooltip": null,
            "layout": "IPY_MODEL_554b1817bf704aa09d99781e49c84b92",
            "max": 18591,
            "min": 0,
            "orientation": "horizontal",
            "style": "IPY_MODEL_1848f4240789409f95288b3d3726360d",
            "value": 18591
          }
        },
        "3804a1ed3a8247f08f53576dc2d7d50e": {
          "model_module": "@jupyter-widgets/controls",
          "model_name": "HTMLModel",
          "model_module_version": "1.5.0",
          "state": {
            "_dom_classes": [],
            "_model_module": "@jupyter-widgets/controls",
            "_model_module_version": "1.5.0",
            "_model_name": "HTMLModel",
            "_view_count": null,
            "_view_module": "@jupyter-widgets/controls",
            "_view_module_version": "1.5.0",
            "_view_name": "HTMLView",
            "description": "",
            "description_tooltip": null,
            "layout": "IPY_MODEL_47a84245ff0f4a3598bde92b4e416e92",
            "placeholder": "​",
            "style": "IPY_MODEL_03dcf4c5eed84798b48a2b10e031b605",
            "value": " 18591/18591 [05:12&lt;00:00, 60.11it/s]"
          }
        },
        "724d24cd609944fd992a993af012d3e6": {
          "model_module": "@jupyter-widgets/base",
          "model_name": "LayoutModel",
          "model_module_version": "1.2.0",
          "state": {
            "_model_module": "@jupyter-widgets/base",
            "_model_module_version": "1.2.0",
            "_model_name": "LayoutModel",
            "_view_count": null,
            "_view_module": "@jupyter-widgets/base",
            "_view_module_version": "1.2.0",
            "_view_name": "LayoutView",
            "align_content": null,
            "align_items": null,
            "align_self": null,
            "border": null,
            "bottom": null,
            "display": null,
            "flex": null,
            "flex_flow": null,
            "grid_area": null,
            "grid_auto_columns": null,
            "grid_auto_flow": null,
            "grid_auto_rows": null,
            "grid_column": null,
            "grid_gap": null,
            "grid_row": null,
            "grid_template_areas": null,
            "grid_template_columns": null,
            "grid_template_rows": null,
            "height": null,
            "justify_content": null,
            "justify_items": null,
            "left": null,
            "margin": null,
            "max_height": null,
            "max_width": null,
            "min_height": null,
            "min_width": null,
            "object_fit": null,
            "object_position": null,
            "order": null,
            "overflow": null,
            "overflow_x": null,
            "overflow_y": null,
            "padding": null,
            "right": null,
            "top": null,
            "visibility": null,
            "width": null
          }
        },
        "e2987af2d0034ce5a5d52e1e558eac45": {
          "model_module": "@jupyter-widgets/base",
          "model_name": "LayoutModel",
          "model_module_version": "1.2.0",
          "state": {
            "_model_module": "@jupyter-widgets/base",
            "_model_module_version": "1.2.0",
            "_model_name": "LayoutModel",
            "_view_count": null,
            "_view_module": "@jupyter-widgets/base",
            "_view_module_version": "1.2.0",
            "_view_name": "LayoutView",
            "align_content": null,
            "align_items": null,
            "align_self": null,
            "border": null,
            "bottom": null,
            "display": null,
            "flex": null,
            "flex_flow": null,
            "grid_area": null,
            "grid_auto_columns": null,
            "grid_auto_flow": null,
            "grid_auto_rows": null,
            "grid_column": null,
            "grid_gap": null,
            "grid_row": null,
            "grid_template_areas": null,
            "grid_template_columns": null,
            "grid_template_rows": null,
            "height": null,
            "justify_content": null,
            "justify_items": null,
            "left": null,
            "margin": null,
            "max_height": null,
            "max_width": null,
            "min_height": null,
            "min_width": null,
            "object_fit": null,
            "object_position": null,
            "order": null,
            "overflow": null,
            "overflow_x": null,
            "overflow_y": null,
            "padding": null,
            "right": null,
            "top": null,
            "visibility": null,
            "width": null
          }
        },
        "1fe626aefc4a40a9adb65eb9b01c1ade": {
          "model_module": "@jupyter-widgets/controls",
          "model_name": "DescriptionStyleModel",
          "model_module_version": "1.5.0",
          "state": {
            "_model_module": "@jupyter-widgets/controls",
            "_model_module_version": "1.5.0",
            "_model_name": "DescriptionStyleModel",
            "_view_count": null,
            "_view_module": "@jupyter-widgets/base",
            "_view_module_version": "1.2.0",
            "_view_name": "StyleView",
            "description_width": ""
          }
        },
        "554b1817bf704aa09d99781e49c84b92": {
          "model_module": "@jupyter-widgets/base",
          "model_name": "LayoutModel",
          "model_module_version": "1.2.0",
          "state": {
            "_model_module": "@jupyter-widgets/base",
            "_model_module_version": "1.2.0",
            "_model_name": "LayoutModel",
            "_view_count": null,
            "_view_module": "@jupyter-widgets/base",
            "_view_module_version": "1.2.0",
            "_view_name": "LayoutView",
            "align_content": null,
            "align_items": null,
            "align_self": null,
            "border": null,
            "bottom": null,
            "display": null,
            "flex": null,
            "flex_flow": null,
            "grid_area": null,
            "grid_auto_columns": null,
            "grid_auto_flow": null,
            "grid_auto_rows": null,
            "grid_column": null,
            "grid_gap": null,
            "grid_row": null,
            "grid_template_areas": null,
            "grid_template_columns": null,
            "grid_template_rows": null,
            "height": null,
            "justify_content": null,
            "justify_items": null,
            "left": null,
            "margin": null,
            "max_height": null,
            "max_width": null,
            "min_height": null,
            "min_width": null,
            "object_fit": null,
            "object_position": null,
            "order": null,
            "overflow": null,
            "overflow_x": null,
            "overflow_y": null,
            "padding": null,
            "right": null,
            "top": null,
            "visibility": null,
            "width": null
          }
        },
        "1848f4240789409f95288b3d3726360d": {
          "model_module": "@jupyter-widgets/controls",
          "model_name": "ProgressStyleModel",
          "model_module_version": "1.5.0",
          "state": {
            "_model_module": "@jupyter-widgets/controls",
            "_model_module_version": "1.5.0",
            "_model_name": "ProgressStyleModel",
            "_view_count": null,
            "_view_module": "@jupyter-widgets/base",
            "_view_module_version": "1.2.0",
            "_view_name": "StyleView",
            "bar_color": null,
            "description_width": ""
          }
        },
        "47a84245ff0f4a3598bde92b4e416e92": {
          "model_module": "@jupyter-widgets/base",
          "model_name": "LayoutModel",
          "model_module_version": "1.2.0",
          "state": {
            "_model_module": "@jupyter-widgets/base",
            "_model_module_version": "1.2.0",
            "_model_name": "LayoutModel",
            "_view_count": null,
            "_view_module": "@jupyter-widgets/base",
            "_view_module_version": "1.2.0",
            "_view_name": "LayoutView",
            "align_content": null,
            "align_items": null,
            "align_self": null,
            "border": null,
            "bottom": null,
            "display": null,
            "flex": null,
            "flex_flow": null,
            "grid_area": null,
            "grid_auto_columns": null,
            "grid_auto_flow": null,
            "grid_auto_rows": null,
            "grid_column": null,
            "grid_gap": null,
            "grid_row": null,
            "grid_template_areas": null,
            "grid_template_columns": null,
            "grid_template_rows": null,
            "height": null,
            "justify_content": null,
            "justify_items": null,
            "left": null,
            "margin": null,
            "max_height": null,
            "max_width": null,
            "min_height": null,
            "min_width": null,
            "object_fit": null,
            "object_position": null,
            "order": null,
            "overflow": null,
            "overflow_x": null,
            "overflow_y": null,
            "padding": null,
            "right": null,
            "top": null,
            "visibility": null,
            "width": null
          }
        },
        "03dcf4c5eed84798b48a2b10e031b605": {
          "model_module": "@jupyter-widgets/controls",
          "model_name": "DescriptionStyleModel",
          "model_module_version": "1.5.0",
          "state": {
            "_model_module": "@jupyter-widgets/controls",
            "_model_module_version": "1.5.0",
            "_model_name": "DescriptionStyleModel",
            "_view_count": null,
            "_view_module": "@jupyter-widgets/base",
            "_view_module_version": "1.2.0",
            "_view_name": "StyleView",
            "description_width": ""
          }
        }
      }
    }
  },
  "cells": [
    {
      "cell_type": "markdown",
      "source": [
        "Данный ноутбук является частью проекта \"Рекомендательные системы с элементами NLP\" команды МОВС ВШЭ"
      ],
      "metadata": {
        "id": "PU3_ScFPNz-f"
      }
    },
    {
      "cell_type": "code",
      "source": [
        "!pip install lightfm"
      ],
      "metadata": {
        "colab": {
          "base_uri": "https://localhost:8080/"
        },
        "id": "tCQjOfzBJUfu",
        "outputId": "5b4f13a6-01df-4f67-e3a4-a4be38c8b936"
      },
      "execution_count": null,
      "outputs": [
        {
          "output_type": "stream",
          "name": "stdout",
          "text": [
            "Requirement already satisfied: lightfm in /usr/local/lib/python3.10/dist-packages (1.17)\n",
            "Requirement already satisfied: numpy in /usr/local/lib/python3.10/dist-packages (from lightfm) (1.23.5)\n",
            "Requirement already satisfied: scipy>=0.17.0 in /usr/local/lib/python3.10/dist-packages (from lightfm) (1.11.4)\n",
            "Requirement already satisfied: requests in /usr/local/lib/python3.10/dist-packages (from lightfm) (2.31.0)\n",
            "Requirement already satisfied: scikit-learn in /usr/local/lib/python3.10/dist-packages (from lightfm) (1.2.2)\n",
            "Requirement already satisfied: charset-normalizer<4,>=2 in /usr/local/lib/python3.10/dist-packages (from requests->lightfm) (3.3.2)\n",
            "Requirement already satisfied: idna<4,>=2.5 in /usr/local/lib/python3.10/dist-packages (from requests->lightfm) (3.6)\n",
            "Requirement already satisfied: urllib3<3,>=1.21.1 in /usr/local/lib/python3.10/dist-packages (from requests->lightfm) (2.0.7)\n",
            "Requirement already satisfied: certifi>=2017.4.17 in /usr/local/lib/python3.10/dist-packages (from requests->lightfm) (2023.11.17)\n",
            "Requirement already satisfied: joblib>=1.1.1 in /usr/local/lib/python3.10/dist-packages (from scikit-learn->lightfm) (1.3.2)\n",
            "Requirement already satisfied: threadpoolctl>=2.0.0 in /usr/local/lib/python3.10/dist-packages (from scikit-learn->lightfm) (3.2.0)\n"
          ]
        }
      ]
    },
    {
      "cell_type": "code",
      "execution_count": null,
      "metadata": {
        "id": "G619rXS_CK0F"
      },
      "outputs": [],
      "source": [
        "from datetime import datetime\n",
        "from matplotlib import pyplot as plt\n",
        "from scipy import stats\n",
        "\n",
        "import pandas as pd\n",
        "import seaborn as sb\n",
        "import numpy as np\n",
        "import requests"
      ]
    },
    {
      "cell_type": "markdown",
      "source": [
        "# Загружаем данные"
      ],
      "metadata": {
        "id": "aHwN0QekCoSl"
      }
    },
    {
      "cell_type": "code",
      "source": [
        "# Загрузим в ноутбук\n",
        "!gdown 1I_uFqSR7TiGp7BfKH6wwnpmiBk1ZAzww\n",
        "!gdown 1CP4deOmpaOqnwdnqZCcZBqpZjBxKDs6l\n",
        "!gdown 1S0Wz20_d-HV9USfxwqmE4FRtkOovs2XK"
      ],
      "metadata": {
        "id": "7HUlC1UAMGMt",
        "outputId": "47c4b295-32a9-4c76-f885-b14fdf62345d",
        "colab": {
          "base_uri": "https://localhost:8080/"
        }
      },
      "execution_count": null,
      "outputs": [
        {
          "output_type": "stream",
          "name": "stdout",
          "text": [
            "Downloading...\n",
            "From: https://drive.google.com/uc?id=1I_uFqSR7TiGp7BfKH6wwnpmiBk1ZAzww\n",
            "To: /content/items.csv\n",
            "100% 31.8M/31.8M [00:00<00:00, 61.4MB/s]\n",
            "Downloading...\n",
            "From: https://drive.google.com/uc?id=1CP4deOmpaOqnwdnqZCcZBqpZjBxKDs6l\n",
            "To: /content/users.csv\n",
            "100% 29.9M/29.9M [00:00<00:00, 180MB/s]\n",
            "Downloading...\n",
            "From: https://drive.google.com/uc?id=1S0Wz20_d-HV9USfxwqmE4FRtkOovs2XK\n",
            "To: /content/interactions.csv\n",
            "100% 180M/180M [00:01<00:00, 121MB/s]\n"
          ]
        }
      ]
    },
    {
      "cell_type": "code",
      "source": [
        "items_df = pd.read_csv('/content/items.csv')\n",
        "users_df = pd.read_csv('/content/users.csv')\n",
        "interactions_df = pd.read_csv('/content/interactions.csv')\n",
        "interactions_df['last_watch_dt'] = pd.to_datetime(interactions_df['last_watch_dt'])"
      ],
      "metadata": {
        "id": "xn9HWHLcVWzc"
      },
      "execution_count": null,
      "outputs": []
    },
    {
      "cell_type": "code",
      "source": [
        "def split_df(df, n_days):\n",
        "  test_df = df[df['last_watch_dt'] >= df['last_watch_dt'].max() - pd.DateOffset(days=n_days)].copy()\n",
        "  train_df = df[df['last_watch_dt'] < df['last_watch_dt'].max() - pd.DateOffset(days=n_days)].copy()\n",
        "\n",
        "  return train_df.loc[:, ['user_id', 'item_id', 'watched_pct']], test_df.loc[:, ['user_id', 'item_id', 'watched_pct']]"
      ],
      "metadata": {
        "id": "wjyGseL4LGw7"
      },
      "execution_count": null,
      "outputs": []
    },
    {
      "cell_type": "code",
      "source": [
        "train_df, test_df = split_df(interactions_df, 7)"
      ],
      "metadata": {
        "id": "ObL4hiLWLIiV"
      },
      "execution_count": null,
      "outputs": []
    },
    {
      "cell_type": "code",
      "source": [],
      "metadata": {
        "id": "vTkFfeyNpXTJ"
      },
      "execution_count": null,
      "outputs": []
    },
    {
      "cell_type": "code",
      "source": [
        "from lightfm.data import Dataset\n",
        "dataset = Dataset()\n",
        "item_features = tuple(map(lambda x: tuple(x), items_df.loc[:, ['directors']].values.tolist()))\n",
        "dataset.fit(train_df['user_id'], train_df['item_id'], item_features=items_df['directors'].values)\n",
        "\n",
        "# Добавим пользователей и фильмы из test без взаимодействий чтобы потом по ним можно было делать предикты\n",
        "dataset.fit_partial(users=test_df['user_id'], items=test_df['item_id'])"
      ],
      "metadata": {
        "id": "qHQ6m_wZJ_Zo"
      },
      "execution_count": null,
      "outputs": []
    },
    {
      "cell_type": "code",
      "source": [
        "interactions, weights = dataset.build_interactions(train_df.loc[:, ['user_id', 'item_id']].values.tolist())"
      ],
      "metadata": {
        "id": "mSdBoSyXJ_b0"
      },
      "execution_count": null,
      "outputs": []
    },
    {
      "cell_type": "code",
      "source": [
        "items_with_interations_df = items_df[items_df['item_id'].isin(train_df['item_id'])]\n",
        "features = [[v[0], v[1:].values.tolist()] for i, v in items_with_interations_df.loc[:, ['item_id', 'directors']].iterrows()]\n",
        "item_features = dataset.build_item_features(features)"
      ],
      "metadata": {
        "id": "gHceZylxJ_eC"
      },
      "execution_count": null,
      "outputs": []
    },
    {
      "cell_type": "code",
      "source": [
        "from lightfm import LightFM\n",
        "\n",
        "model = LightFM(loss='bpr')\n",
        "model.fit(interactions, item_features=item_features)\n",
        "model.fit(interactions)"
      ],
      "metadata": {
        "colab": {
          "base_uri": "https://localhost:8080/"
        },
        "id": "D41EJjXCUHjd",
        "outputId": "34e0fa31-d93d-455f-b370-c8baf420bb0a"
      },
      "execution_count": null,
      "outputs": [
        {
          "output_type": "execute_result",
          "data": {
            "text/plain": [
              "<lightfm.lightfm.LightFM at 0x7811b8128a30>"
            ]
          },
          "metadata": {},
          "execution_count": 187
        }
      ]
    },
    {
      "cell_type": "code",
      "source": [
        "from tqdm.notebook import tqdm\n",
        "\n",
        "batch = 10\n",
        "preds_total = {}\n",
        "users_to_predict = [dataset._user_id_mapping[x] for x in test_df['user_id'].unique()]\n",
        "movies_to_predict = [dataset._item_id_mapping[x] for x in test_df['item_id'].unique()]\n",
        "\n",
        "reversed_item_mapping = {v: k for k, v in dataset._item_id_mapping.items()}\n",
        "reversed_user_mapping = {v: k for k, v in dataset._user_id_mapping.items()}\n",
        "\n",
        "for i in tqdm(range(len(users_to_predict)//batch+1)):\n",
        "  user_id = users_to_predict[i*batch : (i+1)*batch]\n",
        "  user_preds = model.predict(user_id*len(movies_to_predict), movies_to_predict*len(user_id))\n",
        "  user_preds = np.array(user_preds).reshape(len(user_id), len(movies_to_predict))\n",
        "\n",
        "\n",
        "  preds_sorted = np.argpartition(user_preds, -len(user_id))[:, -len(user_id):][:, ::-1]\n",
        "  for j in range(len(user_id)):\n",
        "    preds_total[reversed_user_mapping[user_id[j]]] = preds_sorted[j]\n",
        "preds_original = {k: [reversed_item_mapping[movies_to_predict[x]] for x in v.tolist()] for k, v in preds_total.items()}"
      ],
      "metadata": {
        "colab": {
          "base_uri": "https://localhost:8080/",
          "height": 49,
          "referenced_widgets": [
            "71a756c710f1408a9f7be6af58b73046",
            "df140259545a47eeb4b282532e6fa659",
            "323eba2036be4cb39b9cf0cb44c111b8",
            "3804a1ed3a8247f08f53576dc2d7d50e",
            "724d24cd609944fd992a993af012d3e6",
            "e2987af2d0034ce5a5d52e1e558eac45",
            "1fe626aefc4a40a9adb65eb9b01c1ade",
            "554b1817bf704aa09d99781e49c84b92",
            "1848f4240789409f95288b3d3726360d",
            "47a84245ff0f4a3598bde92b4e416e92",
            "03dcf4c5eed84798b48a2b10e031b605"
          ]
        },
        "id": "-VB6mXjWS4rm",
        "outputId": "16453fed-42b6-48ff-8ab7-5955f0e30951"
      },
      "execution_count": null,
      "outputs": [
        {
          "output_type": "display_data",
          "data": {
            "text/plain": [
              "  0%|          | 0/18591 [00:00<?, ?it/s]"
            ],
            "application/vnd.jupyter.widget-view+json": {
              "version_major": 2,
              "version_minor": 0,
              "model_id": "71a756c710f1408a9f7be6af58b73046"
            }
          },
          "metadata": {}
        }
      ]
    },
    {
      "cell_type": "code",
      "source": [
        "test_users = pd.DataFrame({'user_id': test_df['user_id'].unique()})\n",
        "test_users['predict'] = test_users.apply(lambda x: preds_original[x.values[0]], axis=1)"
      ],
      "metadata": {
        "id": "CNT5NGsdbXtL"
      },
      "execution_count": null,
      "outputs": []
    },
    {
      "cell_type": "code",
      "source": [
        "def map_at_k(interactions, predicts, k):\n",
        "  map_list = []\n",
        "  for user in predicts['user_id'].values:\n",
        "    user_interactions = interactions[interactions['user_id'] == user]\n",
        "    user_predicts = predicts[predicts['user_id'] == user]\n",
        "    max_k = min(len(user_interactions), k)\n",
        "    user_precision = []\n",
        "    for i in range(1, max_k + 1):\n",
        "      precision = len(set(user_predicts['predict'].values[0][:i])&set(user_interactions['item_id'].values[:i]))/i\n",
        "      user_precision.append(precision)\n",
        "    map_list.append(np.mean(user_precision))\n",
        "  return np.mean(map_list)"
      ],
      "metadata": {
        "id": "YMxQanYFgzxY"
      },
      "execution_count": null,
      "outputs": []
    },
    {
      "cell_type": "code",
      "source": [
        "map_at_10 = map_at_k(test_df, test_users, 10)"
      ],
      "metadata": {
        "id": "Xwe3rFKmr41K"
      },
      "execution_count": null,
      "outputs": []
    },
    {
      "cell_type": "code",
      "source": [
        "print(f'MAP@10: {map_at_10}')"
      ],
      "metadata": {
        "colab": {
          "base_uri": "https://localhost:8080/"
        },
        "id": "thpE-xBlroOe",
        "outputId": "5e76442c-e95f-4c8f-9098-bfbfb76cdfa8"
      },
      "execution_count": null,
      "outputs": [
        {
          "output_type": "stream",
          "name": "stdout",
          "text": [
            "MAP@10: 0.033681072014440885\n"
          ]
        }
      ]
    },
    {
      "cell_type": "code",
      "source": [],
      "metadata": {
        "id": "J6BnPsGHserm"
      },
      "execution_count": null,
      "outputs": []
    }
  ]
}
