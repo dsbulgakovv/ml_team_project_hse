{
  "cells": [
    {
      "cell_type": "markdown",
      "metadata": {
        "id": "PU3_ScFPNz-f"
      },
      "source": [
        "Данный ноутбук является частью проекта \"Рекомендательные системы с элементами NLP\" команды МОВС ВШЭ"
      ]
    },
    {
      "cell_type": "code",
      "execution_count": null,
      "metadata": {
        "colab": {
          "base_uri": "https://localhost:8080/"
        },
        "id": "tCQjOfzBJUfu",
        "outputId": "0e68131f-2e85-4dbe-d8a0-b1765432f0be"
      },
      "outputs": [
        {
          "name": "stdout",
          "output_type": "stream",
          "text": [
            "Requirement already satisfied: lightfm in /usr/local/lib/python3.10/dist-packages (1.17)\n",
            "Requirement already satisfied: numpy in /usr/local/lib/python3.10/dist-packages (from lightfm) (1.23.5)\n",
            "Requirement already satisfied: scipy>=0.17.0 in /usr/local/lib/python3.10/dist-packages (from lightfm) (1.11.4)\n",
            "Requirement already satisfied: requests in /usr/local/lib/python3.10/dist-packages (from lightfm) (2.31.0)\n",
            "Requirement already satisfied: scikit-learn in /usr/local/lib/python3.10/dist-packages (from lightfm) (1.2.2)\n",
            "Requirement already satisfied: charset-normalizer<4,>=2 in /usr/local/lib/python3.10/dist-packages (from requests->lightfm) (3.3.2)\n",
            "Requirement already satisfied: idna<4,>=2.5 in /usr/local/lib/python3.10/dist-packages (from requests->lightfm) (3.6)\n",
            "Requirement already satisfied: urllib3<3,>=1.21.1 in /usr/local/lib/python3.10/dist-packages (from requests->lightfm) (2.0.7)\n",
            "Requirement already satisfied: certifi>=2017.4.17 in /usr/local/lib/python3.10/dist-packages (from requests->lightfm) (2023.11.17)\n",
            "Requirement already satisfied: joblib>=1.1.1 in /usr/local/lib/python3.10/dist-packages (from scikit-learn->lightfm) (1.3.2)\n",
            "Requirement already satisfied: threadpoolctl>=2.0.0 in /usr/local/lib/python3.10/dist-packages (from scikit-learn->lightfm) (3.2.0)\n"
          ]
        }
      ],
      "source": [
        "!pip install lightfm"
      ]
    },
    {
      "cell_type": "code",
      "execution_count": null,
      "metadata": {
        "id": "G619rXS_CK0F"
      },
      "outputs": [],
      "source": [
        "from datetime import datetime\n",
        "from matplotlib import pyplot as plt\n",
        "from scipy import stats\n",
        "\n",
        "import pandas as pd\n",
        "import seaborn as sb\n",
        "import numpy as np\n",
        "import requests\n",
        "import pickle"
      ]
    },
    {
      "cell_type": "markdown",
      "metadata": {
        "id": "aHwN0QekCoSl"
      },
      "source": [
        "# Загружаем данные"
      ]
    },
    {
      "cell_type": "code",
      "execution_count": null,
      "metadata": {
        "id": "xn9HWHLcVWzc"
      },
      "outputs": [],
      "source": [
        "items_df = pd.read_csv('items.csv')\n",
        "users_df = pd.read_csv('users.csv')\n",
        "interactions_df = pd.read_csv('interactions.csv')\n",
        "interactions_df['last_watch_dt'] = pd.to_datetime(interactions_df['last_watch_dt'])"
      ]
    },
    {
      "cell_type": "code",
      "execution_count": null,
      "metadata": {
        "id": "wjyGseL4LGw7"
      },
      "outputs": [],
      "source": [
        "def split_df(df, n_days):\n",
        "  test_df = df[df['last_watch_dt'] >= df['last_watch_dt'].max() - pd.DateOffset(days=n_days)].copy()\n",
        "  train_df = df[df['last_watch_dt'] < df['last_watch_dt'].max() - pd.DateOffset(days=n_days)].copy()\n",
        "\n",
        "  return train_df.loc[:, ['user_id', 'item_id', 'watched_pct']], test_df.loc[:, ['user_id', 'item_id', 'watched_pct']]"
      ]
    },
    {
      "cell_type": "code",
      "execution_count": null,
      "metadata": {
        "id": "ObL4hiLWLIiV"
      },
      "outputs": [],
      "source": [
        "train_df, test_df = split_df(interactions_df, 7)"
      ]
    },
    {
      "cell_type": "code",
      "execution_count": null,
      "metadata": {
        "id": "qHQ6m_wZJ_Zo"
      },
      "outputs": [],
      "source": [
        "from lightfm.data import Dataset\n",
        "dataset = Dataset()\n",
        "item_features = tuple(map(lambda x: tuple(x), items_df.loc[:, ['directors']].values.tolist()))\n",
        "dataset.fit(train_df['user_id'], train_df['item_id'], item_features=items_df['directors'].values)\n",
        "\n",
        "# Добавим пользователей и фильмы из test без взаимодействий чтобы потом по ним можно было делать предикты\n",
        "dataset.fit_partial(users=test_df['user_id'], items=test_df['item_id'])"
      ]
    },
    {
      "cell_type": "code",
      "execution_count": null,
      "metadata": {
        "id": "mSdBoSyXJ_b0"
      },
      "outputs": [],
      "source": [
        "interactions, weights = dataset.build_interactions(train_df.loc[:, ['user_id', 'item_id']].values.tolist())"
      ]
    },
    {
      "cell_type": "code",
      "execution_count": null,
      "metadata": {
        "id": "gHceZylxJ_eC"
      },
      "outputs": [],
      "source": [
        "items_with_interations_df = items_df[items_df['item_id'].isin(train_df['item_id'])]\n",
        "features = [[v[0], v[1:].values.tolist()] for i, v in items_with_interations_df.loc[:, ['item_id', 'directors']].iterrows()]\n",
        "item_features = dataset.build_item_features(features)"
      ]
    },
    {
      "cell_type": "code",
      "execution_count": null,
      "metadata": {
        "colab": {
          "base_uri": "https://localhost:8080/"
        },
        "id": "D41EJjXCUHjd",
        "outputId": "4b917460-ccfc-4448-8e14-7d38e0478c30"
      },
      "outputs": [
        {
          "data": {
            "text/plain": [
              "<lightfm.lightfm.LightFM at 0x7962da68ef80>"
            ]
          },
          "execution_count": 20,
          "metadata": {},
          "output_type": "execute_result"
        }
      ],
      "source": [
        "from lightfm import LightFM\n",
        "\n",
        "model = LightFM(loss='bpr')\n",
        "model.fit(interactions, item_features=item_features)\n",
        "model.fit(interactions)"
      ]
    },
    {
      "cell_type": "code",
      "execution_count": null,
      "metadata": {
        "colab": {
          "base_uri": "https://localhost:8080/",
          "height": 49,
          "referenced_widgets": [
            "d204d938906d4b38ae4ae1e88aa5ca0f",
            "556aab3458e24d718df9021e331a85d2",
            "9e453df2861b483a87afc8610748dbae",
            "1bc92c8e6cd44b2595bb664df1967e1f",
            "7a453f7af3704389954771eae74a5af8",
            "992fc7e3d4464219a368e1777fb712e4",
            "c7f152164d194287b0b801a164ef5c0b",
            "babb1490b4744e34be1c5b216647cb8f",
            "0fd358a1abeb448a83ef2af713b12f1d",
            "11df0a834a5349628cfaaad7c94cbc3b",
            "ce29d166ccac4054a03ae38c510a17cf"
          ]
        },
        "id": "-VB6mXjWS4rm",
        "outputId": "308cefb6-e519-480b-e23c-c3fc0e811f01"
      },
      "outputs": [
        {
          "data": {
            "application/vnd.jupyter.widget-view+json": {
              "model_id": "d204d938906d4b38ae4ae1e88aa5ca0f",
              "version_major": 2,
              "version_minor": 0
            },
            "text/plain": [
              "  0%|          | 0/18591 [00:00<?, ?it/s]"
            ]
          },
          "metadata": {},
          "output_type": "display_data"
        }
      ],
      "source": [
        "from tqdm.notebook import tqdm\n",
        "\n",
        "batch = 10\n",
        "preds_total = {}\n",
        "users_to_predict = [dataset._user_id_mapping[x] for x in test_df['user_id'].unique()]\n",
        "movies_to_predict = [dataset._item_id_mapping[x] for x in test_df['item_id'].unique()]\n",
        "\n",
        "reversed_item_mapping = {v: k for k, v in dataset._item_id_mapping.items()}\n",
        "reversed_user_mapping = {v: k for k, v in dataset._user_id_mapping.items()}\n",
        "\n",
        "for i in tqdm(range(len(users_to_predict)//batch+1)):\n",
        "  user_id = users_to_predict[i*batch : (i+1)*batch]\n",
        "  user_preds = model.predict(user_id*len(movies_to_predict), movies_to_predict*len(user_id))\n",
        "  user_preds = np.array(user_preds).reshape(len(user_id), len(movies_to_predict))\n",
        "\n",
        "\n",
        "  preds_sorted = np.argpartition(user_preds, -len(user_id))[:, -len(user_id):][:, ::-1]\n",
        "  for j in range(len(user_id)):\n",
        "    preds_total[reversed_user_mapping[user_id[j]]] = preds_sorted[j]\n",
        "preds_original = {k: [reversed_item_mapping[movies_to_predict[x]] for x in v.tolist()] for k, v in preds_total.items()}"
      ]
    },
    {
      "cell_type": "code",
      "execution_count": null,
      "metadata": {
        "id": "CNT5NGsdbXtL"
      },
      "outputs": [],
      "source": [
        "test_users = pd.DataFrame({'user_id': test_df['user_id'].unique()})\n",
        "test_users['predict'] = test_users.apply(lambda x: preds_original[x.values[0]], axis=1)"
      ]
    },
    {
      "cell_type": "code",
      "execution_count": null,
      "metadata": {
        "id": "YMxQanYFgzxY"
      },
      "outputs": [],
      "source": [
        "def map_at_k(interactions, predicts, k):\n",
        "  map_list = []\n",
        "  for user in predicts['user_id'].values:\n",
        "    user_interactions = interactions[interactions['user_id'] == user]\n",
        "    user_predicts = predicts[predicts['user_id'] == user]\n",
        "    max_k = min(len(user_interactions), k)\n",
        "    user_precision = []\n",
        "    for i in range(1, max_k + 1):\n",
        "      precision = len(set(user_predicts['predict'].values[0][:i])&set(user_interactions['item_id'].values[:i]))/i\n",
        "      user_precision.append(precision)\n",
        "    map_list.append(np.mean(user_precision))\n",
        "  return np.mean(map_list)"
      ]
    },
    {
      "cell_type": "code",
      "execution_count": null,
      "metadata": {
        "colab": {
          "background_save": true
        },
        "id": "Xwe3rFKmr41K"
      },
      "outputs": [],
      "source": [
        "map_at_10 = map_at_k(test_df, test_users, 10)"
      ]
    },
    {
      "cell_type": "code",
      "execution_count": null,
      "metadata": {
        "colab": {
          "background_save": true
        },
        "id": "thpE-xBlroOe",
        "outputId": "76316ec4-f044-47a5-8ed4-d011149f48a3"
      },
      "outputs": [
        {
          "name": "stdout",
          "output_type": "stream",
          "text": [
            "MAP@10: 0.03202724657669472\n"
          ]
        }
      ],
      "source": [
        "print(f'MAP@10: {map_at_10}')"
      ]
    },
    {
      "cell_type": "code",
      "execution_count": 34,
      "metadata": {
        "id": "J6BnPsGHserm"
      },
      "outputs": [],
      "source": [
        "with open('lightfm_model.pkl', 'wb') as f:\n",
        "  pickle.dump(model, f)\n",
        "\n",
        "with open('lightfm_dataset.pkl', 'wb') as f:\n",
        "  pickle.dump(dataset, f)"
      ]
    }
  ],
  "metadata": {
    "colab": {
      "machine_shape": "hm",
      "provenance": []
    },
    "kernelspec": {
      "display_name": "Python 3",
      "name": "python3"
    },
    "language_info": {
      "name": "python"
    },
    "widgets": {
      "application/vnd.jupyter.widget-state+json": {
        "0fd358a1abeb448a83ef2af713b12f1d": {
          "model_module": "@jupyter-widgets/controls",
          "model_module_version": "1.5.0",
          "model_name": "ProgressStyleModel",
          "state": {
            "_model_module": "@jupyter-widgets/controls",
            "_model_module_version": "1.5.0",
            "_model_name": "ProgressStyleModel",
            "_view_count": null,
            "_view_module": "@jupyter-widgets/base",
            "_view_module_version": "1.2.0",
            "_view_name": "StyleView",
            "bar_color": null,
            "description_width": ""
          }
        },
        "11df0a834a5349628cfaaad7c94cbc3b": {
          "model_module": "@jupyter-widgets/base",
          "model_module_version": "1.2.0",
          "model_name": "LayoutModel",
          "state": {
            "_model_module": "@jupyter-widgets/base",
            "_model_module_version": "1.2.0",
            "_model_name": "LayoutModel",
            "_view_count": null,
            "_view_module": "@jupyter-widgets/base",
            "_view_module_version": "1.2.0",
            "_view_name": "LayoutView",
            "align_content": null,
            "align_items": null,
            "align_self": null,
            "border": null,
            "bottom": null,
            "display": null,
            "flex": null,
            "flex_flow": null,
            "grid_area": null,
            "grid_auto_columns": null,
            "grid_auto_flow": null,
            "grid_auto_rows": null,
            "grid_column": null,
            "grid_gap": null,
            "grid_row": null,
            "grid_template_areas": null,
            "grid_template_columns": null,
            "grid_template_rows": null,
            "height": null,
            "justify_content": null,
            "justify_items": null,
            "left": null,
            "margin": null,
            "max_height": null,
            "max_width": null,
            "min_height": null,
            "min_width": null,
            "object_fit": null,
            "object_position": null,
            "order": null,
            "overflow": null,
            "overflow_x": null,
            "overflow_y": null,
            "padding": null,
            "right": null,
            "top": null,
            "visibility": null,
            "width": null
          }
        },
        "1bc92c8e6cd44b2595bb664df1967e1f": {
          "model_module": "@jupyter-widgets/controls",
          "model_module_version": "1.5.0",
          "model_name": "HTMLModel",
          "state": {
            "_dom_classes": [],
            "_model_module": "@jupyter-widgets/controls",
            "_model_module_version": "1.5.0",
            "_model_name": "HTMLModel",
            "_view_count": null,
            "_view_module": "@jupyter-widgets/controls",
            "_view_module_version": "1.5.0",
            "_view_name": "HTMLView",
            "description": "",
            "description_tooltip": null,
            "layout": "IPY_MODEL_11df0a834a5349628cfaaad7c94cbc3b",
            "placeholder": "​",
            "style": "IPY_MODEL_ce29d166ccac4054a03ae38c510a17cf",
            "value": " 18591/18591 [05:15&lt;00:00, 61.23it/s]"
          }
        },
        "556aab3458e24d718df9021e331a85d2": {
          "model_module": "@jupyter-widgets/controls",
          "model_module_version": "1.5.0",
          "model_name": "HTMLModel",
          "state": {
            "_dom_classes": [],
            "_model_module": "@jupyter-widgets/controls",
            "_model_module_version": "1.5.0",
            "_model_name": "HTMLModel",
            "_view_count": null,
            "_view_module": "@jupyter-widgets/controls",
            "_view_module_version": "1.5.0",
            "_view_name": "HTMLView",
            "description": "",
            "description_tooltip": null,
            "layout": "IPY_MODEL_992fc7e3d4464219a368e1777fb712e4",
            "placeholder": "​",
            "style": "IPY_MODEL_c7f152164d194287b0b801a164ef5c0b",
            "value": "100%"
          }
        },
        "7a453f7af3704389954771eae74a5af8": {
          "model_module": "@jupyter-widgets/base",
          "model_module_version": "1.2.0",
          "model_name": "LayoutModel",
          "state": {
            "_model_module": "@jupyter-widgets/base",
            "_model_module_version": "1.2.0",
            "_model_name": "LayoutModel",
            "_view_count": null,
            "_view_module": "@jupyter-widgets/base",
            "_view_module_version": "1.2.0",
            "_view_name": "LayoutView",
            "align_content": null,
            "align_items": null,
            "align_self": null,
            "border": null,
            "bottom": null,
            "display": null,
            "flex": null,
            "flex_flow": null,
            "grid_area": null,
            "grid_auto_columns": null,
            "grid_auto_flow": null,
            "grid_auto_rows": null,
            "grid_column": null,
            "grid_gap": null,
            "grid_row": null,
            "grid_template_areas": null,
            "grid_template_columns": null,
            "grid_template_rows": null,
            "height": null,
            "justify_content": null,
            "justify_items": null,
            "left": null,
            "margin": null,
            "max_height": null,
            "max_width": null,
            "min_height": null,
            "min_width": null,
            "object_fit": null,
            "object_position": null,
            "order": null,
            "overflow": null,
            "overflow_x": null,
            "overflow_y": null,
            "padding": null,
            "right": null,
            "top": null,
            "visibility": null,
            "width": null
          }
        },
        "992fc7e3d4464219a368e1777fb712e4": {
          "model_module": "@jupyter-widgets/base",
          "model_module_version": "1.2.0",
          "model_name": "LayoutModel",
          "state": {
            "_model_module": "@jupyter-widgets/base",
            "_model_module_version": "1.2.0",
            "_model_name": "LayoutModel",
            "_view_count": null,
            "_view_module": "@jupyter-widgets/base",
            "_view_module_version": "1.2.0",
            "_view_name": "LayoutView",
            "align_content": null,
            "align_items": null,
            "align_self": null,
            "border": null,
            "bottom": null,
            "display": null,
            "flex": null,
            "flex_flow": null,
            "grid_area": null,
            "grid_auto_columns": null,
            "grid_auto_flow": null,
            "grid_auto_rows": null,
            "grid_column": null,
            "grid_gap": null,
            "grid_row": null,
            "grid_template_areas": null,
            "grid_template_columns": null,
            "grid_template_rows": null,
            "height": null,
            "justify_content": null,
            "justify_items": null,
            "left": null,
            "margin": null,
            "max_height": null,
            "max_width": null,
            "min_height": null,
            "min_width": null,
            "object_fit": null,
            "object_position": null,
            "order": null,
            "overflow": null,
            "overflow_x": null,
            "overflow_y": null,
            "padding": null,
            "right": null,
            "top": null,
            "visibility": null,
            "width": null
          }
        },
        "9e453df2861b483a87afc8610748dbae": {
          "model_module": "@jupyter-widgets/controls",
          "model_module_version": "1.5.0",
          "model_name": "FloatProgressModel",
          "state": {
            "_dom_classes": [],
            "_model_module": "@jupyter-widgets/controls",
            "_model_module_version": "1.5.0",
            "_model_name": "FloatProgressModel",
            "_view_count": null,
            "_view_module": "@jupyter-widgets/controls",
            "_view_module_version": "1.5.0",
            "_view_name": "ProgressView",
            "bar_style": "success",
            "description": "",
            "description_tooltip": null,
            "layout": "IPY_MODEL_babb1490b4744e34be1c5b216647cb8f",
            "max": 18591,
            "min": 0,
            "orientation": "horizontal",
            "style": "IPY_MODEL_0fd358a1abeb448a83ef2af713b12f1d",
            "value": 18591
          }
        },
        "babb1490b4744e34be1c5b216647cb8f": {
          "model_module": "@jupyter-widgets/base",
          "model_module_version": "1.2.0",
          "model_name": "LayoutModel",
          "state": {
            "_model_module": "@jupyter-widgets/base",
            "_model_module_version": "1.2.0",
            "_model_name": "LayoutModel",
            "_view_count": null,
            "_view_module": "@jupyter-widgets/base",
            "_view_module_version": "1.2.0",
            "_view_name": "LayoutView",
            "align_content": null,
            "align_items": null,
            "align_self": null,
            "border": null,
            "bottom": null,
            "display": null,
            "flex": null,
            "flex_flow": null,
            "grid_area": null,
            "grid_auto_columns": null,
            "grid_auto_flow": null,
            "grid_auto_rows": null,
            "grid_column": null,
            "grid_gap": null,
            "grid_row": null,
            "grid_template_areas": null,
            "grid_template_columns": null,
            "grid_template_rows": null,
            "height": null,
            "justify_content": null,
            "justify_items": null,
            "left": null,
            "margin": null,
            "max_height": null,
            "max_width": null,
            "min_height": null,
            "min_width": null,
            "object_fit": null,
            "object_position": null,
            "order": null,
            "overflow": null,
            "overflow_x": null,
            "overflow_y": null,
            "padding": null,
            "right": null,
            "top": null,
            "visibility": null,
            "width": null
          }
        },
        "c7f152164d194287b0b801a164ef5c0b": {
          "model_module": "@jupyter-widgets/controls",
          "model_module_version": "1.5.0",
          "model_name": "DescriptionStyleModel",
          "state": {
            "_model_module": "@jupyter-widgets/controls",
            "_model_module_version": "1.5.0",
            "_model_name": "DescriptionStyleModel",
            "_view_count": null,
            "_view_module": "@jupyter-widgets/base",
            "_view_module_version": "1.2.0",
            "_view_name": "StyleView",
            "description_width": ""
          }
        },
        "ce29d166ccac4054a03ae38c510a17cf": {
          "model_module": "@jupyter-widgets/controls",
          "model_module_version": "1.5.0",
          "model_name": "DescriptionStyleModel",
          "state": {
            "_model_module": "@jupyter-widgets/controls",
            "_model_module_version": "1.5.0",
            "_model_name": "DescriptionStyleModel",
            "_view_count": null,
            "_view_module": "@jupyter-widgets/base",
            "_view_module_version": "1.2.0",
            "_view_name": "StyleView",
            "description_width": ""
          }
        },
        "d204d938906d4b38ae4ae1e88aa5ca0f": {
          "model_module": "@jupyter-widgets/controls",
          "model_module_version": "1.5.0",
          "model_name": "HBoxModel",
          "state": {
            "_dom_classes": [],
            "_model_module": "@jupyter-widgets/controls",
            "_model_module_version": "1.5.0",
            "_model_name": "HBoxModel",
            "_view_count": null,
            "_view_module": "@jupyter-widgets/controls",
            "_view_module_version": "1.5.0",
            "_view_name": "HBoxView",
            "box_style": "",
            "children": [
              "IPY_MODEL_556aab3458e24d718df9021e331a85d2",
              "IPY_MODEL_9e453df2861b483a87afc8610748dbae",
              "IPY_MODEL_1bc92c8e6cd44b2595bb664df1967e1f"
            ],
            "layout": "IPY_MODEL_7a453f7af3704389954771eae74a5af8"
          }
        }
      }
    }
  },
  "nbformat": 4,
  "nbformat_minor": 0
}
